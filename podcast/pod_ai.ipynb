{
 "cells": [
  {
   "cell_type": "code",
   "execution_count": 2,
   "metadata": {
    "metadata": {}
   },
   "outputs": [
    {
     "name": "stdout",
     "output_type": "stream",
     "text": [
      "The autoreload extension is already loaded. To reload it, use:\n",
      "  %reload_ext autoreload\n"
     ]
    }
   ],
   "source": [
    "import json\n",
    "import os\n",
    "from pathlib import Path\n",
    "from typing import Annotated, Optional\n",
    "from uuid import uuid4\n",
    "\n",
    "import anthropic\n",
    "import instructor\n",
    "import openai\n",
    "from dotenv import load_dotenv\n",
    "from pydantic import BaseModel, BeforeValidator, Field, field_validator, model_validator\n",
    "\n",
    "from dreamai.ai import ModelName, assistant_message, system_message, user_message\n",
    "from dreamai.utils import deindent\n",
    "\n",
    "load_dotenv()\n",
    "\n",
    "ask_oai = instructor.from_openai(openai.OpenAI())\n",
    "ask_cld = instructor.from_anthropic(anthropic.Anthropic())\n",
    "\n",
    "%load_ext autoreload\n",
    "%autoreload 2\n",
    "%reload_ext autoreload"
   ]
  },
  {
   "cell_type": "code",
   "execution_count": 45,
   "metadata": {
    "metadata": {}
   },
   "outputs": [],
   "source": [
    "class Info(BaseModel):\n",
    "    answer: str = Field(\n",
    "        ..., description=\"The answer to the user's question about the podcast.\"\n",
    "    )\n",
    "    timestamps: list[float] = Field(\n",
    "        ..., description=\"The timestamps in the transcript where the answer was found.\"\n",
    "    )\n",
    "\n",
    "    @field_validator(\"timestamps\")\n",
    "    @classmethod\n",
    "    def sort_timestamps(cls, timestamps) -> list[float]:\n",
    "        return sorted(timestamps)"
   ]
  },
  {
   "cell_type": "code",
   "execution_count": 51,
   "metadata": {
    "metadata": {}
   },
   "outputs": [],
   "source": [
    "def merge_same_role_messages(messages: list[dict]) -> list[dict]:\n",
    "    if not messages:\n",
    "        return []\n",
    "    new_messages = []\n",
    "    last_message = None\n",
    "    for message in messages:\n",
    "        if last_message is None:\n",
    "            last_message = message\n",
    "        elif last_message[\"role\"] == message[\"role\"]:\n",
    "            last_message[\"content\"] += \"\\n\\n\" + message[\"content\"]\n",
    "        else:\n",
    "            new_messages.append(last_message)\n",
    "            last_message = message\n",
    "    if last_message is not None:\n",
    "        new_messages.append(last_message)\n",
    "    return new_messages\n",
    "\n",
    "\n",
    "def get_segments_between(\n",
    "    segments: list[dict], start: float = 0, end: float = float(\"inf\")\n",
    ") -> list[dict]:\n",
    "    return [\n",
    "        segment\n",
    "        for segment in segments\n",
    "        if segment[\"start\"] >= start and segment[\"start\"] <= end\n",
    "    ]\n",
    "\n",
    "\n",
    "def merge_consecutive_segments(segments: list[dict]) -> list[dict]:\n",
    "    merged_segments = []\n",
    "    for segment in segments:\n",
    "        if not merged_segments:\n",
    "            merged_segments.append(segment)\n",
    "        else:\n",
    "            last_segment = merged_segments[-1]\n",
    "            if last_segment[\"end\"] == segment[\"start\"]:\n",
    "                last_segment[\"end\"] = segment[\"end\"]\n",
    "            else:\n",
    "                merged_segments.append(segment)\n",
    "    return merged_segments"
   ]
  },
  {
   "cell_type": "code",
   "execution_count": 33,
   "metadata": {
    "metadata": {}
   },
   "outputs": [],
   "source": [
    "sys_message = deindent(\n",
    "    \"\"\"\n",
    "You are an avid listener of podcasts and you have world class information retention.\n",
    "You will be a given a part of a transcript from a podcast episode and you will be asked to answer questions based on the information in the transcript.\n",
    "Also return the timestamp of the segment in the podcast where the answer was found.\n",
    "\"\"\"\n",
    ")"
   ]
  },
  {
   "cell_type": "code",
   "execution_count": 55,
   "metadata": {
    "metadata": {}
   },
   "outputs": [],
   "source": [
    "segments = json.load(open(\"segments.json\"))"
   ]
  },
  {
   "cell_type": "code",
   "execution_count": 34,
   "metadata": {
    "metadata": {}
   },
   "outputs": [],
   "source": [
    "timestamp = 60\n",
    "segments_until_timestamp = get_segments_between(segments, end=timestamp)"
   ]
  },
  {
   "cell_type": "code",
   "execution_count": 40,
   "metadata": {
    "metadata": {}
   },
   "outputs": [
    {
     "name": "stdout",
     "output_type": "stream",
     "text": [
      "TRANSCRIPT UNTIL 60 SECONDS\n",
      "\n",
      "[{\"start\": 0.0, \"end\": 2.72, \"text\": \" The Athletic\"}, {\"start\": 2.72, \"end\": 14.36, \"text\": \" Hello, welcome back to the athletic football tactics podcast,\"}, {\"start\": 14.82, \"end\": 19.0, \"text\": \" where this week we are talking about superstars and systems\"}, {\"start\": 19.0, \"end\": 23.06, \"text\": \" in an era where superstar status is still rampant in media coverage\"}, {\"start\": 23.06, \"end\": 25.080000000000002, \"text\": \" and the fan experience around football,\"}, {\"start\": 25.42, \"end\": 28.98, \"text\": \" is that reflected with what we see on the pitch at the top level?\"}, {\"start\": 28.98, \"end\": 31.7, \"text\": \" No superstars here in the studio,\"}, {\"start\": 31.86, \"end\": 35.26, \"text\": \" just a trio of athletic writers with perfect alchemy\"}, {\"start\": 35.26, \"end\": 38.56, \"text\": \" Mark Carey, Liam Thumb and Michael Cox, join me.\"}, {\"start\": 38.64, \"end\": 39.06, \"text\": \" Hi, guys.\"}, {\"start\": 39.18, \"end\": 40.18, \"text\": \" Hi, Ali.\"}, {\"start\": 40.84, \"end\": 43.28, \"text\": \" I am Ali Maxwell, the dutiful water carrier,\"}, {\"start\": 43.620000000000005, \"end\": 46.400000000000006, \"text\": \" just mopping up and allowing you guys to shine.\"}, {\"start\": 51.3, \"end\": 54.86, \"text\": \" The provocative way of framing the start of this discussion, Michael,\"}, {\"start\": 54.86, \"end\": 58.82, \"text\": \" is do teams want superstars anymore?\"}]\n"
     ]
    }
   ],
   "source": [
    "transcript_message = user_message(\n",
    "    f\"TRANSCRIPT UNTIL {timestamp} SECONDS\\n\\n{json.dumps(segments_until_timestamp)}\"\n",
    ")\n",
    "print(transcript_message[\"content\"])"
   ]
  },
  {
   "cell_type": "code",
   "execution_count": 41,
   "metadata": {
    "metadata": {}
   },
   "outputs": [],
   "source": [
    "query_message = user_message(\"Who is on today's episode?\")\n",
    "\n",
    "messages = [transcript_message, query_message]"
   ]
  },
  {
   "cell_type": "code",
   "execution_count": 46,
   "metadata": {
    "metadata": {}
   },
   "outputs": [],
   "source": [
    "info = ask_cld.create(\n",
    "    system=sys_message,\n",
    "    messages=merge_same_role_messages(messages),  # type: ignore\n",
    "    model=ModelName.HAIKU,\n",
    "    max_tokens=1024,\n",
    "    response_model=Info,\n",
    ")"
   ]
  },
  {
   "cell_type": "code",
   "execution_count": 47,
   "metadata": {
    "metadata": {}
   },
   "outputs": [
    {
     "data": {
      "text/plain": [
       "Info(answer=\"The people on today's episode are Mark Carey, Liam Thumb, and Michael Cox.\", timestamps=[35.26, 38.56])"
      ]
     },
     "execution_count": 47,
     "metadata": {},
     "output_type": "execute_result"
    }
   ],
   "source": [
    "info"
   ]
  },
  {
   "cell_type": "code",
   "execution_count": 53,
   "metadata": {
    "metadata": {}
   },
   "outputs": [
    {
     "data": {
      "text/plain": [
       "[{'start': 35.26,\n",
       "  'end': 38.56,\n",
       "  'text': ' Mark Carey, Liam Thumb and Michael Cox, join me.'}]"
      ]
     },
     "execution_count": 53,
     "metadata": {},
     "output_type": "execute_result"
    }
   ],
   "source": [
    "info_segments = get_segments_between(\n",
    "    segments=segments, start=info.timestamps[0], end=info.timestamps[-1]\n",
    ")\n",
    "info_segments"
   ]
  },
  {
   "cell_type": "code",
   "execution_count": null,
   "metadata": {},
   "outputs": [],
   "source": []
  }
 ],
 "metadata": {
  "kernelspec": {
   "display_name": ".venv",
   "language": "python",
   "name": "python3"
  },
  "language_info": {
   "codemirror_mode": {
    "name": "ipython",
    "version": 3
   },
   "file_extension": ".py",
   "mimetype": "text/x-python",
   "name": "python",
   "nbconvert_exporter": "python",
   "pygments_lexer": "ipython3",
   "version": "3.11.5"
  }
 },
 "nbformat": 4,
 "nbformat_minor": 2
}
