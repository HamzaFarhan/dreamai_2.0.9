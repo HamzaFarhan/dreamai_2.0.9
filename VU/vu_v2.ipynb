{
 "cells": [
  {
   "cell_type": "code",
   "execution_count": 1,
   "metadata": {},
   "outputs": [
    {
     "name": "stdout",
     "output_type": "stream",
     "text": [
      "The autoreload extension is already loaded. To reload it, use:\n",
      "  %reload_ext autoreload\n"
     ]
    }
   ],
   "source": [
    "import json\n",
    "import os\n",
    "import random\n",
    "import time\n",
    "import typing as _t\n",
    "from pathlib import Path\n",
    "from uuid import uuid4\n",
    "\n",
    "import anthropic\n",
    "import instructor\n",
    "import openai\n",
    "from dotenv import load_dotenv\n",
    "from pydantic import (\n",
    "    AfterValidator,\n",
    "    BaseModel,\n",
    "    BeforeValidator,\n",
    "    Field,\n",
    "    field_validator,\n",
    "    model_validator,\n",
    ")\n",
    "from vu_panel import (\n",
    "    MAX_CONCEPTS,\n",
    "    MAX_SUBTOPICS,\n",
    "    MIN_CONCEPTS,\n",
    "    MIN_SUBTOPICS,\n",
    "    BaseQuestion,\n",
    "    Concept,\n",
    "    CreatedTopic,\n",
    "    Question,\n",
    "    Subtopic,\n",
    "    Topic,\n",
    "    Topics,\n",
    ")\n",
    "\n",
    "from dreamai.ai import (\n",
    "    ModelName,\n",
    "    ask_cld_or_oai,\n",
    "    assistant_message,\n",
    "    claude_response,\n",
    "    oai_response,\n",
    "    system_message,\n",
    "    user_message,\n",
    "    count_gpt_tokens,\n",
    ")\n",
    "from dreamai.utils import deindent\n",
    "\n",
    "random.seed(42)\n",
    "\n",
    "load_dotenv()\n",
    "\n",
    "ask_oai = instructor.from_openai(openai.OpenAI())\n",
    "ask_cld = instructor.from_anthropic(anthropic.Anthropic())\n",
    "\n",
    "%load_ext autoreload\n",
    "%autoreload 2\n",
    "%reload_ext autoreload"
   ]
  },
  {
   "cell_type": "code",
   "execution_count": 2,
   "metadata": {},
   "outputs": [],
   "source": [
    "COURSE = \"math_102\"\n",
    "QUESTIONS_PER_FOLDER = 80\n",
    "SYSTEM_PREFIX = \"You are a world class math course instructor.\""
   ]
  },
  {
   "cell_type": "code",
   "execution_count": 19,
   "metadata": {},
   "outputs": [],
   "source": [
    "DAY = 26\n",
    "created_topics_file = Path(f\"{COURSE}_created_topics_may_{DAY}.json\")\n",
    "new_questions_file = Path(f\"{COURSE}_new_questions_may_{DAY}.json\")\n",
    "prerequisities_file = Path(f\"{COURSE}_prerequisities_may_{DAY}.json\")\n",
    "latest_topics_file = Path(f\"{COURSE}_latest_topics_may_{DAY}.json\")"
   ]
  },
  {
   "cell_type": "code",
   "execution_count": 4,
   "metadata": {},
   "outputs": [
    {
     "data": {
      "text/plain": [
       "['Set, its different representations and types of sets',\n",
       " 'Complex numbers their addition, subtraction, multiplication and division and Modulus of a complex number',\n",
       " 'Mapping and their types, function and their types, composite and inverse of a function, addition, subtraction, multiplication and division of functions',\n",
       " 'Quadratic functions and quadratic formula with the types of solutions',\n",
       " 'Matrices with their addition, subtraction  and multiplication , finding the inverse of a matrix using augmented matrix and co-factors. Application of matrices in solving system of linear equations, Crammer rule Determinants',\n",
       " 'Arithmetic and Geometric Sequence with their nth terms and Series sum.',\n",
       " 'Permutations and Combinations with their applications on some real life scenarios',\n",
       " 'Binomial theorem and its applications in generalizing the formulas for higher powers ',\n",
       " 'In coordinate geometry find  the distance between two points, the slope of a line,condition for parallel and perpendicular lines,',\n",
       " 'Circle and equation of circle',\n",
       " 'Graphs of basic trigonometric functions, periodicity of sine and cosine functions, trigonometric identities and their applications to solve a trigonometric equation, Sum and Difference Formulas , Double Angle Formulas ',\n",
       " 'Statistics and its contribution in our life, types of statistics, measurement scales, ',\n",
       " 'Data Representation to analyse and find Measures of Central Tendency , Measures of Dispersion, Partial Fractions and Trigonometric Identities']"
      ]
     },
     "execution_count": 4,
     "metadata": {},
     "output_type": "execute_result"
    }
   ],
   "source": [
    "outline = Path(f\"{COURSE}.txt\").read_text().splitlines()\n",
    "outline"
   ]
  },
  {
   "cell_type": "code",
   "execution_count": 5,
   "metadata": {},
   "outputs": [],
   "source": [
    "# topic_system = f\"\"\"\\\n",
    "# {SYSTEM_PREFIX}\n",
    "# You'll be given a topic description from a course outline and you have to generate a 3-5 word topic name that encapsulates the description.\n",
    "# Then, generate {MIN_SUBTOPICS}-{MAX_SUBTOPICS} subtopics for the topic. Also 3-5 words each.\n",
    "# Then for each subtopic, generate {MIN_CONCEPTS}-{MAX_CONCEPTS} concepts. Also 3-5 words each. The concepts should be related to the subtopic.\n",
    "# Think of concepts as the smallest unit of knowledge that can be taught from the subtopic.\n",
    "# \"\"\"\n",
    "# topics = []\n",
    "# for line in outline:\n",
    "#     topics.append(\n",
    "#         ask_cld_or_oai(\n",
    "#             ask_cld=ask_cld,\n",
    "#             ask_oai=ask_oai,\n",
    "#             model=ModelName.GPT_4,\n",
    "#             response_model=CreatedTopic,\n",
    "#             system=topic_system,\n",
    "#             messages=[\n",
    "#                 user_message(f\"<topic_description>\\n{line}\\n</topic_description>\")\n",
    "#             ],\n",
    "#         )  # type: ignore\n",
    "#     )"
   ]
  },
  {
   "cell_type": "code",
   "execution_count": 6,
   "metadata": {},
   "outputs": [],
   "source": [
    "# topics2 = []\n",
    "# for topic in topics:\n",
    "#     topic2 = Topic(topic=topic.name)\n",
    "#     for subtopic in topic.subtopics:\n",
    "#         subtopic2 = Subtopic(topic=topic.name, subtopic=subtopic.name)\n",
    "#         subtopic2.add_concepts(subtopic.concepts)\n",
    "#         topic2.add_subtopics(subtopic2)\n",
    "#     topics2.append(topic2)"
   ]
  },
  {
   "cell_type": "code",
   "execution_count": 7,
   "metadata": {},
   "outputs": [],
   "source": [
    "# topics3 = Topics()\n",
    "# topics3.add_topics(topics2)"
   ]
  },
  {
   "cell_type": "code",
   "execution_count": 8,
   "metadata": {},
   "outputs": [],
   "source": [
    "# topics3.concepts[\"Set Theory Basics_Set Representations_Roster Method\"].model_dump()"
   ]
  },
  {
   "cell_type": "code",
   "execution_count": 9,
   "metadata": {},
   "outputs": [],
   "source": [
    "# with open(created_topics_file, \"w\") as f:\n",
    "#     json.dump(topics3.model_dump(), f, indent=2)"
   ]
  },
  {
   "cell_type": "code",
   "execution_count": 10,
   "metadata": {},
   "outputs": [],
   "source": [
    "topics4 = Topics(**json.load(open(created_topics_file)))"
   ]
  },
  {
   "cell_type": "code",
   "execution_count": 11,
   "metadata": {},
   "outputs": [
    {
     "data": {
      "text/plain": [
       "0"
      ]
     },
     "execution_count": 11,
     "metadata": {},
     "output_type": "execute_result"
    }
   ],
   "source": [
    "new_questions = json.load(open(new_questions_file))\n",
    "new_questions[\"questions\"] = [\n",
    "    Question(**question) for question in new_questions[\"questions\"]\n",
    "]\n",
    "len(new_questions[\"questions\"])"
   ]
  },
  {
   "cell_type": "code",
   "execution_count": 12,
   "metadata": {},
   "outputs": [],
   "source": [
    "questions_dir = Path(\n",
    "    f\"{COURSE}_questions\"\n",
    ")  # path to the question bank with each question having an id, prompt, and solution\n",
    "questions = [\n",
    "    BaseQuestion(**json.loads(question_file.read_text()))\n",
    "    for folder in questions_dir.iterdir()\n",
    "    for question_file in list(folder.glob(\"*.json\"))[:QUESTIONS_PER_FOLDER]\n",
    "]\n",
    "random.shuffle(questions)"
   ]
  },
  {
   "cell_type": "code",
   "execution_count": 13,
   "metadata": {},
   "outputs": [],
   "source": [
    "questions_system = f\"\"\"\\\n",
    "{SYSTEM_PREFIX}\n",
    "You'll be given the problem and solution of a question and list of topic_subtopic_concept objects.\n",
    "Based on your knowledge of math, you have to decide which topic_subtopic_concept the question belongs to.\n",
    "\"\"\""
   ]
  },
  {
   "cell_type": "code",
   "execution_count": 14,
   "metadata": {},
   "outputs": [
    {
     "name": "stdout",
     "output_type": "stream",
     "text": [
      "Question 1\n",
      "Question 2\n",
      "Question 3\n",
      "Question 4\n",
      "Question 5\n",
      "Error in ask_cld_or_oai. Messages: [{'role': 'user', 'content': '<question>\\n<problem>\\nLet $ABCDEF$ be a regular hexagon, and let $G,H,I$ be the midpoints of sides $AB,CD,EF$ respectively. If the area of $\\\\triangle GHI$ is $225$, what is the area of hexagon $ABCDEF$?\\n</problem>\\n\\n<solution>\\nWe begin with a diagram of the given information: [asy]\\nsize(4cm);\\nreal x=sqrt(3);\\npair d=(2,0); pair c=(1,x); pair b=(-1,x); pair a=-d; pair f=-c; pair e=-b;\\npair g=(a+b)/2; pair h=(c+d)/2; pair i=(e+f)/2;\\ndraw(a--b--c--d--e--f--a);\\ndot(a); dot(b); dot(c); dot(d); dot(e); dot(f); dot(g); dot(h); dot(i);\\ndraw(g--h--i--g);\\nlabel(\"$A$\",a,W);\\nlabel(\"$B$\",b,NNW);\\nlabel(\"$C$\",c,NNE);\\nlabel(\"$D$\",d,E);\\nlabel(\"$E$\",e,SSE);\\nlabel(\"$F$\",f,SSW);\\nlabel(\"$G$\",g,WNW);\\nlabel(\"$H$\",h,ENE);\\nlabel(\"$I$\",i,S);\\n[/asy]\\n\\nTo increase the symmetry in the diagram, we can draw in the long diagonals of $ABCDEF$ as well as the mirror image of $\\\\triangle GHI$ across these diagonals:\\n\\n[asy]\\nsize(4cm);\\nreal x=sqrt(3);\\npair d=(2,0); pair c=(1,x); pair b=(-1,x); pair a=-d; pair f=-c; pair e=-b;\\npair g=(a+b)/2; pair h=(c+d)/2; pair i=(e+f)/2;\\nfill(g--h--i--cycle,gray);\\ndraw(a--b--c--d--e--f--a);\\ndot(a); dot(b); dot(c); dot(d); dot(e); dot(f); dot(g); dot(h); dot(i);\\ndraw(g--h--i--g);\\ndraw(a--d, dashed);\\ndraw(b--e, dashed);\\ndraw(c--f, dashed);\\ndraw((-g)--(-h)--(-i)--(-g), dashed);\\nlabel(\"$A$\",a,W);\\nlabel(\"$B$\",b,NNW);\\nlabel(\"$C$\",c,NNE);\\nlabel(\"$D$\",d,E);\\nlabel(\"$E$\",e,SSE);\\nlabel(\"$F$\",f,SSW);\\nlabel(\"$G$\",g,WNW);\\nlabel(\"$H$\",h,ENE);\\nlabel(\"$I$\",i,S);\\n[/asy]\\n\\nThese additional lines divide $ABCDEF$ into $24$ congruent equilateral triangles, of which $\\\\triangle GHI$ covers exactly $9$. Thus each of the triangles has area $\\\\frac{225}{9}=25$, and hexagon $ABCDEF$ has area $24\\\\cdot 25=\\\\boxed{600}$.\\n</solution>\\n</question>\\n\\n<objects>\\n<id>\\nSet Theory Basics_Set Representations_Roster Method\\n</id>\\n\\n<topic>\\nSet Theory Basics\\n</topic>\\n\\n<subtopic>\\nSet Representations\\n</subtopic>\\n\\n<concept>\\nRoster Method\\n</concept>\\n\\n<id>\\nSet Theory Basics_Set Representations_Set-Builder Notation\\n</id>\\n\\n<topic>\\nSet Theory Basics\\n</topic>\\n\\n<subtopic>\\nSet Representations\\n</subtopic>\\n\\n<concept>\\nSet-Builder Notation\\n</concept>\\n\\n<id>\\nSet Theory Basics_Set Representations_Venn Diagrams\\n</id>\\n\\n<topic>\\nSet Theory Basics\\n</topic>\\n\\n<subtopic>\\nSet Representations\\n</subtopic>\\n\\n<concept>\\nVenn Diagrams\\n</concept>\\n\\n<id>\\nSet Theory Basics_Types Of Sets_Finite And Infinite Sets\\n</id>\\n\\n<topic>\\nSet Theory Basics\\n</topic>\\n\\n<subtopic>\\nTypes Of Sets\\n</subtopic>\\n\\n<concept>\\nFinite And Infinite Sets\\n</concept>\\n\\n<id>\\nSet Theory Basics_Types Of Sets_Equal Sets\\n</id>\\n\\n<topic>\\nSet Theory Basics\\n</topic>\\n\\n<subtopic>\\nTypes Of Sets\\n</subtopic>\\n\\n<concept>\\nEqual Sets\\n</concept>\\n\\n<id>\\nSet Theory Basics_Types Of Sets_Subset And Superset\\n</id>\\n\\n<topic>\\nSet Theory Basics\\n</topic>\\n\\n<subtopic>\\nTypes Of Sets\\n</subtopic>\\n\\n<concept>\\nSubset And Superset\\n</concept>\\n\\n<id>\\nSet Theory Basics_Types Of Sets_Universal Set\\n</id>\\n\\n<topic>\\nSet Theory Basics\\n</topic>\\n\\n<subtopic>\\nTypes Of Sets\\n</subtopic>\\n\\n<concept>\\nUniversal Set\\n</concept>\\n\\n<id>\\nComplex Numbers_Basic Operations_Addition\\n</id>\\n\\n<topic>\\nComplex Numbers\\n</topic>\\n\\n<subtopic>\\nBasic Operations\\n</subtopic>\\n\\n<concept>\\nAddition\\n</concept>\\n\\n<id>\\nComplex Numbers_Basic Operations_Subtraction\\n</id>\\n\\n<topic>\\nComplex Numbers\\n</topic>\\n\\n<subtopic>\\nBasic Operations\\n</subtopic>\\n\\n<concept>\\nSubtraction\\n</concept>\\n\\n<id>\\nComplex Numbers_Basic Operations_Multiplication\\n</id>\\n\\n<topic>\\nComplex Numbers\\n</topic>\\n\\n<subtopic>\\nBasic Operations\\n</subtopic>\\n\\n<concept>\\nMultiplication\\n</concept>\\n\\n<id>\\nComplex Numbers_Basic Operations_Division\\n</id>\\n\\n<topic>\\nComplex Numbers\\n</topic>\\n\\n<subtopic>\\nBasic Operations\\n</subtopic>\\n\\n<concept>\\nDivision\\n</concept>\\n\\n<id>\\nComplex Numbers_Modulus Of Complex Number_Definition Of Modulus\\n</id>\\n\\n<topic>\\nComplex Numbers\\n</topic>\\n\\n<subtopic>\\nModulus Of Complex Number\\n</subtopic>\\n\\n<concept>\\nDefinition Of Modulus\\n</concept>\\n\\n<id>\\nComplex Numbers_Modulus Of Complex Number_Calculating Modulus\\n</id>\\n\\n<topic>\\nComplex Numbers\\n</topic>\\n\\n<subtopic>\\nModulus Of Complex Number\\n</subtopic>\\n\\n<concept>\\nCalculating Modulus\\n</concept>\\n\\n<id>\\nComplex Numbers_Modulus Of Complex Number_Properties Of Modulus\\n</id>\\n\\n<topic>\\nComplex Numbers\\n</topic>\\n\\n<subtopic>\\nModulus Of Complex Number\\n</subtopic>\\n\\n<concept>\\nProperties Of Modulus\\n</concept>\\n\\n<id>\\nFunctions And Mappings_Types Of Functions_One-To-One Functions\\n</id>\\n\\n<topic>\\nFunctions And Mappings\\n</topic>\\n\\n<subtopic>\\nTypes Of Functions\\n</subtopic>\\n\\n<concept>\\nOne-To-One Functions\\n</concept>\\n\\n<id>\\nFunctions And Mappings_Types Of Functions_Onto Functions\\n</id>\\n\\n<topic>\\nFunctions And Mappings\\n</topic>\\n\\n<subtopic>\\nTypes Of Functions\\n</subtopic>\\n\\n<concept>\\nOnto Functions\\n</concept>\\n\\n<id>\\nFunctions And Mappings_Types Of Functions_Bijective Functions\\n</id>\\n\\n<topic>\\nFunctions And Mappings\\n</topic>\\n\\n<subtopic>\\nTypes Of Functions\\n</subtopic>\\n\\n<concept>\\nBijective Functions\\n</concept>\\n\\n<id>\\nFunctions And Mappings_Composite And Inverse Functions_Composite Functions\\n</id>\\n\\n<topic>\\nFunctions And Mappings\\n</topic>\\n\\n<subtopic>\\nComposite And Inverse Functions\\n</subtopic>\\n\\n<concept>\\nComposite Functions\\n</concept>\\n\\n<id>\\nFunctions And Mappings_Composite And Inverse Functions_Inverse Functions\\n</id>\\n\\n<topic>\\nFunctions And Mappings\\n</topic>\\n\\n<subtopic>\\nComposite And Inverse Functions\\n</subtopic>\\n\\n<concept>\\nInverse Functions\\n</concept>\\n\\n<id>\\nFunctions And Mappings_Composite And Inverse Functions_Properties Of Inverses\\n</id>\\n\\n<topic>\\nFunctions And Mappings\\n</topic>\\n\\n<subtopic>\\nComposite And Inverse Functions\\n</subtopic>\\n\\n<concept>\\nProperties Of Inverses\\n</concept>\\n\\n<id>\\nFunctions And Mappings_Operations On Functions_Addition Of Functions\\n</id>\\n\\n<topic>\\nFunctions And Mappings\\n</topic>\\n\\n<subtopic>\\nOperations On Functions\\n</subtopic>\\n\\n<concept>\\nAddition Of Functions\\n</concept>\\n\\n<id>\\nFunctions And Mappings_Operations On Functions_Subtraction Of Functions\\n</id>\\n\\n<topic>\\nFunctions And Mappings\\n</topic>\\n\\n<subtopic>\\nOperations On Functions\\n</subtopic>\\n\\n<concept>\\nSubtraction Of Functions\\n</concept>\\n\\n<id>\\nFunctions And Mappings_Operations On Functions_Multiplication Of Functions\\n</id>\\n\\n<topic>\\nFunctions And Mappings\\n</topic>\\n\\n<subtopic>\\nOperations On Functions\\n</subtopic>\\n\\n<concept>\\nMultiplication Of Functions\\n</concept>\\n\\n<id>\\nFunctions And Mappings_Operations On Functions_Division Of Functions\\n</id>\\n\\n<topic>\\nFunctions And Mappings\\n</topic>\\n\\n<subtopic>\\nOperations On Functions\\n</subtopic>\\n\\n<concept>\\nDivision Of Functions\\n</concept>\\n\\n<id>\\nQuadratic Functions_Quadratic Functions Basics_Standard Form\\n</id>\\n\\n<topic>\\nQuadratic Functions\\n</topic>\\n\\n<subtopic>\\nQuadratic Functions Basics\\n</subtopic>\\n\\n<concept>\\nStandard Form\\n</concept>\\n\\n<id>\\nQuadratic Functions_Quadratic Functions Basics_Vertex Form\\n</id>\\n\\n<topic>\\nQuadratic Functions\\n</topic>\\n\\n<subtopic>\\nQuadratic Functions Basics\\n</subtopic>\\n\\n<concept>\\nVertex Form\\n</concept>\\n\\n<id>\\nQuadratic Functions_Quadratic Functions Basics_Factored Form\\n</id>\\n\\n<topic>\\nQuadratic Functions\\n</topic>\\n\\n<subtopic>\\nQuadratic Functions Basics\\n</subtopic>\\n\\n<concept>\\nFactored Form\\n</concept>\\n\\n<id>\\nQuadratic Functions_Quadratic Formula_Derivation\\n</id>\\n\\n<topic>\\nQuadratic Functions\\n</topic>\\n\\n<subtopic>\\nQuadratic Formula\\n</subtopic>\\n\\n<concept>\\nDerivation\\n</concept>\\n\\n<id>\\nQuadratic Functions_Quadratic Formula_Application\\n</id>\\n\\n<topic>\\nQuadratic Functions\\n</topic>\\n\\n<subtopic>\\nQuadratic Formula\\n</subtopic>\\n\\n<concept>\\nApplication\\n</concept>\\n\\n<id>\\nQuadratic Functions_Quadratic Formula_Discriminant\\n</id>\\n\\n<topic>\\nQuadratic Functions\\n</topic>\\n\\n<subtopic>\\nQuadratic Formula\\n</subtopic>\\n\\n<concept>\\nDiscriminant\\n</concept>\\n\\n<id>\\nQuadratic Functions_Types Of Solutions_Real Solutions\\n</id>\\n\\n<topic>\\nQuadratic Functions\\n</topic>\\n\\n<subtopic>\\nTypes Of Solutions\\n</subtopic>\\n\\n<concept>\\nReal Solutions\\n</concept>\\n\\n<id>\\nQuadratic Functions_Types Of Solutions_Complex Solutions\\n</id>\\n\\n<topic>\\nQuadratic Functions\\n</topic>\\n\\n<subtopic>\\nTypes Of Solutions\\n</subtopic>\\n\\n<concept>\\nComplex Solutions\\n</concept>\\n\\n<id>\\nQuadratic Functions_Types Of Solutions_Repeated Roots\\n</id>\\n\\n<topic>\\nQuadratic Functions\\n</topic>\\n\\n<subtopic>\\nTypes Of Solutions\\n</subtopic>\\n\\n<concept>\\nRepeated Roots\\n</concept>\\n\\n<id>\\nMatrices And Determinants_Matrix Operations_Matrix Addition\\n</id>\\n\\n<topic>\\nMatrices And Determinants\\n</topic>\\n\\n<subtopic>\\nMatrix Operations\\n</subtopic>\\n\\n<concept>\\nMatrix Addition\\n</concept>\\n\\n<id>\\nMatrices And Determinants_Matrix Operations_Matrix Subtraction\\n</id>\\n\\n<topic>\\nMatrices And Determinants\\n</topic>\\n\\n<subtopic>\\nMatrix Operations\\n</subtopic>\\n\\n<concept>\\nMatrix Subtraction\\n</concept>\\n\\n<id>\\nMatrices And Determinants_Matrix Operations_Matrix Multiplication\\n</id>\\n\\n<topic>\\nMatrices And Determinants\\n</topic>\\n\\n<subtopic>\\nMatrix Operations\\n</subtopic>\\n\\n<concept>\\nMatrix Multiplication\\n</concept>\\n\\n<id>\\nMatrices And Determinants_Matrix Inversion_Augmented Matrix\\n</id>\\n\\n<topic>\\nMatrices And Determinants\\n</topic>\\n\\n<subtopic>\\nMatrix Inversion\\n</subtopic>\\n\\n<concept>\\nAugmented Matrix\\n</concept>\\n\\n<id>\\nMatrices And Determinants_Matrix Inversion_Co-Factors Method\\n</id>\\n\\n<topic>\\nMatrices And Determinants\\n</topic>\\n\\n<subtopic>\\nMatrix Inversion\\n</subtopic>\\n\\n<concept>\\nCo-Factors Method\\n</concept>\\n\\n<id>\\nMatrices And Determinants_Matrix Inversion_Inverse Properties\\n</id>\\n\\n<topic>\\nMatrices And Determinants\\n</topic>\\n\\n<subtopic>\\nMatrix Inversion\\n</subtopic>\\n\\n<concept>\\nInverse Properties\\n</concept>\\n\\n<id>\\nMatrices And Determinants_Solving Linear Equations_System Of Equations\\n</id>\\n\\n<topic>\\nMatrices And Determinants\\n</topic>\\n\\n<subtopic>\\nSolving Linear Equations\\n</subtopic>\\n\\n<concept>\\nSystem Of Equations\\n</concept>\\n\\n<id>\\nMatrices And Determinants_Solving Linear Equations_Cramer\\'S Rule\\n</id>\\n\\n<topic>\\nMatrices And Determinants\\n</topic>\\n\\n<subtopic>\\nSolving Linear Equations\\n</subtopic>\\n\\n<concept>\\nCramer\\'S Rule\\n</concept>\\n\\n<id>\\nMatrices And Determinants_Solving Linear Equations_Matrix Methods\\n</id>\\n\\n<topic>\\nMatrices And Determinants\\n</topic>\\n\\n<subtopic>\\nSolving Linear Equations\\n</subtopic>\\n\\n<concept>\\nMatrix Methods\\n</concept>\\n\\n<id>\\nMatrices And Determinants_Determinants_Determinant Properties\\n</id>\\n\\n<topic>\\nMatrices And Determinants\\n</topic>\\n\\n<subtopic>\\nDeterminants\\n</subtopic>\\n\\n<concept>\\nDeterminant Properties\\n</concept>\\n\\n<id>\\nMatrices And Determinants_Determinants_Determinant Calculation\\n</id>\\n\\n<topic>\\nMatrices And Determinants\\n</topic>\\n\\n<subtopic>\\nDeterminants\\n</subtopic>\\n\\n<concept>\\nDeterminant Calculation\\n</concept>\\n\\n<id>\\nMatrices And Determinants_Determinants_Applications Of Determinants\\n</id>\\n\\n<topic>\\nMatrices And Determinants\\n</topic>\\n\\n<subtopic>\\nDeterminants\\n</subtopic>\\n\\n<concept>\\nApplications Of Determinants\\n</concept>\\n\\n<id>\\nSequences And Series_Arithmetic Sequences_Common Difference\\n</id>\\n\\n<topic>\\nSequences And Series\\n</topic>\\n\\n<subtopic>\\nArithmetic Sequences\\n</subtopic>\\n\\n<concept>\\nCommon Difference\\n</concept>\\n\\n<id>\\nSequences And Series_Arithmetic Sequences_Nth Term Formula\\n</id>\\n\\n<topic>\\nSequences And Series\\n</topic>\\n\\n<subtopic>\\nArithmetic Sequences\\n</subtopic>\\n\\n<concept>\\nNth Term Formula\\n</concept>\\n\\n<id>\\nSequences And Series_Arithmetic Sequences_Sum Of Series\\n</id>\\n\\n<topic>\\nSequences And Series\\n</topic>\\n\\n<subtopic>\\nArithmetic Sequences\\n</subtopic>\\n\\n<concept>\\nSum Of Series\\n</concept>\\n\\n<id>\\nSequences And Series_Geometric Sequences_Common Ratio\\n</id>\\n\\n<topic>\\nSequences And Series\\n</topic>\\n\\n<subtopic>\\nGeometric Sequences\\n</subtopic>\\n\\n<concept>\\nCommon Ratio\\n</concept>\\n\\n<id>\\nSequences And Series_Geometric Sequences_Nth Term Formula\\n</id>\\n\\n<topic>\\nSequences And Series\\n</topic>\\n\\n<subtopic>\\nGeometric Sequences\\n</subtopic>\\n\\n<concept>\\nNth Term Formula\\n</concept>\\n\\n<id>\\nSequences And Series_Geometric Sequences_Sum Of Series\\n</id>\\n\\n<topic>\\nSequences And Series\\n</topic>\\n\\n<subtopic>\\nGeometric Sequences\\n</subtopic>\\n\\n<concept>\\nSum Of Series\\n</concept>\\n\\n<id>\\nPermutations And Combinations_Basic Concepts_Definition Of Permutations\\n</id>\\n\\n<topic>\\nPermutations And Combinations\\n</topic>\\n\\n<subtopic>\\nBasic Concepts\\n</subtopic>\\n\\n<concept>\\nDefinition Of Permutations\\n</concept>\\n\\n<id>\\nPermutations And Combinations_Basic Concepts_Definition Of Combinations\\n</id>\\n\\n<topic>\\nPermutations And Combinations\\n</topic>\\n\\n<subtopic>\\nBasic Concepts\\n</subtopic>\\n\\n<concept>\\nDefinition Of Combinations\\n</concept>\\n\\n<id>\\nPermutations And Combinations_Basic Concepts_Factorial Notation\\n</id>\\n\\n<topic>\\nPermutations And Combinations\\n</topic>\\n\\n<subtopic>\\nBasic Concepts\\n</subtopic>\\n\\n<concept>\\nFactorial Notation\\n</concept>\\n\\n<id>\\nPermutations And Combinations_Permutations_Permutations Formula\\n</id>\\n\\n<topic>\\nPermutations And Combinations\\n</topic>\\n\\n<subtopic>\\nPermutations\\n</subtopic>\\n\\n<concept>\\nPermutations Formula\\n</concept>\\n\\n<id>\\nPermutations And Combinations_Permutations_Permutations With Repetition\\n</id>\\n\\n<topic>\\nPermutations And Combinations\\n</topic>\\n\\n<subtopic>\\nPermutations\\n</subtopic>\\n\\n<concept>\\nPermutations With Repetition\\n</concept>\\n\\n<id>\\nPermutations And Combinations_Permutations_Circular Permutations\\n</id>\\n\\n<topic>\\nPermutations And Combinations\\n</topic>\\n\\n<subtopic>\\nPermutations\\n</subtopic>\\n\\n<concept>\\nCircular Permutations\\n</concept>\\n\\n<id>\\nPermutations And Combinations_Combinations_Combinations Formula\\n</id>\\n\\n<topic>\\nPermutations And Combinations\\n</topic>\\n\\n<subtopic>\\nCombinations\\n</subtopic>\\n\\n<concept>\\nCombinations Formula\\n</concept>\\n\\n<id>\\nPermutations And Combinations_Combinations_Combinations With Repetition\\n</id>\\n\\n<topic>\\nPermutations And Combinations\\n</topic>\\n\\n<subtopic>\\nCombinations\\n</subtopic>\\n\\n<concept>\\nCombinations With Repetition\\n</concept>\\n\\n<id>\\nPermutations And Combinations_Combinations_Binomial Coefficient\\n</id>\\n\\n<topic>\\nPermutations And Combinations\\n</topic>\\n\\n<subtopic>\\nCombinations\\n</subtopic>\\n\\n<concept>\\nBinomial Coefficient\\n</concept>\\n\\n<id>\\nPermutations And Combinations_Applications_Probability Applications\\n</id>\\n\\n<topic>\\nPermutations And Combinations\\n</topic>\\n\\n<subtopic>\\nApplications\\n</subtopic>\\n\\n<concept>\\nProbability Applications\\n</concept>\\n\\n<id>\\nPermutations And Combinations_Applications_Real-Life Scenarios\\n</id>\\n\\n<topic>\\nPermutations And Combinations\\n</topic>\\n\\n<subtopic>\\nApplications\\n</subtopic>\\n\\n<concept>\\nReal-Life Scenarios\\n</concept>\\n\\n<id>\\nPermutations And Combinations_Applications_Optimization Problems\\n</id>\\n\\n<topic>\\nPermutations And Combinations\\n</topic>\\n\\n<subtopic>\\nApplications\\n</subtopic>\\n\\n<concept>\\nOptimization Problems\\n</concept>\\n\\n<id>\\nBinomial Theorem_Binomial Expansion_Binomial Coefficients\\n</id>\\n\\n<topic>\\nBinomial Theorem\\n</topic>\\n\\n<subtopic>\\nBinomial Expansion\\n</subtopic>\\n\\n<concept>\\nBinomial Coefficients\\n</concept>\\n\\n<id>\\nBinomial Theorem_Binomial Expansion_Pascal\\'S Triangle\\n</id>\\n\\n<topic>\\nBinomial Theorem\\n</topic>\\n\\n<subtopic>\\nBinomial Expansion\\n</subtopic>\\n\\n<concept>\\nPascal\\'S Triangle\\n</concept>\\n\\n<id>\\nBinomial Theorem_Binomial Expansion_General Term Formula\\n</id>\\n\\n<topic>\\nBinomial Theorem\\n</topic>\\n\\n<subtopic>\\nBinomial Expansion\\n</subtopic>\\n\\n<concept>\\nGeneral Term Formula\\n</concept>\\n\\n<id>\\nBinomial Theorem_Applications_Polynomial Expansion\\n</id>\\n\\n<topic>\\nBinomial Theorem\\n</topic>\\n\\n<subtopic>\\nApplications\\n</subtopic>\\n\\n<concept>\\nPolynomial Expansion\\n</concept>\\n\\n<id>\\nBinomial Theorem_Applications_Combinatorial Proofs\\n</id>\\n\\n<topic>\\nBinomial Theorem\\n</topic>\\n\\n<subtopic>\\nApplications\\n</subtopic>\\n\\n<concept>\\nCombinatorial Proofs\\n</concept>\\n\\n<id>\\nBinomial Theorem_Applications_Probability Calculations\\n</id>\\n\\n<topic>\\nBinomial Theorem\\n</topic>\\n\\n<subtopic>\\nApplications\\n</subtopic>\\n\\n<concept>\\nProbability Calculations\\n</concept>\\n\\n<id>\\nCoordinate Geometry Basics_Distance Between Points_Distance Formula\\n</id>\\n\\n<topic>\\nCoordinate Geometry Basics\\n</topic>\\n\\n<subtopic>\\nDistance Between Points\\n</subtopic>\\n\\n<concept>\\nDistance Formula\\n</concept>\\n\\n<id>\\nCoordinate Geometry Basics_Distance Between Points_Pythagorean Theorem\\n</id>\\n\\n<topic>\\nCoordinate Geometry Basics\\n</topic>\\n\\n<subtopic>\\nDistance Between Points\\n</subtopic>\\n\\n<concept>\\nPythagorean Theorem\\n</concept>\\n\\n<id>\\nCoordinate Geometry Basics_Distance Between Points_Coordinate Pairs\\n</id>\\n\\n<topic>\\nCoordinate Geometry Basics\\n</topic>\\n\\n<subtopic>\\nDistance Between Points\\n</subtopic>\\n\\n<concept>\\nCoordinate Pairs\\n</concept>\\n\\n<id>\\nCoordinate Geometry Basics_Slope Of A Line_Slope Formula\\n</id>\\n\\n<topic>\\nCoordinate Geometry Basics\\n</topic>\\n\\n<subtopic>\\nSlope Of A Line\\n</subtopic>\\n\\n<concept>\\nSlope Formula\\n</concept>\\n\\n<id>\\nCoordinate Geometry Basics_Slope Of A Line_Positive And Negative Slope\\n</id>\\n\\n<topic>\\nCoordinate Geometry Basics\\n</topic>\\n\\n<subtopic>\\nSlope Of A Line\\n</subtopic>\\n\\n<concept>\\nPositive And Negative Slope\\n</concept>\\n\\n<id>\\nCoordinate Geometry Basics_Slope Of A Line_Undefined Slope\\n</id>\\n\\n<topic>\\nCoordinate Geometry Basics\\n</topic>\\n\\n<subtopic>\\nSlope Of A Line\\n</subtopic>\\n\\n<concept>\\nUndefined Slope\\n</concept>\\n\\n<id>\\nCoordinate Geometry Basics_Parallel And Perpendicular Lines_Parallel Lines Condition\\n</id>\\n\\n<topic>\\nCoordinate Geometry Basics\\n</topic>\\n\\n<subtopic>\\nParallel And Perpendicular Lines\\n</subtopic>\\n\\n<concept>\\nParallel Lines Condition\\n</concept>\\n\\n<id>\\nCoordinate Geometry Basics_Parallel And Perpendicular Lines_Perpendicular Lines Condition\\n</id>\\n\\n<topic>\\nCoordinate Geometry Basics\\n</topic>\\n\\n<subtopic>\\nParallel And Perpendicular Lines\\n</subtopic>\\n\\n<concept>\\nPerpendicular Lines Condition\\n</concept>\\n\\n<id>\\nCoordinate Geometry Basics_Parallel And Perpendicular Lines_Slopes Relationship\\n</id>\\n\\n<topic>\\nCoordinate Geometry Basics\\n</topic>\\n\\n<subtopic>\\nParallel And Perpendicular Lines\\n</subtopic>\\n\\n<concept>\\nSlopes Relationship\\n</concept>\\n\\n<id>\\nCircle Equations_Basic Properties_Radius And Diameter\\n</id>\\n\\n<topic>\\nCircle Equations\\n</topic>\\n\\n<subtopic>\\nBasic Properties\\n</subtopic>\\n\\n<concept>\\nRadius And Diameter\\n</concept>\\n\\n<id>\\nCircle Equations_Basic Properties_Circumference\\n</id>\\n\\n<topic>\\nCircle Equations\\n</topic>\\n\\n<subtopic>\\nBasic Properties\\n</subtopic>\\n\\n<concept>\\nCircumference\\n</concept>\\n\\n<id>\\nCircle Equations_Basic Properties_Area Of Circle\\n</id>\\n\\n<topic>\\nCircle Equations\\n</topic>\\n\\n<subtopic>\\nBasic Properties\\n</subtopic>\\n\\n<concept>\\nArea Of Circle\\n</concept>\\n\\n<id>\\nCircle Equations_Equation Forms_Standard Form\\n</id>\\n\\n<topic>\\nCircle Equations\\n</topic>\\n\\n<subtopic>\\nEquation Forms\\n</subtopic>\\n\\n<concept>\\nStandard Form\\n</concept>\\n\\n<id>\\nCircle Equations_Equation Forms_General Form\\n</id>\\n\\n<topic>\\nCircle Equations\\n</topic>\\n\\n<subtopic>\\nEquation Forms\\n</subtopic>\\n\\n<concept>\\nGeneral Form\\n</concept>\\n\\n<id>\\nCircle Equations_Equation Forms_Center-Radius Form\\n</id>\\n\\n<topic>\\nCircle Equations\\n</topic>\\n\\n<subtopic>\\nEquation Forms\\n</subtopic>\\n\\n<concept>\\nCenter-Radius Form\\n</concept>\\n\\n<id>\\nCircle Equations_Applications_Geometry Problems\\n</id>\\n\\n<topic>\\nCircle Equations\\n</topic>\\n\\n<subtopic>\\nApplications\\n</subtopic>\\n\\n<concept>\\nGeometry Problems\\n</concept>\\n\\n<id>\\nCircle Equations_Applications_Real-World Examples\\n</id>\\n\\n<topic>\\nCircle Equations\\n</topic>\\n\\n<subtopic>\\nApplications\\n</subtopic>\\n\\n<concept>\\nReal-World Examples\\n</concept>\\n\\n<id>\\nTrigonometric Functions And Identities_Graphs Of Trigonometric Functions_Sine And Cosine Graphs\\n</id>\\n\\n<topic>\\nTrigonometric Functions And Identities\\n</topic>\\n\\n<subtopic>\\nGraphs Of Trigonometric Functions\\n</subtopic>\\n\\n<concept>\\nSine And Cosine Graphs\\n</concept>\\n\\n<id>\\nTrigonometric Functions And Identities_Graphs Of Trigonometric Functions_Periodicity Of Functions\\n</id>\\n\\n<topic>\\nTrigonometric Functions And Identities\\n</topic>\\n\\n<subtopic>\\nGraphs Of Trigonometric Functions\\n</subtopic>\\n\\n<concept>\\nPeriodicity Of Functions\\n</concept>\\n\\n<id>\\nTrigonometric Functions And Identities_Graphs Of Trigonometric Functions_Amplitude And Phase Shift\\n</id>\\n\\n<topic>\\nTrigonometric Functions And Identities\\n</topic>\\n\\n<subtopic>\\nGraphs Of Trigonometric Functions\\n</subtopic>\\n\\n<concept>\\nAmplitude And Phase Shift\\n</concept>\\n\\n<id>\\nTrigonometric Functions And Identities_Trigonometric Identities_Basic Identities\\n</id>\\n\\n<topic>\\nTrigonometric Functions And Identities\\n</topic>\\n\\n<subtopic>\\nTrigonometric Identities\\n</subtopic>\\n\\n<concept>\\nBasic Identities\\n</concept>\\n\\n<id>\\nTrigonometric Functions And Identities_Trigonometric Identities_Sum And Difference Formulas\\n</id>\\n\\n<topic>\\nTrigonometric Functions And Identities\\n</topic>\\n\\n<subtopic>\\nTrigonometric Identities\\n</subtopic>\\n\\n<concept>\\nSum And Difference Formulas\\n</concept>\\n\\n<id>\\nTrigonometric Functions And Identities_Trigonometric Identities_Double Angle Formulas\\n</id>\\n\\n<topic>\\nTrigonometric Functions And Identities\\n</topic>\\n\\n<subtopic>\\nTrigonometric Identities\\n</subtopic>\\n\\n<concept>\\nDouble Angle Formulas\\n</concept>\\n\\n<id>\\nTrigonometric Functions And Identities_Solving Trigonometric Equations_Using Identities\\n</id>\\n\\n<topic>\\nTrigonometric Functions And Identities\\n</topic>\\n\\n<subtopic>\\nSolving Trigonometric Equations\\n</subtopic>\\n\\n<concept>\\nUsing Identities\\n</concept>\\n\\n<id>\\nTrigonometric Functions And Identities_Solving Trigonometric Equations_Inverse Trigonometric Functions\\n</id>\\n\\n<topic>\\nTrigonometric Functions And Identities\\n</topic>\\n\\n<subtopic>\\nSolving Trigonometric Equations\\n</subtopic>\\n\\n<concept>\\nInverse Trigonometric Functions\\n</concept>\\n\\n<id>\\nTrigonometric Functions And Identities_Solving Trigonometric Equations_General Solutions\\n</id>\\n\\n<topic>\\nTrigonometric Functions And Identities\\n</topic>\\n\\n<subtopic>\\nSolving Trigonometric Equations\\n</subtopic>\\n\\n<concept>\\nGeneral Solutions\\n</concept>\\n\\n<id>\\nIntroduction To Statistics_Role Of Statistics_Everyday Applications\\n</id>\\n\\n<topic>\\nIntroduction To Statistics\\n</topic>\\n\\n<subtopic>\\nRole Of Statistics\\n</subtopic>\\n\\n<concept>\\nEveryday Applications\\n</concept>\\n\\n<id>\\nIntroduction To Statistics_Role Of Statistics_Decision Making\\n</id>\\n\\n<topic>\\nIntroduction To Statistics\\n</topic>\\n\\n<subtopic>\\nRole Of Statistics\\n</subtopic>\\n\\n<concept>\\nDecision Making\\n</concept>\\n\\n<id>\\nIntroduction To Statistics_Role Of Statistics_Data Interpretation\\n</id>\\n\\n<topic>\\nIntroduction To Statistics\\n</topic>\\n\\n<subtopic>\\nRole Of Statistics\\n</subtopic>\\n\\n<concept>\\nData Interpretation\\n</concept>\\n\\n<id>\\nIntroduction To Statistics_Types Of Statistics_Descriptive Statistics\\n</id>\\n\\n<topic>\\nIntroduction To Statistics\\n</topic>\\n\\n<subtopic>\\nTypes Of Statistics\\n</subtopic>\\n\\n<concept>\\nDescriptive Statistics\\n</concept>\\n\\n<id>\\nIntroduction To Statistics_Types Of Statistics_Inferential Statistics\\n</id>\\n\\n<topic>\\nIntroduction To Statistics\\n</topic>\\n\\n<subtopic>\\nTypes Of Statistics\\n</subtopic>\\n\\n<concept>\\nInferential Statistics\\n</concept>\\n\\n<id>\\nIntroduction To Statistics_Measurement Scales_Nominal Scale\\n</id>\\n\\n<topic>\\nIntroduction To Statistics\\n</topic>\\n\\n<subtopic>\\nMeasurement Scales\\n</subtopic>\\n\\n<concept>\\nNominal Scale\\n</concept>\\n\\n<id>\\nIntroduction To Statistics_Measurement Scales_Ordinal Scale\\n</id>\\n\\n<topic>\\nIntroduction To Statistics\\n</topic>\\n\\n<subtopic>\\nMeasurement Scales\\n</subtopic>\\n\\n<concept>\\nOrdinal Scale\\n</concept>\\n\\n<id>\\nIntroduction To Statistics_Measurement Scales_Interval Scale\\n</id>\\n\\n<topic>\\nIntroduction To Statistics\\n</topic>\\n\\n<subtopic>\\nMeasurement Scales\\n</subtopic>\\n\\n<concept>\\nInterval Scale\\n</concept>\\n\\n<id>\\nIntroduction To Statistics_Measurement Scales_Ratio Scale\\n</id>\\n\\n<topic>\\nIntroduction To Statistics\\n</topic>\\n\\n<subtopic>\\nMeasurement Scales\\n</subtopic>\\n\\n<concept>\\nRatio Scale\\n</concept>\\n\\n<id>\\nData Analysis & Representation_Measures Of Central Tendency_Mean Calculation\\n</id>\\n\\n<topic>\\nData Analysis & Representation\\n</topic>\\n\\n<subtopic>\\nMeasures Of Central Tendency\\n</subtopic>\\n\\n<concept>\\nMean Calculation\\n</concept>\\n\\n<id>\\nData Analysis & Representation_Measures Of Central Tendency_Median Determination\\n</id>\\n\\n<topic>\\nData Analysis & Representation\\n</topic>\\n\\n<subtopic>\\nMeasures Of Central Tendency\\n</subtopic>\\n\\n<concept>\\nMedian Determination\\n</concept>\\n\\n<id>\\nData Analysis & Representation_Measures Of Central Tendency_Mode Identification\\n</id>\\n\\n<topic>\\nData Analysis & Representation\\n</topic>\\n\\n<subtopic>\\nMeasures Of Central Tendency\\n</subtopic>\\n\\n<concept>\\nMode Identification\\n</concept>\\n\\n<id>\\nData Analysis & Representation_Measures Of Dispersion_Range Calculation\\n</id>\\n\\n<topic>\\nData Analysis & Representation\\n</topic>\\n\\n<subtopic>\\nMeasures Of Dispersion\\n</subtopic>\\n\\n<concept>\\nRange Calculation\\n</concept>\\n\\n<id>\\nData Analysis & Representation_Measures Of Dispersion_Variance Analysis\\n</id>\\n\\n<topic>\\nData Analysis & Representation\\n</topic>\\n\\n<subtopic>\\nMeasures Of Dispersion\\n</subtopic>\\n\\n<concept>\\nVariance Analysis\\n</concept>\\n\\n<id>\\nData Analysis & Representation_Measures Of Dispersion_Standard Deviation\\n</id>\\n\\n<topic>\\nData Analysis & Representation\\n</topic>\\n\\n<subtopic>\\nMeasures Of Dispersion\\n</subtopic>\\n\\n<concept>\\nStandard Deviation\\n</concept>\\n\\n<id>\\nData Analysis & Representation_Partial Fractions_Fraction Decomposition\\n</id>\\n\\n<topic>\\nData Analysis & Representation\\n</topic>\\n\\n<subtopic>\\nPartial Fractions\\n</subtopic>\\n\\n<concept>\\nFraction Decomposition\\n</concept>\\n\\n<id>\\nData Analysis & Representation_Partial Fractions_Linear Factors\\n</id>\\n\\n<topic>\\nData Analysis & Representation\\n</topic>\\n\\n<subtopic>\\nPartial Fractions\\n</subtopic>\\n\\n<concept>\\nLinear Factors\\n</concept>\\n\\n<id>\\nData Analysis & Representation_Partial Fractions_Quadratic Factors\\n</id>\\n\\n<topic>\\nData Analysis & Representation\\n</topic>\\n\\n<subtopic>\\nPartial Fractions\\n</subtopic>\\n\\n<concept>\\nQuadratic Factors\\n</concept>\\n\\n<id>\\nData Analysis & Representation_Trigonometric Identities_Basic Identities\\n</id>\\n\\n<topic>\\nData Analysis & Representation\\n</topic>\\n\\n<subtopic>\\nTrigonometric Identities\\n</subtopic>\\n\\n<concept>\\nBasic Identities\\n</concept>\\n\\n<id>\\nData Analysis & Representation_Trigonometric Identities_Pythagorean Identities\\n</id>\\n\\n<topic>\\nData Analysis & Representation\\n</topic>\\n\\n<subtopic>\\nTrigonometric Identities\\n</subtopic>\\n\\n<concept>\\nPythagorean Identities\\n</concept>\\n\\n<id>\\nData Analysis & Representation_Trigonometric Identities_Angle Sum Formulas\\n</id>\\n\\n<topic>\\nData Analysis & Representation\\n</topic>\\n\\n<subtopic>\\nTrigonometric Identities\\n</subtopic>\\n\\n<concept>\\nAngle Sum Formulas\\n</concept>\\n</objects>'}]\n",
      "1 validation error for Response\n",
      "content\n",
      "  Input should be 'Set Theory Basics_Set Representations_Roster Method', 'Set Theory Basics_Set Representations_Set-Builder Notation', 'Set Theory Basics_Set Representations_Venn Diagrams', 'Set Theory Basics_Types Of Sets_Finite And Infinite Sets', 'Set Theory Basics_Types Of Sets_Equal Sets', 'Set Theory Basics_Types Of Sets_Subset And Superset', 'Set Theory Basics_Types Of Sets_Universal Set', 'Complex Numbers_Basic Operations_Addition', 'Complex Numbers_Basic Operations_Subtraction', 'Complex Numbers_Basic Operations_Multiplication', 'Complex Numbers_Basic Operations_Division', 'Complex Numbers_Modulus Of Complex Number_Definition Of Modulus', 'Complex Numbers_Modulus Of Complex Number_Calculating Modulus', 'Complex Numbers_Modulus Of Complex Number_Properties Of Modulus', 'Functions And Mappings_Types Of Functions_One-To-One Functions', 'Functions And Mappings_Types Of Functions_Onto Functions', 'Functions And Mappings_Types Of Functions_Bijective Functions', 'Functions And Mappings_Composite And Inverse Functions_Composite Functions', 'Functions And Mappings_Composite And Inverse Functions_Inverse Functions', 'Functions And Mappings_Composite And Inverse Functions_Properties Of Inverses', 'Functions And Mappings_Operations On Functions_Addition Of Functions', 'Functions And Mappings_Operations On Functions_Subtraction Of Functions', 'Functions And Mappings_Operations On Functions_Multiplication Of Functions', 'Functions And Mappings_Operations On Functions_Division Of Functions', 'Quadratic Functions_Quadratic Functions Basics_Standard Form', 'Quadratic Functions_Quadratic Functions Basics_Vertex Form', 'Quadratic Functions_Quadratic Functions Basics_Factored Form', 'Quadratic Functions_Quadratic Formula_Derivation', 'Quadratic Functions_Quadratic Formula_Application', 'Quadratic Functions_Quadratic Formula_Discriminant', 'Quadratic Functions_Types Of Solutions_Real Solutions', 'Quadratic Functions_Types Of Solutions_Complex Solutions', 'Quadratic Functions_Types Of Solutions_Repeated Roots', 'Matrices And Determinants_Matrix Operations_Matrix Addition', 'Matrices And Determinants_Matrix Operations_Matrix Subtraction', 'Matrices And Determinants_Matrix Operations_Matrix Multiplication', 'Matrices And Determinants_Matrix Inversion_Augmented Matrix', 'Matrices And Determinants_Matrix Inversion_Co-Factors Method', 'Matrices And Determinants_Matrix Inversion_Inverse Properties', 'Matrices And Determinants_Solving Linear Equations_System Of Equations', \"Matrices And Determinants_Solving Linear Equations_Cramer'S Rule\", 'Matrices And Determinants_Solving Linear Equations_Matrix Methods', 'Matrices And Determinants_Determinants_Determinant Properties', 'Matrices And Determinants_Determinants_Determinant Calculation', 'Matrices And Determinants_Determinants_Applications Of Determinants', 'Sequences And Series_Arithmetic Sequences_Common Difference', 'Sequences And Series_Arithmetic Sequences_Nth Term Formula', 'Sequences And Series_Arithmetic Sequences_Sum Of Series', 'Sequences And Series_Geometric Sequences_Common Ratio', 'Sequences And Series_Geometric Sequences_Nth Term Formula', 'Sequences And Series_Geometric Sequences_Sum Of Series', 'Permutations And Combinations_Basic Concepts_Definition Of Permutations', 'Permutations And Combinations_Basic Concepts_Definition Of Combinations', 'Permutations And Combinations_Basic Concepts_Factorial Notation', 'Permutations And Combinations_Permutations_Permutations Formula', 'Permutations And Combinations_Permutations_Permutations With Repetition', 'Permutations And Combinations_Permutations_Circular Permutations', 'Permutations And Combinations_Combinations_Combinations Formula', 'Permutations And Combinations_Combinations_Combinations With Repetition', 'Permutations And Combinations_Combinations_Binomial Coefficient', 'Permutations And Combinations_Applications_Probability Applications', 'Permutations And Combinations_Applications_Real-Life Scenarios', 'Permutations And Combinations_Applications_Optimization Problems', 'Binomial Theorem_Binomial Expansion_Binomial Coefficients', \"Binomial Theorem_Binomial Expansion_Pascal'S Triangle\", 'Binomial Theorem_Binomial Expansion_General Term Formula', 'Binomial Theorem_Applications_Polynomial Expansion', 'Binomial Theorem_Applications_Combinatorial Proofs', 'Binomial Theorem_Applications_Probability Calculations', 'Coordinate Geometry Basics_Distance Between Points_Distance Formula', 'Coordinate Geometry Basics_Distance Between Points_Pythagorean Theorem', 'Coordinate Geometry Basics_Distance Between Points_Coordinate Pairs', 'Coordinate Geometry Basics_Slope Of A Line_Slope Formula', 'Coordinate Geometry Basics_Slope Of A Line_Positive And Negative Slope', 'Coordinate Geometry Basics_Slope Of A Line_Undefined Slope', 'Coordinate Geometry Basics_Parallel And Perpendicular Lines_Parallel Lines Condition', 'Coordinate Geometry Basics_Parallel And Perpendicular Lines_Perpendicular Lines Condition', 'Coordinate Geometry Basics_Parallel And Perpendicular Lines_Slopes Relationship', 'Circle Equations_Basic Properties_Radius And Diameter', 'Circle Equations_Basic Properties_Circumference', 'Circle Equations_Basic Properties_Area Of Circle', 'Circle Equations_Equation Forms_Standard Form', 'Circle Equations_Equation Forms_General Form', 'Circle Equations_Equation Forms_Center-Radius Form', 'Circle Equations_Applications_Geometry Problems', 'Circle Equations_Applications_Real-World Examples', 'Trigonometric Functions And Identities_Graphs Of Trigonometric Functions_Sine And Cosine Graphs', 'Trigonometric Functions And Identities_Graphs Of Trigonometric Functions_Periodicity Of Functions', 'Trigonometric Functions And Identities_Graphs Of Trigonometric Functions_Amplitude And Phase Shift', 'Trigonometric Functions And Identities_Trigonometric Identities_Basic Identities', 'Trigonometric Functions And Identities_Trigonometric Identities_Sum And Difference Formulas', 'Trigonometric Functions And Identities_Trigonometric Identities_Double Angle Formulas', 'Trigonometric Functions And Identities_Solving Trigonometric Equations_Using Identities', 'Trigonometric Functions And Identities_Solving Trigonometric Equations_Inverse Trigonometric Functions', 'Trigonometric Functions And Identities_Solving Trigonometric Equations_General Solutions', 'Introduction To Statistics_Role Of Statistics_Everyday Applications', 'Introduction To Statistics_Role Of Statistics_Decision Making', 'Introduction To Statistics_Role Of Statistics_Data Interpretation', 'Introduction To Statistics_Types Of Statistics_Descriptive Statistics', 'Introduction To Statistics_Types Of Statistics_Inferential Statistics', 'Introduction To Statistics_Measurement Scales_Nominal Scale', 'Introduction To Statistics_Measurement Scales_Ordinal Scale', 'Introduction To Statistics_Measurement Scales_Interval Scale', 'Introduction To Statistics_Measurement Scales_Ratio Scale', 'Data Analysis & Representation_Measures Of Central Tendency_Mean Calculation', 'Data Analysis & Representation_Measures Of Central Tendency_Median Determination', 'Data Analysis & Representation_Measures Of Central Tendency_Mode Identification', 'Data Analysis & Representation_Measures Of Dispersion_Range Calculation', 'Data Analysis & Representation_Measures Of Dispersion_Variance Analysis', 'Data Analysis & Representation_Measures Of Dispersion_Standard Deviation', 'Data Analysis & Representation_Partial Fractions_Fraction Decomposition', 'Data Analysis & Representation_Partial Fractions_Linear Factors', 'Data Analysis & Representation_Partial Fractions_Quadratic Factors', 'Data Analysis & Representation_Trigonometric Identities_Basic Identities', 'Data Analysis & Representation_Trigonometric Identities_Pythagorean Identities' or 'Data Analysis & Representation_Trigonometric Identities_Angle Sum Formulas' [type=literal_error, input_value='Coordinate Geometry Basi...rea Of Regular Polygons', input_type=str]\n",
      "    For further information visit https://errors.pydantic.dev/2.7/v/literal_error\n",
      "'NoneType' object has no attribute 'split'\n",
      "Question 6\n",
      "Question 7\n",
      "Question 8\n",
      "Question 9\n",
      "Question 10\n",
      "Question 11\n",
      "Question 12\n",
      "Question 13\n",
      "Question 14\n",
      "Question 15\n",
      "Question 16\n",
      "Question 17\n",
      "Question 18\n",
      "Question 19\n",
      "Question 20\n",
      "Question 21\n",
      "Question 22\n",
      "Question 23\n",
      "Question 24\n",
      "Question 25\n",
      "Question 26\n",
      "Question 27\n",
      "Question 28\n",
      "Question 29\n",
      "Question 30\n"
     ]
    }
   ],
   "source": [
    "for i, question in enumerate(\n",
    "    questions[new_questions[\"used\"] : 30], new_questions[\"used\"] + 1\n",
    "):\n",
    "    print(f\"Question {i}\")\n",
    "    concept_strs = [\n",
    "        str(concept)\n",
    "        for concept in topics4.concepts.values()\n",
    "        if len(concept.questions) < 3\n",
    "    ]\n",
    "    if not concept_strs:\n",
    "        break\n",
    "\n",
    "    objects_str = \"\\n\\n\".join(concept_strs)\n",
    "    concept_ids = list(topics4.concepts.keys())\n",
    "    messages = [\n",
    "        user_message(\n",
    "            f\"<question>\\n{question}\\n</question>\\n\\n<objects>\\n{objects_str}\\n</objects>\"\n",
    "        )\n",
    "    ]\n",
    "    try:\n",
    "        belongs_to: str = ask_cld_or_oai(\n",
    "            ask_cld=ask_cld,\n",
    "            ask_oai=ask_oai,\n",
    "            messages=messages,\n",
    "            system=questions_system,\n",
    "            model=ModelName.HAIKU,\n",
    "            response_model=_t.Literal[*concept_ids],  # type: ignore\n",
    "        )\n",
    "        split = belongs_to.split(\"_\")\n",
    "        new_question = Question(\n",
    "            topic=split[0],\n",
    "            subtopic=split[1],\n",
    "            concept=split[2],\n",
    "            problem=question.problem,\n",
    "            solution=question.solution,\n",
    "        )\n",
    "        new_questions[\"questions\"].append(new_question.model_dump())\n",
    "        topics4.add_questions(new_question)\n",
    "        with open(new_questions_file, \"w\") as f:\n",
    "            json.dump({\"used\": i, \"questions\": new_questions[\"questions\"]}, f, indent=2)\n",
    "        time.sleep(0.3)\n",
    "    except Exception as e:\n",
    "        print(e)\n",
    "        continue"
   ]
  },
  {
   "cell_type": "code",
   "execution_count": 15,
   "metadata": {},
   "outputs": [],
   "source": [
    "# topics4.add_questions(new_questions[\"questions\"])"
   ]
  },
  {
   "cell_type": "code",
   "execution_count": 16,
   "metadata": {},
   "outputs": [],
   "source": [
    "prereq_system = f\"\"\"\\\n",
    "{SYSTEM_PREFIX}\n",
    "You'll be given a question with a problem and solution and a list of other questions.\n",
    "Based on your knowledge of math, you have to decide which question form the list is a prerequisite to the given question.\n",
    "Just one question. If none are a prerequisite, or if the question is super easy for a highschooler, select 'None'.\n",
    "\"\"\""
   ]
  },
  {
   "cell_type": "code",
   "execution_count": 17,
   "metadata": {},
   "outputs": [
    {
     "data": {
      "text/plain": [
       "{}"
      ]
     },
     "execution_count": 17,
     "metadata": {},
     "output_type": "execute_result"
    }
   ],
   "source": [
    "prerequisites = json.load(open(prerequisities_file))\n",
    "prerequisites"
   ]
  },
  {
   "cell_type": "code",
   "execution_count": 18,
   "metadata": {},
   "outputs": [],
   "source": [
    "used_topics = set()\n",
    "used_subtopics = set()\n",
    "used_concepts = set()\n",
    "used_questions = set()\n",
    "for topic_idx, topic_id in enumerate(list(topics4.topics.keys())[::-1]):\n",
    "    topic = topics4.topics[topic_id]\n",
    "    for subtopic_idx, subtopic_id in enumerate(list(topic.subtopics.keys())[::-1]):\n",
    "        subtopic = topic.subtopics[subtopic_id]\n",
    "        for concept_idx, concept_id in enumerate(list(subtopic.concepts.keys())[::-1]):\n",
    "            concept = subtopic.concepts[concept_id]\n",
    "            for concept_question in concept.questions.values():\n",
    "                if concept_question.id in prerequisites:\n",
    "                    continue\n",
    "                prereq_qs = [\n",
    "                    question\n",
    "                    for question in topics4.questions.values()\n",
    "                    if question.id != concept_question.id\n",
    "                    and question.topic not in used_topics\n",
    "                    and question.subtopic not in used_subtopics\n",
    "                    and question.concept not in used_concepts\n",
    "                    and question.id not in used_questions\n",
    "                ]\n",
    "                prereq_strs = [\n",
    "                    f\"<question>\\n<id>\\n{question.id}\\n</id>\\n{question.problem}\\n{question.solution}\\n</question>\"\n",
    "                    for question in prereq_qs\n",
    "                ]\n",
    "                if not prereq_strs:\n",
    "                    break\n",
    "                candidate_questions = \"\\n\\n\".join(prereq_strs)\n",
    "                messages = [\n",
    "                    user_message(\n",
    "                        f\"<question>\\n{concept_question.problem}\\n{concept_question.solution}\\n</question>\\n\\n<candidate_questions>\\n{candidate_questions}\\n</candidate_questions>\"\n",
    "                    )\n",
    "                ]\n",
    "                try:\n",
    "                    prereq_id: str = ask_cld_or_oai(\n",
    "                        ask_cld=ask_cld,\n",
    "                        ask_oai=ask_oai,\n",
    "                        messages=messages,\n",
    "                        system=prereq_system,\n",
    "                        model=ModelName.HAIKU,\n",
    "                        response_model=_t.Literal[\n",
    "                            \"None\", *[question.id for question in prereq_qs]  # type: ignore\n",
    "                        ],\n",
    "                    )\n",
    "                    if prereq_id not in [\"None\", None]:\n",
    "                        topics4.add_prerequisites(\n",
    "                            id=concept_question.id, prerequisites=topics4.get(prereq_id)\n",
    "                        )\n",
    "                    prerequisites[concept_question.id] = prereq_id\n",
    "                    with open(prerequisities_file, \"w\") as f:\n",
    "                        json.dump(prerequisites, f, indent=2)\n",
    "                    time.sleep(0.3)\n",
    "                except Exception as e:\n",
    "                    print(e)\n",
    "                    continue\n",
    "                used_questions.add(concept_question.id)\n",
    "            used_concepts.add(concept_id)\n",
    "        used_subtopics.add(subtopic_id)\n",
    "    used_topics.add(topic_id)"
   ]
  },
  {
   "cell_type": "code",
   "execution_count": 20,
   "metadata": {},
   "outputs": [],
   "source": [
    "with open(latest_topics_file, \"w\") as f:\n",
    "    json.dump(topics4.model_dump(), f, indent=2)"
   ]
  },
  {
   "cell_type": "code",
   "execution_count": 24,
   "metadata": {},
   "outputs": [
    {
     "data": {
      "text/plain": [
       "{'problem': 'If $f(3)=1$ and $f(2x)=2f(x)$ for all $x$, find $f^{-1}(64)$.',\n",
       " 'solution': 'We are looking for some $x$ such that $f(x)=64$.  We notice that by doubling $x$ we can double $f(x)$ as well and also that $f(3)=1$.\\n\\nApplying $f(2x)=2f(x)$ repeatedly, we have: \\\\begin{align*}\\nf(3)&=1,\\\\\\\\\\nf(6)&=2,\\\\\\\\\\nf(12)&=4,\\\\\\\\\\nf(24)&=8,\\\\\\\\\\nf(48)&=16,\\\\\\\\\\nf(96)&=32,\\\\\\\\\\nf(192)&=64.\\n\\\\end{align*}So $f^{-1}(64)=\\\\boxed{192}$.',\n",
       " 'topic': 'Functions And Mappings',\n",
       " 'prerequisite_ids': [],\n",
       " 'postrequisite_ids': ['Trigonometric Functions And Identities_Solving Trigonometric Equations_Using Identities_1',\n",
       "  'Data Analysis & Representation_Partial Fractions_Fraction Decomposition_1',\n",
       "  'Trigonometric Functions And Identities_Trigonometric Identities_Basic Identities_1',\n",
       "  'Quadratic Functions_Quadratic Formula_Application_3',\n",
       "  'Quadratic Functions_Quadratic Functions Basics_Standard Form_1',\n",
       "  'Quadratic Functions_Quadratic Formula_Application_4',\n",
       "  'Functions And Mappings_Composite And Inverse Functions_Inverse Functions_1'],\n",
       " 'subtopic': 'Composite And Inverse Functions',\n",
       " 'concept': 'Inverse Functions',\n",
       " 'question_number': 2,\n",
       " 'subquestions': []}"
      ]
     },
     "execution_count": 24,
     "metadata": {},
     "output_type": "execute_result"
    }
   ],
   "source": [
    "topics4.get(\"Functions And Mappings_Composite And Inverse Functions_Inverse Functions_2\").model_dump()"
   ]
  },
  {
   "cell_type": "code",
   "execution_count": null,
   "metadata": {},
   "outputs": [],
   "source": []
  }
 ],
 "metadata": {
  "kernelspec": {
   "display_name": ".venv",
   "language": "python",
   "name": "python3"
  },
  "language_info": {
   "codemirror_mode": {
    "name": "ipython",
    "version": 3
   },
   "file_extension": ".py",
   "mimetype": "text/x-python",
   "name": "python",
   "nbconvert_exporter": "python",
   "pygments_lexer": "ipython3",
   "version": "3.11.5"
  }
 },
 "nbformat": 4,
 "nbformat_minor": 2
}
