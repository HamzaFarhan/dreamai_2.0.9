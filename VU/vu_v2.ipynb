{
 "cells": [
  {
   "cell_type": "code",
   "execution_count": 1,
   "metadata": {},
   "outputs": [
    {
     "name": "stdout",
     "output_type": "stream",
     "text": [
      "The autoreload extension is already loaded. To reload it, use:\n",
      "  %reload_ext autoreload\n"
     ]
    }
   ],
   "source": [
    "import json\n",
    "import os\n",
    "import random\n",
    "import time\n",
    "import typing as _t\n",
    "from pathlib import Path\n",
    "from uuid import uuid4\n",
    "\n",
    "import anthropic\n",
    "import instructor\n",
    "import openai\n",
    "import pandas as pd\n",
    "from dotenv import load_dotenv\n",
    "from pydantic import (\n",
    "    AfterValidator,\n",
    "    BaseModel,\n",
    "    BeforeValidator,\n",
    "    Field,\n",
    "    field_validator,\n",
    "    model_validator,\n",
    ")\n",
    "from vu_panel import (\n",
    "    MAX_CONCEPTS,\n",
    "    MAX_SUBTOPICS,\n",
    "    MIN_CONCEPTS,\n",
    "    MIN_SUBTOPICS,\n",
    "    BaseQuestion,\n",
    "    Concept,\n",
    "    CreatedTopic,\n",
    "    Question,\n",
    "    Subtopic,\n",
    "    Topic,\n",
    "    Topics,\n",
    "    df_to_topics,\n",
    "    topics_to_df,\n",
    ")\n",
    "\n",
    "from dreamai.ai import (\n",
    "    ModelName,\n",
    "    ask_cld_or_oai,\n",
    "    assistant_message,\n",
    "    claude_response,\n",
    "    count_gpt_tokens,\n",
    "    oai_response,\n",
    "    system_message,\n",
    "    user_message,\n",
    ")\n",
    "from dreamai.utils import deindent\n",
    "\n",
    "random.seed(42)\n",
    "\n",
    "load_dotenv()\n",
    "\n",
    "ask_oai = instructor.from_openai(openai.OpenAI())\n",
    "ask_cld = instructor.from_anthropic(anthropic.Anthropic())\n",
    "\n",
    "%load_ext autoreload\n",
    "%autoreload 2\n",
    "%reload_ext autoreload"
   ]
  },
  {
   "cell_type": "code",
   "execution_count": 2,
   "metadata": {},
   "outputs": [],
   "source": [
    "COURSE = \"math_102\"\n",
    "QUESTIONS_PER_FOLDER = 80\n",
    "SYSTEM_PREFIX = \"You are a world class math course instructor.\""
   ]
  },
  {
   "cell_type": "code",
   "execution_count": 3,
   "metadata": {},
   "outputs": [],
   "source": [
    "DAY = 30\n",
    "created_topics_file = Path(f\"{COURSE}_created_topics_may_{DAY}.json\")\n",
    "new_questions_file = Path(f\"{COURSE}_new_questions_may_{DAY}.json\")\n",
    "prerequisities_file = Path(f\"{COURSE}_prerequisities_may_{DAY}.json\")\n",
    "latest_topics_file = Path(f\"{COURSE}_latest_topics_may_{DAY}.json\")"
   ]
  },
  {
   "cell_type": "code",
   "execution_count": 4,
   "metadata": {},
   "outputs": [
    {
     "data": {
      "text/plain": [
       "['Set, its different representations and types of sets',\n",
       " 'Complex numbers their addition, subtraction, multiplication and division and Modulus of a complex number',\n",
       " 'Mapping and their types, function and their types, composite and inverse of a function, addition, subtraction, multiplication and division of functions',\n",
       " 'Quadratic functions and quadratic formula with the types of solutions',\n",
       " 'Matrices with their addition, subtraction  and multiplication , finding the inverse of a matrix using augmented matrix and co-factors. Application of matrices in solving system of linear equations, Crammer rule Determinants',\n",
       " 'Arithmetic and Geometric Sequence with their nth terms and Series sum.',\n",
       " 'Permutations and Combinations with their applications on some real life scenarios',\n",
       " 'Binomial theorem and its applications in generalizing the formulas for higher powers ',\n",
       " 'In coordinate geometry find  the distance between two points, the slope of a line,condition for parallel and perpendicular lines,',\n",
       " 'Circle and equation of circle',\n",
       " 'Graphs of basic trigonometric functions, periodicity of sine and cosine functions, trigonometric identities and their applications to solve a trigonometric equation, Sum and Difference Formulas , Double Angle Formulas ',\n",
       " 'Statistics and its contribution in our life, types of statistics, measurement scales, ',\n",
       " 'Data Representation to analyse and find Measures of Central Tendency , Measures of Dispersion, Partial Fractions and Trigonometric Identities']"
      ]
     },
     "execution_count": 4,
     "metadata": {},
     "output_type": "execute_result"
    }
   ],
   "source": [
    "outline = Path(f\"{COURSE}.txt\").read_text().splitlines()\n",
    "outline"
   ]
  },
  {
   "cell_type": "code",
   "execution_count": 5,
   "metadata": {},
   "outputs": [],
   "source": [
    "# topic_system = f\"\"\"\\\n",
    "# {SYSTEM_PREFIX}\n",
    "# You'll be given a topic description from a course outline and you have to generate a 3-5 word topic name that encapsulates the description.\n",
    "# Then, generate {MIN_SUBTOPICS}-{MAX_SUBTOPICS} subtopics for the topic. Also 3-5 words each.\n",
    "# Then for each subtopic, generate {MIN_CONCEPTS}-{MAX_CONCEPTS} concepts. Also 3-5 words each. The concepts should be related to the subtopic.\n",
    "# Think of concepts as the smallest unit of knowledge that can be taught from the subtopic. And add a verb to the concept to make it actionable.\n",
    "# For example:\n",
    "# \"Calculate Derivatives\" instead of \"Derivatives\".\n",
    "# \"Identify Finite Sets\" instead of \"Finite Sets\".\n",
    "# \"Find the y-intercept\" instead of \"y-intercept\".\n",
    "# The subtopics and concepts should be in the correct order.\n",
    "# \"\"\"\n",
    "# topics = []\n",
    "# for line in outline:\n",
    "#     topics.append(\n",
    "#         ask_cld_or_oai(\n",
    "#             ask_cld=ask_cld,\n",
    "#             ask_oai=ask_oai,\n",
    "#             model=ModelName.GPT_4,\n",
    "#             response_model=CreatedTopic,\n",
    "#             system=topic_system,\n",
    "#             messages=[\n",
    "#                 user_message(f\"<topic_description>\\n{line}\\n</topic_description>\")\n",
    "#             ],\n",
    "#         )  # type: ignore\n",
    "#     )"
   ]
  },
  {
   "cell_type": "code",
   "execution_count": 6,
   "metadata": {},
   "outputs": [],
   "source": [
    "# topics2 = []\n",
    "# for topic in topics:\n",
    "#     topic2 = Topic(topic=topic.name)\n",
    "#     for subtopic in topic.subtopics:\n",
    "#         subtopic2 = Subtopic(topic=topic.name, subtopic=subtopic.name)\n",
    "#         subtopic2.add_concepts(subtopic.concepts)\n",
    "#         topic2.add_subtopics(subtopic2)\n",
    "#     topics2.append(topic2)"
   ]
  },
  {
   "cell_type": "code",
   "execution_count": 7,
   "metadata": {},
   "outputs": [],
   "source": [
    "# topics3 = Topics()\n",
    "# topics3.add_topics(topics2)"
   ]
  },
  {
   "cell_type": "code",
   "execution_count": 8,
   "metadata": {},
   "outputs": [],
   "source": [
    "# with open(created_topics_file, \"w\") as f:\n",
    "#     json.dump(topics3.model_dump(), f, indent=2)"
   ]
  },
  {
   "cell_type": "code",
   "execution_count": 21,
   "metadata": {},
   "outputs": [],
   "source": [
    "created_topics_file_26 = Path(f\"{COURSE}_created_topics_may_26.json\")\n",
    "topics4 = Topics(**json.load(open(created_topics_file_26)))"
   ]
  },
  {
   "cell_type": "code",
   "execution_count": 10,
   "metadata": {},
   "outputs": [
    {
     "data": {
      "text/html": [
       "<div>\n",
       "<style scoped>\n",
       "    .dataframe tbody tr th:only-of-type {\n",
       "        vertical-align: middle;\n",
       "    }\n",
       "\n",
       "    .dataframe tbody tr th {\n",
       "        vertical-align: top;\n",
       "    }\n",
       "\n",
       "    .dataframe thead th {\n",
       "        text-align: right;\n",
       "    }\n",
       "</style>\n",
       "<table border=\"1\" class=\"dataframe\">\n",
       "  <thead>\n",
       "    <tr style=\"text-align: right;\">\n",
       "      <th></th>\n",
       "      <th>Topic</th>\n",
       "      <th>Subtopic</th>\n",
       "      <th>Concept</th>\n",
       "      <th>Problem</th>\n",
       "      <th>Solution</th>\n",
       "      <th>Difficulty</th>\n",
       "    </tr>\n",
       "  </thead>\n",
       "  <tbody>\n",
       "    <tr>\n",
       "      <th>0</th>\n",
       "      <td>Set Theory Basics</td>\n",
       "      <td>Set Representations</td>\n",
       "      <td>Roster Method</td>\n",
       "      <td></td>\n",
       "      <td></td>\n",
       "      <td></td>\n",
       "    </tr>\n",
       "    <tr>\n",
       "      <th>1</th>\n",
       "      <td>Set Theory Basics</td>\n",
       "      <td>Set Representations</td>\n",
       "      <td>Set-Builder Notation</td>\n",
       "      <td></td>\n",
       "      <td></td>\n",
       "      <td></td>\n",
       "    </tr>\n",
       "    <tr>\n",
       "      <th>2</th>\n",
       "      <td>Set Theory Basics</td>\n",
       "      <td>Set Representations</td>\n",
       "      <td>Venn Diagrams</td>\n",
       "      <td></td>\n",
       "      <td></td>\n",
       "      <td></td>\n",
       "    </tr>\n",
       "    <tr>\n",
       "      <th>3</th>\n",
       "      <td>Set Theory Basics</td>\n",
       "      <td>Types Of Sets</td>\n",
       "      <td>Finite And Infinite Sets</td>\n",
       "      <td></td>\n",
       "      <td></td>\n",
       "      <td></td>\n",
       "    </tr>\n",
       "    <tr>\n",
       "      <th>4</th>\n",
       "      <td>Set Theory Basics</td>\n",
       "      <td>Types Of Sets</td>\n",
       "      <td>Equal Sets</td>\n",
       "      <td></td>\n",
       "      <td></td>\n",
       "      <td></td>\n",
       "    </tr>\n",
       "    <tr>\n",
       "      <th>...</th>\n",
       "      <td>...</td>\n",
       "      <td>...</td>\n",
       "      <td>...</td>\n",
       "      <td>...</td>\n",
       "      <td>...</td>\n",
       "      <td>...</td>\n",
       "    </tr>\n",
       "    <tr>\n",
       "      <th>111</th>\n",
       "      <td>Data Analysis &amp; Representation</td>\n",
       "      <td>Partial Fractions</td>\n",
       "      <td>Linear Factors</td>\n",
       "      <td></td>\n",
       "      <td></td>\n",
       "      <td></td>\n",
       "    </tr>\n",
       "    <tr>\n",
       "      <th>112</th>\n",
       "      <td>Data Analysis &amp; Representation</td>\n",
       "      <td>Partial Fractions</td>\n",
       "      <td>Quadratic Factors</td>\n",
       "      <td></td>\n",
       "      <td></td>\n",
       "      <td></td>\n",
       "    </tr>\n",
       "    <tr>\n",
       "      <th>113</th>\n",
       "      <td>Data Analysis &amp; Representation</td>\n",
       "      <td>Trigonometric Identities</td>\n",
       "      <td>Basic Identities</td>\n",
       "      <td></td>\n",
       "      <td></td>\n",
       "      <td></td>\n",
       "    </tr>\n",
       "    <tr>\n",
       "      <th>114</th>\n",
       "      <td>Data Analysis &amp; Representation</td>\n",
       "      <td>Trigonometric Identities</td>\n",
       "      <td>Pythagorean Identities</td>\n",
       "      <td></td>\n",
       "      <td></td>\n",
       "      <td></td>\n",
       "    </tr>\n",
       "    <tr>\n",
       "      <th>115</th>\n",
       "      <td>Data Analysis &amp; Representation</td>\n",
       "      <td>Trigonometric Identities</td>\n",
       "      <td>Angle Sum Formulas</td>\n",
       "      <td></td>\n",
       "      <td></td>\n",
       "      <td></td>\n",
       "    </tr>\n",
       "  </tbody>\n",
       "</table>\n",
       "<p>116 rows × 6 columns</p>\n",
       "</div>"
      ],
      "text/plain": [
       "                              Topic                  Subtopic  \\\n",
       "0                 Set Theory Basics       Set Representations   \n",
       "1                 Set Theory Basics       Set Representations   \n",
       "2                 Set Theory Basics       Set Representations   \n",
       "3                 Set Theory Basics             Types Of Sets   \n",
       "4                 Set Theory Basics             Types Of Sets   \n",
       "..                              ...                       ...   \n",
       "111  Data Analysis & Representation         Partial Fractions   \n",
       "112  Data Analysis & Representation         Partial Fractions   \n",
       "113  Data Analysis & Representation  Trigonometric Identities   \n",
       "114  Data Analysis & Representation  Trigonometric Identities   \n",
       "115  Data Analysis & Representation  Trigonometric Identities   \n",
       "\n",
       "                      Concept Problem Solution Difficulty  \n",
       "0               Roster Method                              \n",
       "1        Set-Builder Notation                              \n",
       "2               Venn Diagrams                              \n",
       "3    Finite And Infinite Sets                              \n",
       "4                  Equal Sets                              \n",
       "..                        ...     ...      ...        ...  \n",
       "111            Linear Factors                              \n",
       "112         Quadratic Factors                              \n",
       "113          Basic Identities                              \n",
       "114    Pythagorean Identities                              \n",
       "115        Angle Sum Formulas                              \n",
       "\n",
       "[116 rows x 6 columns]"
      ]
     },
     "execution_count": 10,
     "metadata": {},
     "output_type": "execute_result"
    }
   ],
   "source": [
    "df = topics_to_df(topics4, df_path=created_topics_file_26.with_suffix(\".csv\"))\n",
    "df"
   ]
  },
  {
   "cell_type": "code",
   "execution_count": 11,
   "metadata": {},
   "outputs": [
    {
     "data": {
      "text/plain": [
       "dict_keys(['Set Theory Basics', 'Complex Numbers', 'Functions And Mappings', 'Quadratic Functions', 'Matrices And Determinants', 'Sequences And Series', 'Permutations And Combinations', 'Binomial Theorem', 'Coordinate Geometry Basics', 'Circle Equations', 'Trigonometric Functions And Identities', 'Introduction To Statistics', 'Data Analysis & Representation'])"
      ]
     },
     "execution_count": 11,
     "metadata": {},
     "output_type": "execute_result"
    }
   ],
   "source": [
    "# append row to the dataframe\n",
    "topics4.model_dump()[\"topics\"].keys()"
   ]
  },
  {
   "cell_type": "code",
   "execution_count": 12,
   "metadata": {},
   "outputs": [
    {
     "data": {
      "text/plain": [
       "Topics(topics=OrderedDict([('Set Theory Basics', Topic(topic='Set Theory Basics', prerequisite_ids=[], postrequisite_ids=[], subtopics=OrderedDict([('Set Theory Basics_Set Representations', Subtopic(topic='Set Theory Basics', prerequisite_ids=[], postrequisite_ids=[], subtopic='Set Representations', concepts=OrderedDict([('Set Theory Basics_Set Representations_Roster Method', Concept(topic='Set Theory Basics', prerequisite_ids=[], postrequisite_ids=[], subtopic='Set Representations', concept='Roster Method', questions=OrderedDict())), ('Set Theory Basics_Set Representations_Set-Builder Notation', Concept(topic='Set Theory Basics', prerequisite_ids=[], postrequisite_ids=[], subtopic='Set Representations', concept='Set-Builder Notation', questions=OrderedDict())), ('Set Theory Basics_Set Representations_Venn Diagrams', Concept(topic='Set Theory Basics', prerequisite_ids=[], postrequisite_ids=[], subtopic='Set Representations', concept='Venn Diagrams', questions=OrderedDict()))]))), ('Set Theory Basics_Types Of Sets', Subtopic(topic='Set Theory Basics', prerequisite_ids=[], postrequisite_ids=[], subtopic='Types Of Sets', concepts=OrderedDict([('Set Theory Basics_Types Of Sets_Finite And Infinite Sets', Concept(topic='Set Theory Basics', prerequisite_ids=[], postrequisite_ids=[], subtopic='Types Of Sets', concept='Finite And Infinite Sets', questions=OrderedDict())), ('Set Theory Basics_Types Of Sets_Equal Sets', Concept(topic='Set Theory Basics', prerequisite_ids=[], postrequisite_ids=[], subtopic='Types Of Sets', concept='Equal Sets', questions=OrderedDict())), ('Set Theory Basics_Types Of Sets_Subset And Superset', Concept(topic='Set Theory Basics', prerequisite_ids=[], postrequisite_ids=[], subtopic='Types Of Sets', concept='Subset And Superset', questions=OrderedDict())), ('Set Theory Basics_Types Of Sets_Universal Set', Concept(topic='Set Theory Basics', prerequisite_ids=[], postrequisite_ids=[], subtopic='Types Of Sets', concept='Universal Set', questions=OrderedDict()))])))]))), ('Complex Numbers', Topic(topic='Complex Numbers', prerequisite_ids=[], postrequisite_ids=[], subtopics=OrderedDict([('Complex Numbers_Basic Operations', Subtopic(topic='Complex Numbers', prerequisite_ids=[], postrequisite_ids=[], subtopic='Basic Operations', concepts=OrderedDict([('Complex Numbers_Basic Operations_Addition', Concept(topic='Complex Numbers', prerequisite_ids=[], postrequisite_ids=[], subtopic='Basic Operations', concept='Addition', questions=OrderedDict())), ('Complex Numbers_Basic Operations_Subtraction', Concept(topic='Complex Numbers', prerequisite_ids=[], postrequisite_ids=[], subtopic='Basic Operations', concept='Subtraction', questions=OrderedDict())), ('Complex Numbers_Basic Operations_Multiplication', Concept(topic='Complex Numbers', prerequisite_ids=[], postrequisite_ids=[], subtopic='Basic Operations', concept='Multiplication', questions=OrderedDict())), ('Complex Numbers_Basic Operations_Division', Concept(topic='Complex Numbers', prerequisite_ids=[], postrequisite_ids=[], subtopic='Basic Operations', concept='Division', questions=OrderedDict()))]))), ('Complex Numbers_Modulus Of Complex Number', Subtopic(topic='Complex Numbers', prerequisite_ids=[], postrequisite_ids=[], subtopic='Modulus Of Complex Number', concepts=OrderedDict([('Complex Numbers_Modulus Of Complex Number_Definition Of Modulus', Concept(topic='Complex Numbers', prerequisite_ids=[], postrequisite_ids=[], subtopic='Modulus Of Complex Number', concept='Definition Of Modulus', questions=OrderedDict())), ('Complex Numbers_Modulus Of Complex Number_Calculating Modulus', Concept(topic='Complex Numbers', prerequisite_ids=[], postrequisite_ids=[], subtopic='Modulus Of Complex Number', concept='Calculating Modulus', questions=OrderedDict())), ('Complex Numbers_Modulus Of Complex Number_Properties Of Modulus', Concept(topic='Complex Numbers', prerequisite_ids=[], postrequisite_ids=[], subtopic='Modulus Of Complex Number', concept='Properties Of Modulus', questions=OrderedDict()))])))]))), ('Functions And Mappings', Topic(topic='Functions And Mappings', prerequisite_ids=[], postrequisite_ids=[], subtopics=OrderedDict([('Functions And Mappings_Types Of Functions', Subtopic(topic='Functions And Mappings', prerequisite_ids=[], postrequisite_ids=[], subtopic='Types Of Functions', concepts=OrderedDict([('Functions And Mappings_Types Of Functions_One-To-One Functions', Concept(topic='Functions And Mappings', prerequisite_ids=[], postrequisite_ids=[], subtopic='Types Of Functions', concept='One-To-One Functions', questions=OrderedDict())), ('Functions And Mappings_Types Of Functions_Onto Functions', Concept(topic='Functions And Mappings', prerequisite_ids=[], postrequisite_ids=[], subtopic='Types Of Functions', concept='Onto Functions', questions=OrderedDict())), ('Functions And Mappings_Types Of Functions_Bijective Functions', Concept(topic='Functions And Mappings', prerequisite_ids=[], postrequisite_ids=[], subtopic='Types Of Functions', concept='Bijective Functions', questions=OrderedDict()))]))), ('Functions And Mappings_Composite And Inverse Functions', Subtopic(topic='Functions And Mappings', prerequisite_ids=[], postrequisite_ids=[], subtopic='Composite And Inverse Functions', concepts=OrderedDict([('Functions And Mappings_Composite And Inverse Functions_Composite Functions', Concept(topic='Functions And Mappings', prerequisite_ids=[], postrequisite_ids=[], subtopic='Composite And Inverse Functions', concept='Composite Functions', questions=OrderedDict())), ('Functions And Mappings_Composite And Inverse Functions_Inverse Functions', Concept(topic='Functions And Mappings', prerequisite_ids=[], postrequisite_ids=[], subtopic='Composite And Inverse Functions', concept='Inverse Functions', questions=OrderedDict())), ('Functions And Mappings_Composite And Inverse Functions_Properties Of Inverses', Concept(topic='Functions And Mappings', prerequisite_ids=[], postrequisite_ids=[], subtopic='Composite And Inverse Functions', concept='Properties Of Inverses', questions=OrderedDict()))]))), ('Functions And Mappings_Operations On Functions', Subtopic(topic='Functions And Mappings', prerequisite_ids=[], postrequisite_ids=[], subtopic='Operations On Functions', concepts=OrderedDict([('Functions And Mappings_Operations On Functions_Addition Of Functions', Concept(topic='Functions And Mappings', prerequisite_ids=[], postrequisite_ids=[], subtopic='Operations On Functions', concept='Addition Of Functions', questions=OrderedDict())), ('Functions And Mappings_Operations On Functions_Subtraction Of Functions', Concept(topic='Functions And Mappings', prerequisite_ids=[], postrequisite_ids=[], subtopic='Operations On Functions', concept='Subtraction Of Functions', questions=OrderedDict())), ('Functions And Mappings_Operations On Functions_Multiplication Of Functions', Concept(topic='Functions And Mappings', prerequisite_ids=[], postrequisite_ids=[], subtopic='Operations On Functions', concept='Multiplication Of Functions', questions=OrderedDict())), ('Functions And Mappings_Operations On Functions_Division Of Functions', Concept(topic='Functions And Mappings', prerequisite_ids=[], postrequisite_ids=[], subtopic='Operations On Functions', concept='Division Of Functions', questions=OrderedDict()))])))]))), ('Quadratic Functions', Topic(topic='Quadratic Functions', prerequisite_ids=[], postrequisite_ids=[], subtopics=OrderedDict([('Quadratic Functions_Quadratic Functions Basics', Subtopic(topic='Quadratic Functions', prerequisite_ids=[], postrequisite_ids=[], subtopic='Quadratic Functions Basics', concepts=OrderedDict([('Quadratic Functions_Quadratic Functions Basics_Standard Form', Concept(topic='Quadratic Functions', prerequisite_ids=[], postrequisite_ids=[], subtopic='Quadratic Functions Basics', concept='Standard Form', questions=OrderedDict())), ('Quadratic Functions_Quadratic Functions Basics_Vertex Form', Concept(topic='Quadratic Functions', prerequisite_ids=[], postrequisite_ids=[], subtopic='Quadratic Functions Basics', concept='Vertex Form', questions=OrderedDict())), ('Quadratic Functions_Quadratic Functions Basics_Factored Form', Concept(topic='Quadratic Functions', prerequisite_ids=[], postrequisite_ids=[], subtopic='Quadratic Functions Basics', concept='Factored Form', questions=OrderedDict()))]))), ('Quadratic Functions_Quadratic Formula', Subtopic(topic='Quadratic Functions', prerequisite_ids=[], postrequisite_ids=[], subtopic='Quadratic Formula', concepts=OrderedDict([('Quadratic Functions_Quadratic Formula_Derivation', Concept(topic='Quadratic Functions', prerequisite_ids=[], postrequisite_ids=[], subtopic='Quadratic Formula', concept='Derivation', questions=OrderedDict())), ('Quadratic Functions_Quadratic Formula_Application', Concept(topic='Quadratic Functions', prerequisite_ids=[], postrequisite_ids=[], subtopic='Quadratic Formula', concept='Application', questions=OrderedDict())), ('Quadratic Functions_Quadratic Formula_Discriminant', Concept(topic='Quadratic Functions', prerequisite_ids=[], postrequisite_ids=[], subtopic='Quadratic Formula', concept='Discriminant', questions=OrderedDict()))]))), ('Quadratic Functions_Types Of Solutions', Subtopic(topic='Quadratic Functions', prerequisite_ids=[], postrequisite_ids=[], subtopic='Types Of Solutions', concepts=OrderedDict([('Quadratic Functions_Types Of Solutions_Real Solutions', Concept(topic='Quadratic Functions', prerequisite_ids=[], postrequisite_ids=[], subtopic='Types Of Solutions', concept='Real Solutions', questions=OrderedDict())), ('Quadratic Functions_Types Of Solutions_Complex Solutions', Concept(topic='Quadratic Functions', prerequisite_ids=[], postrequisite_ids=[], subtopic='Types Of Solutions', concept='Complex Solutions', questions=OrderedDict())), ('Quadratic Functions_Types Of Solutions_Repeated Roots', Concept(topic='Quadratic Functions', prerequisite_ids=[], postrequisite_ids=[], subtopic='Types Of Solutions', concept='Repeated Roots', questions=OrderedDict()))])))]))), ('Matrices And Determinants', Topic(topic='Matrices And Determinants', prerequisite_ids=[], postrequisite_ids=[], subtopics=OrderedDict([('Matrices And Determinants_Matrix Operations', Subtopic(topic='Matrices And Determinants', prerequisite_ids=[], postrequisite_ids=[], subtopic='Matrix Operations', concepts=OrderedDict([('Matrices And Determinants_Matrix Operations_Matrix Addition', Concept(topic='Matrices And Determinants', prerequisite_ids=[], postrequisite_ids=[], subtopic='Matrix Operations', concept='Matrix Addition', questions=OrderedDict())), ('Matrices And Determinants_Matrix Operations_Matrix Subtraction', Concept(topic='Matrices And Determinants', prerequisite_ids=[], postrequisite_ids=[], subtopic='Matrix Operations', concept='Matrix Subtraction', questions=OrderedDict())), ('Matrices And Determinants_Matrix Operations_Matrix Multiplication', Concept(topic='Matrices And Determinants', prerequisite_ids=[], postrequisite_ids=[], subtopic='Matrix Operations', concept='Matrix Multiplication', questions=OrderedDict()))]))), ('Matrices And Determinants_Matrix Inversion', Subtopic(topic='Matrices And Determinants', prerequisite_ids=[], postrequisite_ids=[], subtopic='Matrix Inversion', concepts=OrderedDict([('Matrices And Determinants_Matrix Inversion_Augmented Matrix', Concept(topic='Matrices And Determinants', prerequisite_ids=[], postrequisite_ids=[], subtopic='Matrix Inversion', concept='Augmented Matrix', questions=OrderedDict())), ('Matrices And Determinants_Matrix Inversion_Co-Factors Method', Concept(topic='Matrices And Determinants', prerequisite_ids=[], postrequisite_ids=[], subtopic='Matrix Inversion', concept='Co-Factors Method', questions=OrderedDict())), ('Matrices And Determinants_Matrix Inversion_Inverse Properties', Concept(topic='Matrices And Determinants', prerequisite_ids=[], postrequisite_ids=[], subtopic='Matrix Inversion', concept='Inverse Properties', questions=OrderedDict()))]))), ('Matrices And Determinants_Solving Linear Equations', Subtopic(topic='Matrices And Determinants', prerequisite_ids=[], postrequisite_ids=[], subtopic='Solving Linear Equations', concepts=OrderedDict([('Matrices And Determinants_Solving Linear Equations_System Of Equations', Concept(topic='Matrices And Determinants', prerequisite_ids=[], postrequisite_ids=[], subtopic='Solving Linear Equations', concept='System Of Equations', questions=OrderedDict())), (\"Matrices And Determinants_Solving Linear Equations_Cramer'S Rule\", Concept(topic='Matrices And Determinants', prerequisite_ids=[], postrequisite_ids=[], subtopic='Solving Linear Equations', concept=\"Cramer'S Rule\", questions=OrderedDict())), ('Matrices And Determinants_Solving Linear Equations_Matrix Methods', Concept(topic='Matrices And Determinants', prerequisite_ids=[], postrequisite_ids=[], subtopic='Solving Linear Equations', concept='Matrix Methods', questions=OrderedDict()))]))), ('Matrices And Determinants_Determinants', Subtopic(topic='Matrices And Determinants', prerequisite_ids=[], postrequisite_ids=[], subtopic='Determinants', concepts=OrderedDict([('Matrices And Determinants_Determinants_Determinant Properties', Concept(topic='Matrices And Determinants', prerequisite_ids=[], postrequisite_ids=[], subtopic='Determinants', concept='Determinant Properties', questions=OrderedDict())), ('Matrices And Determinants_Determinants_Determinant Calculation', Concept(topic='Matrices And Determinants', prerequisite_ids=[], postrequisite_ids=[], subtopic='Determinants', concept='Determinant Calculation', questions=OrderedDict())), ('Matrices And Determinants_Determinants_Applications Of Determinants', Concept(topic='Matrices And Determinants', prerequisite_ids=[], postrequisite_ids=[], subtopic='Determinants', concept='Applications Of Determinants', questions=OrderedDict()))])))]))), ('Sequences And Series', Topic(topic='Sequences And Series', prerequisite_ids=[], postrequisite_ids=[], subtopics=OrderedDict([('Sequences And Series_Arithmetic Sequences', Subtopic(topic='Sequences And Series', prerequisite_ids=[], postrequisite_ids=[], subtopic='Arithmetic Sequences', concepts=OrderedDict([('Sequences And Series_Arithmetic Sequences_Common Difference', Concept(topic='Sequences And Series', prerequisite_ids=[], postrequisite_ids=[], subtopic='Arithmetic Sequences', concept='Common Difference', questions=OrderedDict())), ('Sequences And Series_Arithmetic Sequences_Nth Term Formula', Concept(topic='Sequences And Series', prerequisite_ids=[], postrequisite_ids=[], subtopic='Arithmetic Sequences', concept='Nth Term Formula', questions=OrderedDict())), ('Sequences And Series_Arithmetic Sequences_Sum Of Series', Concept(topic='Sequences And Series', prerequisite_ids=[], postrequisite_ids=[], subtopic='Arithmetic Sequences', concept='Sum Of Series', questions=OrderedDict()))]))), ('Sequences And Series_Geometric Sequences', Subtopic(topic='Sequences And Series', prerequisite_ids=[], postrequisite_ids=[], subtopic='Geometric Sequences', concepts=OrderedDict([('Sequences And Series_Geometric Sequences_Common Ratio', Concept(topic='Sequences And Series', prerequisite_ids=[], postrequisite_ids=[], subtopic='Geometric Sequences', concept='Common Ratio', questions=OrderedDict())), ('Sequences And Series_Geometric Sequences_Nth Term Formula', Concept(topic='Sequences And Series', prerequisite_ids=[], postrequisite_ids=[], subtopic='Geometric Sequences', concept='Nth Term Formula', questions=OrderedDict())), ('Sequences And Series_Geometric Sequences_Sum Of Series', Concept(topic='Sequences And Series', prerequisite_ids=[], postrequisite_ids=[], subtopic='Geometric Sequences', concept='Sum Of Series', questions=OrderedDict()))])))]))), ('Permutations And Combinations', Topic(topic='Permutations And Combinations', prerequisite_ids=[], postrequisite_ids=[], subtopics=OrderedDict([('Permutations And Combinations_Basic Concepts', Subtopic(topic='Permutations And Combinations', prerequisite_ids=[], postrequisite_ids=[], subtopic='Basic Concepts', concepts=OrderedDict([('Permutations And Combinations_Basic Concepts_Definition Of Permutations', Concept(topic='Permutations And Combinations', prerequisite_ids=[], postrequisite_ids=[], subtopic='Basic Concepts', concept='Definition Of Permutations', questions=OrderedDict())), ('Permutations And Combinations_Basic Concepts_Definition Of Combinations', Concept(topic='Permutations And Combinations', prerequisite_ids=[], postrequisite_ids=[], subtopic='Basic Concepts', concept='Definition Of Combinations', questions=OrderedDict())), ('Permutations And Combinations_Basic Concepts_Factorial Notation', Concept(topic='Permutations And Combinations', prerequisite_ids=[], postrequisite_ids=[], subtopic='Basic Concepts', concept='Factorial Notation', questions=OrderedDict()))]))), ('Permutations And Combinations_Permutations', Subtopic(topic='Permutations And Combinations', prerequisite_ids=[], postrequisite_ids=[], subtopic='Permutations', concepts=OrderedDict([('Permutations And Combinations_Permutations_Permutations Formula', Concept(topic='Permutations And Combinations', prerequisite_ids=[], postrequisite_ids=[], subtopic='Permutations', concept='Permutations Formula', questions=OrderedDict())), ('Permutations And Combinations_Permutations_Permutations With Repetition', Concept(topic='Permutations And Combinations', prerequisite_ids=[], postrequisite_ids=[], subtopic='Permutations', concept='Permutations With Repetition', questions=OrderedDict())), ('Permutations And Combinations_Permutations_Circular Permutations', Concept(topic='Permutations And Combinations', prerequisite_ids=[], postrequisite_ids=[], subtopic='Permutations', concept='Circular Permutations', questions=OrderedDict()))]))), ('Permutations And Combinations_Combinations', Subtopic(topic='Permutations And Combinations', prerequisite_ids=[], postrequisite_ids=[], subtopic='Combinations', concepts=OrderedDict([('Permutations And Combinations_Combinations_Combinations Formula', Concept(topic='Permutations And Combinations', prerequisite_ids=[], postrequisite_ids=[], subtopic='Combinations', concept='Combinations Formula', questions=OrderedDict())), ('Permutations And Combinations_Combinations_Combinations With Repetition', Concept(topic='Permutations And Combinations', prerequisite_ids=[], postrequisite_ids=[], subtopic='Combinations', concept='Combinations With Repetition', questions=OrderedDict())), ('Permutations And Combinations_Combinations_Binomial Coefficient', Concept(topic='Permutations And Combinations', prerequisite_ids=[], postrequisite_ids=[], subtopic='Combinations', concept='Binomial Coefficient', questions=OrderedDict()))]))), ('Permutations And Combinations_Applications', Subtopic(topic='Permutations And Combinations', prerequisite_ids=[], postrequisite_ids=[], subtopic='Applications', concepts=OrderedDict([('Permutations And Combinations_Applications_Probability Applications', Concept(topic='Permutations And Combinations', prerequisite_ids=[], postrequisite_ids=[], subtopic='Applications', concept='Probability Applications', questions=OrderedDict())), ('Permutations And Combinations_Applications_Real-Life Scenarios', Concept(topic='Permutations And Combinations', prerequisite_ids=[], postrequisite_ids=[], subtopic='Applications', concept='Real-Life Scenarios', questions=OrderedDict())), ('Permutations And Combinations_Applications_Optimization Problems', Concept(topic='Permutations And Combinations', prerequisite_ids=[], postrequisite_ids=[], subtopic='Applications', concept='Optimization Problems', questions=OrderedDict()))])))]))), ('Binomial Theorem', Topic(topic='Binomial Theorem', prerequisite_ids=[], postrequisite_ids=[], subtopics=OrderedDict([('Binomial Theorem_Binomial Expansion', Subtopic(topic='Binomial Theorem', prerequisite_ids=[], postrequisite_ids=[], subtopic='Binomial Expansion', concepts=OrderedDict([('Binomial Theorem_Binomial Expansion_Binomial Coefficients', Concept(topic='Binomial Theorem', prerequisite_ids=[], postrequisite_ids=[], subtopic='Binomial Expansion', concept='Binomial Coefficients', questions=OrderedDict())), (\"Binomial Theorem_Binomial Expansion_Pascal'S Triangle\", Concept(topic='Binomial Theorem', prerequisite_ids=[], postrequisite_ids=[], subtopic='Binomial Expansion', concept=\"Pascal'S Triangle\", questions=OrderedDict())), ('Binomial Theorem_Binomial Expansion_General Term Formula', Concept(topic='Binomial Theorem', prerequisite_ids=[], postrequisite_ids=[], subtopic='Binomial Expansion', concept='General Term Formula', questions=OrderedDict()))]))), ('Binomial Theorem_Applications', Subtopic(topic='Binomial Theorem', prerequisite_ids=[], postrequisite_ids=[], subtopic='Applications', concepts=OrderedDict([('Binomial Theorem_Applications_Polynomial Expansion', Concept(topic='Binomial Theorem', prerequisite_ids=[], postrequisite_ids=[], subtopic='Applications', concept='Polynomial Expansion', questions=OrderedDict())), ('Binomial Theorem_Applications_Combinatorial Proofs', Concept(topic='Binomial Theorem', prerequisite_ids=[], postrequisite_ids=[], subtopic='Applications', concept='Combinatorial Proofs', questions=OrderedDict())), ('Binomial Theorem_Applications_Probability Calculations', Concept(topic='Binomial Theorem', prerequisite_ids=[], postrequisite_ids=[], subtopic='Applications', concept='Probability Calculations', questions=OrderedDict()))])))]))), ('Coordinate Geometry Basics', Topic(topic='Coordinate Geometry Basics', prerequisite_ids=[], postrequisite_ids=[], subtopics=OrderedDict([('Coordinate Geometry Basics_Distance Between Points', Subtopic(topic='Coordinate Geometry Basics', prerequisite_ids=[], postrequisite_ids=[], subtopic='Distance Between Points', concepts=OrderedDict([('Coordinate Geometry Basics_Distance Between Points_Distance Formula', Concept(topic='Coordinate Geometry Basics', prerequisite_ids=[], postrequisite_ids=[], subtopic='Distance Between Points', concept='Distance Formula', questions=OrderedDict())), ('Coordinate Geometry Basics_Distance Between Points_Pythagorean Theorem', Concept(topic='Coordinate Geometry Basics', prerequisite_ids=[], postrequisite_ids=[], subtopic='Distance Between Points', concept='Pythagorean Theorem', questions=OrderedDict())), ('Coordinate Geometry Basics_Distance Between Points_Coordinate Pairs', Concept(topic='Coordinate Geometry Basics', prerequisite_ids=[], postrequisite_ids=[], subtopic='Distance Between Points', concept='Coordinate Pairs', questions=OrderedDict()))]))), ('Coordinate Geometry Basics_Slope Of A Line', Subtopic(topic='Coordinate Geometry Basics', prerequisite_ids=[], postrequisite_ids=[], subtopic='Slope Of A Line', concepts=OrderedDict([('Coordinate Geometry Basics_Slope Of A Line_Slope Formula', Concept(topic='Coordinate Geometry Basics', prerequisite_ids=[], postrequisite_ids=[], subtopic='Slope Of A Line', concept='Slope Formula', questions=OrderedDict())), ('Coordinate Geometry Basics_Slope Of A Line_Positive And Negative Slope', Concept(topic='Coordinate Geometry Basics', prerequisite_ids=[], postrequisite_ids=[], subtopic='Slope Of A Line', concept='Positive And Negative Slope', questions=OrderedDict())), ('Coordinate Geometry Basics_Slope Of A Line_Undefined Slope', Concept(topic='Coordinate Geometry Basics', prerequisite_ids=[], postrequisite_ids=[], subtopic='Slope Of A Line', concept='Undefined Slope', questions=OrderedDict()))]))), ('Coordinate Geometry Basics_Parallel And Perpendicular Lines', Subtopic(topic='Coordinate Geometry Basics', prerequisite_ids=[], postrequisite_ids=[], subtopic='Parallel And Perpendicular Lines', concepts=OrderedDict([('Coordinate Geometry Basics_Parallel And Perpendicular Lines_Parallel Lines Condition', Concept(topic='Coordinate Geometry Basics', prerequisite_ids=[], postrequisite_ids=[], subtopic='Parallel And Perpendicular Lines', concept='Parallel Lines Condition', questions=OrderedDict())), ('Coordinate Geometry Basics_Parallel And Perpendicular Lines_Perpendicular Lines Condition', Concept(topic='Coordinate Geometry Basics', prerequisite_ids=[], postrequisite_ids=[], subtopic='Parallel And Perpendicular Lines', concept='Perpendicular Lines Condition', questions=OrderedDict())), ('Coordinate Geometry Basics_Parallel And Perpendicular Lines_Slopes Relationship', Concept(topic='Coordinate Geometry Basics', prerequisite_ids=[], postrequisite_ids=[], subtopic='Parallel And Perpendicular Lines', concept='Slopes Relationship', questions=OrderedDict()))])))]))), ('Circle Equations', Topic(topic='Circle Equations', prerequisite_ids=[], postrequisite_ids=[], subtopics=OrderedDict([('Circle Equations_Basic Properties', Subtopic(topic='Circle Equations', prerequisite_ids=[], postrequisite_ids=[], subtopic='Basic Properties', concepts=OrderedDict([('Circle Equations_Basic Properties_Radius And Diameter', Concept(topic='Circle Equations', prerequisite_ids=[], postrequisite_ids=[], subtopic='Basic Properties', concept='Radius And Diameter', questions=OrderedDict())), ('Circle Equations_Basic Properties_Circumference', Concept(topic='Circle Equations', prerequisite_ids=[], postrequisite_ids=[], subtopic='Basic Properties', concept='Circumference', questions=OrderedDict())), ('Circle Equations_Basic Properties_Area Of Circle', Concept(topic='Circle Equations', prerequisite_ids=[], postrequisite_ids=[], subtopic='Basic Properties', concept='Area Of Circle', questions=OrderedDict()))]))), ('Circle Equations_Equation Forms', Subtopic(topic='Circle Equations', prerequisite_ids=[], postrequisite_ids=[], subtopic='Equation Forms', concepts=OrderedDict([('Circle Equations_Equation Forms_Standard Form', Concept(topic='Circle Equations', prerequisite_ids=[], postrequisite_ids=[], subtopic='Equation Forms', concept='Standard Form', questions=OrderedDict())), ('Circle Equations_Equation Forms_General Form', Concept(topic='Circle Equations', prerequisite_ids=[], postrequisite_ids=[], subtopic='Equation Forms', concept='General Form', questions=OrderedDict())), ('Circle Equations_Equation Forms_Center-Radius Form', Concept(topic='Circle Equations', prerequisite_ids=[], postrequisite_ids=[], subtopic='Equation Forms', concept='Center-Radius Form', questions=OrderedDict()))]))), ('Circle Equations_Applications', Subtopic(topic='Circle Equations', prerequisite_ids=[], postrequisite_ids=[], subtopic='Applications', concepts=OrderedDict([('Circle Equations_Applications_Geometry Problems', Concept(topic='Circle Equations', prerequisite_ids=[], postrequisite_ids=[], subtopic='Applications', concept='Geometry Problems', questions=OrderedDict())), ('Circle Equations_Applications_Real-World Examples', Concept(topic='Circle Equations', prerequisite_ids=[], postrequisite_ids=[], subtopic='Applications', concept='Real-World Examples', questions=OrderedDict()))])))]))), ('Trigonometric Functions And Identities', Topic(topic='Trigonometric Functions And Identities', prerequisite_ids=[], postrequisite_ids=[], subtopics=OrderedDict([('Trigonometric Functions And Identities_Graphs Of Trigonometric Functions', Subtopic(topic='Trigonometric Functions And Identities', prerequisite_ids=[], postrequisite_ids=[], subtopic='Graphs Of Trigonometric Functions', concepts=OrderedDict([('Trigonometric Functions And Identities_Graphs Of Trigonometric Functions_Sine And Cosine Graphs', Concept(topic='Trigonometric Functions And Identities', prerequisite_ids=[], postrequisite_ids=[], subtopic='Graphs Of Trigonometric Functions', concept='Sine And Cosine Graphs', questions=OrderedDict())), ('Trigonometric Functions And Identities_Graphs Of Trigonometric Functions_Periodicity Of Functions', Concept(topic='Trigonometric Functions And Identities', prerequisite_ids=[], postrequisite_ids=[], subtopic='Graphs Of Trigonometric Functions', concept='Periodicity Of Functions', questions=OrderedDict())), ('Trigonometric Functions And Identities_Graphs Of Trigonometric Functions_Amplitude And Phase Shift', Concept(topic='Trigonometric Functions And Identities', prerequisite_ids=[], postrequisite_ids=[], subtopic='Graphs Of Trigonometric Functions', concept='Amplitude And Phase Shift', questions=OrderedDict()))]))), ('Trigonometric Functions And Identities_Trigonometric Identities', Subtopic(topic='Trigonometric Functions And Identities', prerequisite_ids=[], postrequisite_ids=[], subtopic='Trigonometric Identities', concepts=OrderedDict([('Trigonometric Functions And Identities_Trigonometric Identities_Basic Identities', Concept(topic='Trigonometric Functions And Identities', prerequisite_ids=[], postrequisite_ids=[], subtopic='Trigonometric Identities', concept='Basic Identities', questions=OrderedDict())), ('Trigonometric Functions And Identities_Trigonometric Identities_Sum And Difference Formulas', Concept(topic='Trigonometric Functions And Identities', prerequisite_ids=[], postrequisite_ids=[], subtopic='Trigonometric Identities', concept='Sum And Difference Formulas', questions=OrderedDict())), ('Trigonometric Functions And Identities_Trigonometric Identities_Double Angle Formulas', Concept(topic='Trigonometric Functions And Identities', prerequisite_ids=[], postrequisite_ids=[], subtopic='Trigonometric Identities', concept='Double Angle Formulas', questions=OrderedDict()))]))), ('Trigonometric Functions And Identities_Solving Trigonometric Equations', Subtopic(topic='Trigonometric Functions And Identities', prerequisite_ids=[], postrequisite_ids=[], subtopic='Solving Trigonometric Equations', concepts=OrderedDict([('Trigonometric Functions And Identities_Solving Trigonometric Equations_Using Identities', Concept(topic='Trigonometric Functions And Identities', prerequisite_ids=[], postrequisite_ids=[], subtopic='Solving Trigonometric Equations', concept='Using Identities', questions=OrderedDict())), ('Trigonometric Functions And Identities_Solving Trigonometric Equations_Inverse Trigonometric Functions', Concept(topic='Trigonometric Functions And Identities', prerequisite_ids=[], postrequisite_ids=[], subtopic='Solving Trigonometric Equations', concept='Inverse Trigonometric Functions', questions=OrderedDict())), ('Trigonometric Functions And Identities_Solving Trigonometric Equations_General Solutions', Concept(topic='Trigonometric Functions And Identities', prerequisite_ids=[], postrequisite_ids=[], subtopic='Solving Trigonometric Equations', concept='General Solutions', questions=OrderedDict()))])))]))), ('Introduction To Statistics', Topic(topic='Introduction To Statistics', prerequisite_ids=[], postrequisite_ids=[], subtopics=OrderedDict([('Introduction To Statistics_Role Of Statistics', Subtopic(topic='Introduction To Statistics', prerequisite_ids=[], postrequisite_ids=[], subtopic='Role Of Statistics', concepts=OrderedDict([('Introduction To Statistics_Role Of Statistics_Everyday Applications', Concept(topic='Introduction To Statistics', prerequisite_ids=[], postrequisite_ids=[], subtopic='Role Of Statistics', concept='Everyday Applications', questions=OrderedDict())), ('Introduction To Statistics_Role Of Statistics_Decision Making', Concept(topic='Introduction To Statistics', prerequisite_ids=[], postrequisite_ids=[], subtopic='Role Of Statistics', concept='Decision Making', questions=OrderedDict())), ('Introduction To Statistics_Role Of Statistics_Data Interpretation', Concept(topic='Introduction To Statistics', prerequisite_ids=[], postrequisite_ids=[], subtopic='Role Of Statistics', concept='Data Interpretation', questions=OrderedDict()))]))), ('Introduction To Statistics_Types Of Statistics', Subtopic(topic='Introduction To Statistics', prerequisite_ids=[], postrequisite_ids=[], subtopic='Types Of Statistics', concepts=OrderedDict([('Introduction To Statistics_Types Of Statistics_Descriptive Statistics', Concept(topic='Introduction To Statistics', prerequisite_ids=[], postrequisite_ids=[], subtopic='Types Of Statistics', concept='Descriptive Statistics', questions=OrderedDict())), ('Introduction To Statistics_Types Of Statistics_Inferential Statistics', Concept(topic='Introduction To Statistics', prerequisite_ids=[], postrequisite_ids=[], subtopic='Types Of Statistics', concept='Inferential Statistics', questions=OrderedDict()))]))), ('Introduction To Statistics_Measurement Scales', Subtopic(topic='Introduction To Statistics', prerequisite_ids=[], postrequisite_ids=[], subtopic='Measurement Scales', concepts=OrderedDict([('Introduction To Statistics_Measurement Scales_Nominal Scale', Concept(topic='Introduction To Statistics', prerequisite_ids=[], postrequisite_ids=[], subtopic='Measurement Scales', concept='Nominal Scale', questions=OrderedDict())), ('Introduction To Statistics_Measurement Scales_Ordinal Scale', Concept(topic='Introduction To Statistics', prerequisite_ids=[], postrequisite_ids=[], subtopic='Measurement Scales', concept='Ordinal Scale', questions=OrderedDict())), ('Introduction To Statistics_Measurement Scales_Interval Scale', Concept(topic='Introduction To Statistics', prerequisite_ids=[], postrequisite_ids=[], subtopic='Measurement Scales', concept='Interval Scale', questions=OrderedDict())), ('Introduction To Statistics_Measurement Scales_Ratio Scale', Concept(topic='Introduction To Statistics', prerequisite_ids=[], postrequisite_ids=[], subtopic='Measurement Scales', concept='Ratio Scale', questions=OrderedDict()))])))]))), ('Data Analysis & Representation', Topic(topic='Data Analysis & Representation', prerequisite_ids=[], postrequisite_ids=[], subtopics=OrderedDict([('Data Analysis & Representation_Measures Of Central Tendency', Subtopic(topic='Data Analysis & Representation', prerequisite_ids=[], postrequisite_ids=[], subtopic='Measures Of Central Tendency', concepts=OrderedDict([('Data Analysis & Representation_Measures Of Central Tendency_Mean Calculation', Concept(topic='Data Analysis & Representation', prerequisite_ids=[], postrequisite_ids=[], subtopic='Measures Of Central Tendency', concept='Mean Calculation', questions=OrderedDict())), ('Data Analysis & Representation_Measures Of Central Tendency_Median Determination', Concept(topic='Data Analysis & Representation', prerequisite_ids=[], postrequisite_ids=[], subtopic='Measures Of Central Tendency', concept='Median Determination', questions=OrderedDict())), ('Data Analysis & Representation_Measures Of Central Tendency_Mode Identification', Concept(topic='Data Analysis & Representation', prerequisite_ids=[], postrequisite_ids=[], subtopic='Measures Of Central Tendency', concept='Mode Identification', questions=OrderedDict()))]))), ('Data Analysis & Representation_Measures Of Dispersion', Subtopic(topic='Data Analysis & Representation', prerequisite_ids=[], postrequisite_ids=[], subtopic='Measures Of Dispersion', concepts=OrderedDict([('Data Analysis & Representation_Measures Of Dispersion_Range Calculation', Concept(topic='Data Analysis & Representation', prerequisite_ids=[], postrequisite_ids=[], subtopic='Measures Of Dispersion', concept='Range Calculation', questions=OrderedDict())), ('Data Analysis & Representation_Measures Of Dispersion_Variance Analysis', Concept(topic='Data Analysis & Representation', prerequisite_ids=[], postrequisite_ids=[], subtopic='Measures Of Dispersion', concept='Variance Analysis', questions=OrderedDict())), ('Data Analysis & Representation_Measures Of Dispersion_Standard Deviation', Concept(topic='Data Analysis & Representation', prerequisite_ids=[], postrequisite_ids=[], subtopic='Measures Of Dispersion', concept='Standard Deviation', questions=OrderedDict()))]))), ('Data Analysis & Representation_Partial Fractions', Subtopic(topic='Data Analysis & Representation', prerequisite_ids=[], postrequisite_ids=[], subtopic='Partial Fractions', concepts=OrderedDict([('Data Analysis & Representation_Partial Fractions_Fraction Decomposition', Concept(topic='Data Analysis & Representation', prerequisite_ids=[], postrequisite_ids=[], subtopic='Partial Fractions', concept='Fraction Decomposition', questions=OrderedDict())), ('Data Analysis & Representation_Partial Fractions_Linear Factors', Concept(topic='Data Analysis & Representation', prerequisite_ids=[], postrequisite_ids=[], subtopic='Partial Fractions', concept='Linear Factors', questions=OrderedDict())), ('Data Analysis & Representation_Partial Fractions_Quadratic Factors', Concept(topic='Data Analysis & Representation', prerequisite_ids=[], postrequisite_ids=[], subtopic='Partial Fractions', concept='Quadratic Factors', questions=OrderedDict()))]))), ('Data Analysis & Representation_Trigonometric Identities', Subtopic(topic='Data Analysis & Representation', prerequisite_ids=[], postrequisite_ids=[], subtopic='Trigonometric Identities', concepts=OrderedDict([('Data Analysis & Representation_Trigonometric Identities_Basic Identities', Concept(topic='Data Analysis & Representation', prerequisite_ids=[], postrequisite_ids=[], subtopic='Trigonometric Identities', concept='Basic Identities', questions=OrderedDict())), ('Data Analysis & Representation_Trigonometric Identities_Pythagorean Identities', Concept(topic='Data Analysis & Representation', prerequisite_ids=[], postrequisite_ids=[], subtopic='Trigonometric Identities', concept='Pythagorean Identities', questions=OrderedDict())), ('Data Analysis & Representation_Trigonometric Identities_Angle Sum Formulas', Concept(topic='Data Analysis & Representation', prerequisite_ids=[], postrequisite_ids=[], subtopic='Trigonometric Identities', concept='Angle Sum Formulas', questions=OrderedDict()))])))])))]))"
      ]
     },
     "execution_count": 12,
     "metadata": {},
     "output_type": "execute_result"
    }
   ],
   "source": [
    "topics_from_df = df_to_topics(df_path=created_topics_file_26.with_suffix(\".csv\"))\n",
    "topics_from_df"
   ]
  },
  {
   "cell_type": "code",
   "execution_count": 22,
   "metadata": {},
   "outputs": [
    {
     "data": {
      "text/plain": [
       "29"
      ]
     },
     "execution_count": 22,
     "metadata": {},
     "output_type": "execute_result"
    }
   ],
   "source": [
    "new_questions_file_26 = Path(f\"{COURSE}_new_questions_may_26.json\")\n",
    "new_questions = json.load(open(new_questions_file_26))\n",
    "new_questions[\"questions\"] = [\n",
    "    Question(**question) for question in new_questions[\"questions\"]\n",
    "]\n",
    "len(new_questions[\"questions\"])"
   ]
  },
  {
   "cell_type": "code",
   "execution_count": 14,
   "metadata": {},
   "outputs": [],
   "source": [
    "questions_dir = Path(\n",
    "    f\"{COURSE}_questions\"\n",
    ")  # path to the question bank with each question having an id, prompt, and solution\n",
    "questions = [\n",
    "    BaseQuestion(**json.loads(question_file.read_text()))\n",
    "    for folder in questions_dir.iterdir()\n",
    "    for question_file in list(folder.glob(\"*.json\"))[:QUESTIONS_PER_FOLDER]\n",
    "]\n",
    "random.shuffle(questions)"
   ]
  },
  {
   "cell_type": "code",
   "execution_count": 15,
   "metadata": {},
   "outputs": [],
   "source": [
    "questions_system = f\"\"\"\\\n",
    "{SYSTEM_PREFIX}\n",
    "You'll be given the problem and solution of a question and list of topic_subtopic_concept objects.\n",
    "Based on your knowledge of math, you have to decide which topic_subtopic_concept the question belongs to.\n",
    "\"\"\""
   ]
  },
  {
   "cell_type": "code",
   "execution_count": null,
   "metadata": {},
   "outputs": [],
   "source": [
    "# for i, question in enumerate(\n",
    "#     questions[new_questions[\"used\"] : 30], new_questions[\"used\"] + 1\n",
    "# ):\n",
    "#     print(f\"Question {i}\")\n",
    "#     concept_strs = [\n",
    "#         str(concept)\n",
    "#         for concept in topics4.concepts.values()\n",
    "#         if len(concept.questions) < 3\n",
    "#     ]\n",
    "#     if not concept_strs:\n",
    "#         break\n",
    "\n",
    "#     objects_str = \"\\n\\n\".join(concept_strs)\n",
    "#     concept_ids = list(topics4.concepts.keys())\n",
    "#     messages = [\n",
    "#         user_message(\n",
    "#             f\"<question>\\n{question}\\n</question>\\n\\n<objects>\\n{objects_str}\\n</objects>\"\n",
    "#         )\n",
    "#     ]\n",
    "#     try:\n",
    "#         belongs_to: str = ask_cld_or_oai(\n",
    "#             ask_cld=ask_cld,\n",
    "#             ask_oai=ask_oai,\n",
    "#             messages=messages,\n",
    "#             system=questions_system,\n",
    "#             model=ModelName.HAIKU,\n",
    "#             response_model=_t.Literal[*concept_ids],  # type: ignore\n",
    "#         )\n",
    "#         split = belongs_to.split(\"_\")\n",
    "#         new_question = Question(\n",
    "#             topic=split[0],\n",
    "#             subtopic=split[1],\n",
    "#             concept=split[2],\n",
    "#             problem=question.problem,\n",
    "#             solution=question.solution,\n",
    "#         )\n",
    "#         new_questions[\"questions\"].append(new_question.model_dump())\n",
    "#         topics4.add_questions(new_question)\n",
    "#         with open(new_questions_file, \"w\") as f:\n",
    "#             json.dump({\"used\": i, \"questions\": new_questions[\"questions\"]}, f, indent=2)\n",
    "#         time.sleep(0.3)\n",
    "#     except Exception as e:\n",
    "#         print(e)\n",
    "#         continue"
   ]
  },
  {
   "cell_type": "code",
   "execution_count": 23,
   "metadata": {},
   "outputs": [],
   "source": [
    "topics4.add_questions(new_questions[\"questions\"])"
   ]
  },
  {
   "cell_type": "code",
   "execution_count": 25,
   "metadata": {},
   "outputs": [],
   "source": [
    "df = topics_to_df(topics4, df_path=created_topics_file_26.with_suffix(\".csv\"))"
   ]
  },
  {
   "cell_type": "code",
   "execution_count": 18,
   "metadata": {},
   "outputs": [],
   "source": [
    "topics4 = df_to_topics(df_path=created_topics_file_26.with_suffix(\".csv\"))"
   ]
  },
  {
   "cell_type": "code",
   "execution_count": null,
   "metadata": {},
   "outputs": [],
   "source": [
    "prereq_system = f\"\"\"\\\n",
    "{SYSTEM_PREFIX}\n",
    "You'll be given a question with a problem and solution and a list of other questions.\n",
    "Based on your knowledge of math, you have to decide which question form the list is a prerequisite to the given question.\n",
    "Just one question. If none are a prerequisite, or if the question is super easy for a highschooler, select 'None'.\n",
    "\"\"\""
   ]
  },
  {
   "cell_type": "code",
   "execution_count": null,
   "metadata": {},
   "outputs": [],
   "source": [
    "# prerequisites = json.load(open(prerequisities_file))\n",
    "prerequisites = {}"
   ]
  },
  {
   "cell_type": "code",
   "execution_count": null,
   "metadata": {},
   "outputs": [],
   "source": [
    "question_values = list(topics4.questions.values())\n",
    "\n",
    "for question_idx, question in enumerate(question_values):\n",
    "    if question.id in prerequisites:\n",
    "        continue\n",
    "    prereq_qs = [\n",
    "        prereq_q\n",
    "        for prereq_q in question_values[:question_idx]\n",
    "        if prereq_q.concept != question.concept\n",
    "    ]\n",
    "    prereq_strs = [\n",
    "        f\"<question>\\n<id>\\n{prereq_q.id}\\n</id>\\n{prereq_q.problem}\\n{prereq_q.solution}\\n</question>\"\n",
    "        for prereq_q in prereq_qs\n",
    "    ]\n",
    "    if not prereq_strs:\n",
    "        continue\n",
    "    candidate_questions = \"\\n\\n\".join(prereq_strs)\n",
    "    messages = [\n",
    "        user_message(\n",
    "            f\"<question>\\n{question.problem}\\n{question.solution}\\n</question>\\n\\n<candidate_questions>\\n{candidate_questions}\\n</candidate_questions>\"\n",
    "        )\n",
    "    ]\n",
    "    try:\n",
    "        prereq_id: str = ask_cld_or_oai(\n",
    "            ask_cld=ask_cld,\n",
    "            ask_oai=ask_oai,\n",
    "            messages=messages,\n",
    "            system=prereq_system,\n",
    "            model=ModelName.HAIKU,\n",
    "            response_model=_t.Literal[\n",
    "                \"None\", *[question.id for question in prereq_qs]  # type: ignore\n",
    "            ],\n",
    "        )\n",
    "        if prereq_id not in [\"None\", None]:\n",
    "            topics4.add_prerequisites(\n",
    "                id=question.id, prerequisites=topics4.get(prereq_id)\n",
    "            )\n",
    "        prerequisites[question.id] = prereq_id\n",
    "        with open(prerequisities_file, \"w\") as f:\n",
    "            json.dump(prerequisites, f, indent=2)\n",
    "        time.sleep(0.3)\n",
    "    except Exception as e:\n",
    "        print(e)\n",
    "        continue"
   ]
  },
  {
   "cell_type": "code",
   "execution_count": null,
   "metadata": {},
   "outputs": [],
   "source": [
    "# used_topics = set()\n",
    "# used_subtopics = set()\n",
    "# used_concepts = set()\n",
    "# used_questions = set()\n",
    "# for topic_idx, topic_id in enumerate(list(topics4.topics.keys())[::-1]):\n",
    "#     topic = topics4.topics[topic_id]\n",
    "#     for subtopic_idx, subtopic_id in enumerate(list(topic.subtopics.keys())[::-1]):\n",
    "#         subtopic = topic.subtopics[subtopic_id]\n",
    "#         for concept_idx, concept_id in enumerate(list(subtopic.concepts.keys())[::-1]):\n",
    "#             concept = subtopic.concepts[concept_id]\n",
    "#             for concept_question in concept.questions.values():\n",
    "#                 if concept_question.id in prerequisites:\n",
    "#                     continue\n",
    "#                 prereq_qs = [\n",
    "#                     question\n",
    "#                     for question in topics4.questions.values()\n",
    "#                     if question.id != concept_question.id\n",
    "#                     and question.topic not in used_topics\n",
    "#                     and question.subtopic not in used_subtopics\n",
    "#                     and question.concept not in used_concepts\n",
    "#                     and question.id not in used_questions\n",
    "#                 ]\n",
    "#                 prereq_strs = [\n",
    "#                     f\"<question>\\n<id>\\n{question.id}\\n</id>\\n{question.problem}\\n{question.solution}\\n</question>\"\n",
    "#                     for question in prereq_qs\n",
    "#                 ]\n",
    "#                 if not prereq_strs:\n",
    "#                     break\n",
    "#                 candidate_questions = \"\\n\\n\".join(prereq_strs)\n",
    "#                 messages = [\n",
    "#                     user_message(\n",
    "#                         f\"<question>\\n{concept_question.problem}\\n{concept_question.solution}\\n</question>\\n\\n<candidate_questions>\\n{candidate_questions}\\n</candidate_questions>\"\n",
    "#                     )\n",
    "#                 ]\n",
    "#                 try:\n",
    "#                     prereq_id: str = ask_cld_or_oai(\n",
    "#                         ask_cld=ask_cld,\n",
    "#                         ask_oai=ask_oai,\n",
    "#                         messages=messages,\n",
    "#                         system=prereq_system,\n",
    "#                         model=ModelName.HAIKU,\n",
    "#                         response_model=_t.Literal[\n",
    "#                             \"None\", *[question.id for question in prereq_qs]  # type: ignore\n",
    "#                         ],\n",
    "#                     )\n",
    "#                     if prereq_id not in [\"None\", None]:\n",
    "#                         topics4.add_prerequisites(\n",
    "#                             id=concept_question.id, prerequisites=topics4.get(prereq_id)\n",
    "#                         )\n",
    "#                     prerequisites[concept_question.id] = prereq_id\n",
    "#                     with open(prerequisities_file, \"w\") as f:\n",
    "#                         json.dump(prerequisites, f, indent=2)\n",
    "#                     time.sleep(0.3)\n",
    "#                 except Exception as e:\n",
    "#                     print(e)\n",
    "#                     continue\n",
    "#                 used_questions.add(concept_question.id)\n",
    "#             used_concepts.add(concept_id)\n",
    "#         used_subtopics.add(subtopic_id)\n",
    "#     used_topics.add(topic_id)"
   ]
  },
  {
   "cell_type": "code",
   "execution_count": null,
   "metadata": {},
   "outputs": [],
   "source": [
    "with open(latest_topics_file, \"w\") as f:\n",
    "    json.dump(topics4.model_dump(), f, indent=2)"
   ]
  },
  {
   "cell_type": "code",
   "execution_count": null,
   "metadata": {},
   "outputs": [],
   "source": [
    "topics4.get(\n",
    "    \"Functions And Mappings_Composite And Inverse Functions_Inverse Functions_2\"\n",
    ").model_dump()"
   ]
  },
  {
   "cell_type": "code",
   "execution_count": null,
   "metadata": {},
   "outputs": [],
   "source": []
  }
 ],
 "metadata": {
  "kernelspec": {
   "display_name": ".venv",
   "language": "python",
   "name": "python3"
  },
  "language_info": {
   "codemirror_mode": {
    "name": "ipython",
    "version": 3
   },
   "file_extension": ".py",
   "mimetype": "text/x-python",
   "name": "python",
   "nbconvert_exporter": "python",
   "pygments_lexer": "ipython3",
   "version": "3.11.5"
  }
 },
 "nbformat": 4,
 "nbformat_minor": 2
}
