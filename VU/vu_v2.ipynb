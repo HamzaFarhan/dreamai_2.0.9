{
 "cells": [
  {
   "cell_type": "code",
   "execution_count": 1,
   "metadata": {},
   "outputs": [
    {
     "name": "stdout",
     "output_type": "stream",
     "text": [
      "The autoreload extension is already loaded. To reload it, use:\n",
      "  %reload_ext autoreload\n"
     ]
    }
   ],
   "source": [
    "from pathlib import Path\n",
    "import pandas as pd\n",
    "from vu_code import add_dependencies, assign_questions, create_topics\n",
    "from dreamai.ai import ModelName\n",
    "\n",
    "%load_ext autoreload\n",
    "%autoreload 2\n",
    "%reload_ext autoreload"
   ]
  },
  {
   "cell_type": "code",
   "execution_count": 2,
   "metadata": {},
   "outputs": [],
   "source": [
    "COURSE = \"math_102\"\n",
    "MONTH = \"JUNE\"\n",
    "DAY = 13\n",
    "\n",
    "today_file_name = f\"{COURSE}_{MONTH}_{DAY}\"\n",
    "today_topics_file = Path(f\"{today_file_name}_topics.json\")\n",
    "today_questions_file = Path(f\"{today_file_name}_questions.json\")\n",
    "today_prerequisites_file = Path(f\"{today_file_name}_prerequisites.json\")\n",
    "\n",
    "questions_dir = Path(f\"{COURSE}_questions\")"
   ]
  },
  {
   "cell_type": "code",
   "execution_count": 3,
   "metadata": {},
   "outputs": [
    {
     "data": {
      "text/plain": [
       "['Set, its different representations and types of sets',\n",
       " 'Complex numbers their addition, subtraction, multiplication and division and Modulus of a complex number',\n",
       " 'Mapping and their types, function and their types, composite and inverse of a function, addition, subtraction, multiplication and division of functions',\n",
       " 'Quadratic functions and quadratic formula with the types of solutions',\n",
       " 'Matrices with their addition, subtraction  and multiplication , finding the inverse of a matrix using augmented matrix and co-factors. Application of matrices in solving system of linear equations, Crammer rule Determinants',\n",
       " 'Arithmetic and Geometric Sequence with their nth terms and Series sum.',\n",
       " 'Permutations and Combinations with their applications on some real life scenarios',\n",
       " 'Binomial theorem and its applications in generalizing the formulas for higher powers ',\n",
       " 'In coordinate geometry find  the distance between two points, the slope of a line,condition for parallel and perpendicular lines,',\n",
       " 'Circle and equation of circle',\n",
       " 'Graphs of basic trigonometric functions, periodicity of sine and cosine functions, trigonometric identities and their applications to solve a trigonometric equation, Sum and Difference Formulas , Double Angle Formulas ',\n",
       " 'Statistics and its contribution in our life, types of statistics, measurement scales, ',\n",
       " 'Data Representation to analyse and find Measures of Central Tendency , Measures of Dispersion, Partial Fractions and Trigonometric Identities']"
      ]
     },
     "execution_count": 3,
     "metadata": {},
     "output_type": "execute_result"
    }
   ],
   "source": [
    "outline = Path(f\"{COURSE}.txt\").read_text().splitlines()\n",
    "outline"
   ]
  },
  {
   "cell_type": "code",
   "execution_count": 4,
   "metadata": {},
   "outputs": [],
   "source": [
    "topics = create_topics(\n",
    "    outline=outline, model=ModelName.GPT_3, topics_file=today_topics_file\n",
    ")"
   ]
  },
  {
   "cell_type": "code",
   "execution_count": 5,
   "metadata": {},
   "outputs": [
    {
     "name": "stdout",
     "output_type": "stream",
     "text": [
      "Loading topics from math_102_JUNE_13_topics_df.json\n",
      "Question 1\n",
      "Question 2\n",
      "Question 3\n",
      "Question 4\n",
      "Question 5\n"
     ]
    }
   ],
   "source": [
    "topics = assign_questions(\n",
    "    questions_dir=questions_dir,\n",
    "    topics_file=today_topics_file,\n",
    "    assigner_model=ModelName.GPT_3,\n",
    "    subquestion_model=ModelName.GPT_3,\n",
    "    code_model=ModelName.GPT_3,\n",
    "    num_questions=5,\n",
    "    assigned_questions_file=today_questions_file,\n",
    ")"
   ]
  },
  {
   "cell_type": "code",
   "execution_count": 6,
   "metadata": {},
   "outputs": [
    {
     "name": "stdout",
     "output_type": "stream",
     "text": [
      "Loading topics from math_102_JUNE_13_topics_df.json\n"
     ]
    }
   ],
   "source": [
    "topics = add_dependencies(\n",
    "    topics_file=today_topics_file,\n",
    "    model=ModelName.GPT_3,\n",
    "    prerequisities_file=today_prerequisites_file,\n",
    ")"
   ]
  }
 ],
 "metadata": {
  "kernelspec": {
   "display_name": ".venv",
   "language": "python",
   "name": "python3"
  },
  "language_info": {
   "codemirror_mode": {
    "name": "ipython",
    "version": 3
   },
   "file_extension": ".py",
   "mimetype": "text/x-python",
   "name": "python",
   "nbconvert_exporter": "python",
   "pygments_lexer": "ipython3",
   "version": "3.11.5"
  }
 },
 "nbformat": 4,
 "nbformat_minor": 2
}
