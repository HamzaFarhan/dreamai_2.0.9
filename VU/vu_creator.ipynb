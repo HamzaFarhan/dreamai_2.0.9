{
 "cells": [
  {
   "cell_type": "code",
   "execution_count": null,
   "metadata": {
    "metadata": {}
   },
   "outputs": [],
   "source": [
    "import json\n",
    "from pathlib import Path\n",
    "\n",
    "from vu_models import (\n",
    "    ATTEMPTS,\n",
    "    MAX_TOKENS,\n",
    "    MODEL,\n",
    "    QUESTIONS_PER_FOLDER,\n",
    "    Question,\n",
    "    Topic,\n",
    "    Topics,\n",
    "    create_topic,\n",
    ")\n",
    "\n",
    "from dreamai.ai import ModelName\n",
    "\n",
    "%load_ext autoreload\n",
    "%autoreload 2\n",
    "%reload_ext autoreload"
   ]
  },
  {
   "cell_type": "code",
   "execution_count": null,
   "metadata": {},
   "outputs": [],
   "source": [
    "DAY = 16\n",
    "COURSE = \"math_102\"\n",
    "created_topics_file = Path(f\"{COURSE}_created_topics_may_{DAY}.json\")\n",
    "created_questions_file = Path(f\"{COURSE}_created_questions_may_{DAY}.json\")\n",
    "final_topics_file = Path(f\"{COURSE}_final_topics_may_{DAY}.json\")"
   ]
  },
  {
   "cell_type": "code",
   "execution_count": null,
   "metadata": {},
   "outputs": [],
   "source": [
    "# math_102_text = Path(f\"{COURSE}.txt\").read_text()"
   ]
  },
  {
   "cell_type": "code",
   "execution_count": null,
   "metadata": {
    "metadata": {}
   },
   "outputs": [],
   "source": [
    "# created_topics = [\n",
    "#     create_topic(topic, model=ModelName.GPT_4, attempts=2)\n",
    "#     for topic in math_102_text.splitlines()\n",
    "# ]"
   ]
  },
  {
   "cell_type": "code",
   "execution_count": null,
   "metadata": {
    "metadata": {}
   },
   "outputs": [],
   "source": [
    "# topics = Topics(topics={topic.name: topic for topic in created_topics if topic})"
   ]
  },
  {
   "cell_type": "code",
   "execution_count": null,
   "metadata": {},
   "outputs": [],
   "source": [
    "# topics.create_groups(model=ModelName.GPT_4, attempts=ATTEMPTS, max_tokens=MAX_TOKENS)"
   ]
  },
  {
   "cell_type": "code",
   "execution_count": null,
   "metadata": {},
   "outputs": [],
   "source": [
    "# with open(created_topics_file, \"w\") as f:\n",
    "#     json.dump(topics.model_dump(), f, indent=2)"
   ]
  },
  {
   "cell_type": "code",
   "execution_count": null,
   "metadata": {},
   "outputs": [],
   "source": [
    "topics = Topics(**json.load(open(created_topics_file)))"
   ]
  },
  {
   "cell_type": "code",
   "execution_count": null,
   "metadata": {},
   "outputs": [],
   "source": [
    "questions_dir = Path(f\"{COURSE}_questions\")\n",
    "questions = {\n",
    "    json.loads(question_file.read_text())[\"id\"]: Question(\n",
    "        **json.loads(question_file.read_text())\n",
    "    )\n",
    "    for folder in questions_dir.iterdir()\n",
    "    for question_file in list(folder.glob(\"*.json\"))[:QUESTIONS_PER_FOLDER]\n",
    "}"
   ]
  },
  {
   "cell_type": "code",
   "execution_count": null,
   "metadata": {},
   "outputs": [],
   "source": [
    "done_questions = {\n",
    "    question.id: question for question in questions.values() if question.group_id\n",
    "}\n",
    "len(done_questions)"
   ]
  },
  {
   "cell_type": "code",
   "execution_count": null,
   "metadata": {},
   "outputs": [],
   "source": [
    "len(questions)"
   ]
  },
  {
   "cell_type": "code",
   "execution_count": null,
   "metadata": {},
   "outputs": [],
   "source": [
    "counter = 0\n",
    "n_questions = len(questions)\n",
    "for id, question in questions.items():\n",
    "    print(f\"Question {counter + 1}/{n_questions}\")\n",
    "    if counter >= n_questions:\n",
    "        break\n",
    "    if question.group_id != \"\":\n",
    "        continue\n",
    "    question.assign_group(topics=topics, model=ModelName.GPT_4)\n",
    "    question.add_subquestions(model=ModelName.GPT_4)\n",
    "    questions[id] = question\n",
    "    counter += 1"
   ]
  },
  {
   "cell_type": "code",
   "execution_count": null,
   "metadata": {},
   "outputs": [],
   "source": [
    "with open(final_topics_file, \"w\") as f:\n",
    "    json.dump(topics.model_dump(), f, indent=2)"
   ]
  },
  {
   "cell_type": "code",
   "execution_count": null,
   "metadata": {},
   "outputs": [],
   "source": [
    "with open(created_questions_file, \"w\") as f:\n",
    "    json.dump(\n",
    "        {id: question.model_dump() for id, question in questions.items()}, f, indent=2\n",
    "    )"
   ]
  },
  {
   "cell_type": "code",
   "execution_count": null,
   "metadata": {
    "metadata": {}
   },
   "outputs": [],
   "source": [
    "# pdf_file = \"/media/hamza/data2/algebra.pdf\"\n",
    "# collection_name = \"algebra_collection\""
   ]
  },
  {
   "cell_type": "code",
   "execution_count": null,
   "metadata": {
    "metadata": {}
   },
   "outputs": [],
   "source": [
    "# pdf_collection = pdf_to_collection(\n",
    "#     pdf_file,\n",
    "#     collection_name=collection_name,\n",
    "#     chunk_size=4000,\n",
    "#     chunk_overlap=200,\n",
    "#     device=\"cuda\",\n",
    "#     delete_existing=True,\n",
    "# )"
   ]
  },
  {
   "cell_type": "code",
   "execution_count": null,
   "metadata": {
    "metadata": {}
   },
   "outputs": [],
   "source": [
    "# pdf_collection = chroma_collection(name=collection_name, delete_existing=False)\n",
    "# pdf_collection.count()"
   ]
  },
  {
   "cell_type": "code",
   "execution_count": null,
   "metadata": {},
   "outputs": [],
   "source": [
    "import pandas as pd"
   ]
  },
  {
   "cell_type": "code",
   "execution_count": null,
   "metadata": {},
   "outputs": [],
   "source": [
    "df = pd.DataFrame({\"a\": [1, 2, 3], \"b\": [\"a\", \"b\", \"c\"]})\n",
    "df"
   ]
  },
  {
   "cell_type": "code",
   "execution_count": null,
   "metadata": {},
   "outputs": [],
   "source": []
  }
 ],
 "metadata": {
  "kernelspec": {
   "display_name": ".venv",
   "language": "python",
   "name": "python3"
  },
  "language_info": {
   "codemirror_mode": {
    "name": "ipython",
    "version": 3
   },
   "file_extension": ".py",
   "mimetype": "text/x-python",
   "name": "python",
   "nbconvert_exporter": "python",
   "pygments_lexer": "ipython3",
   "version": "3.11.5"
  }
 },
 "nbformat": 4,
 "nbformat_minor": 2
}
