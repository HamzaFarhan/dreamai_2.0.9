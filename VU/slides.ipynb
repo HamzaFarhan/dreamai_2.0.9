{
 "cells": [
  {
   "cell_type": "code",
   "execution_count": 1,
   "metadata": {},
   "outputs": [
    {
     "name": "stdout",
     "output_type": "stream",
     "text": [
      "The autoreload extension is already loaded. To reload it, use:\n",
      "  %reload_ext autoreload\n"
     ]
    }
   ],
   "source": [
    "from io import BytesIO\n",
    "from pathlib import Path\n",
    "from typing import Any\n",
    "\n",
    "import instructor\n",
    "import openai\n",
    "import requests\n",
    "from dotenv import load_dotenv\n",
    "from googleapiclient.discovery import build\n",
    "from googleapiclient.http import MediaFileUpload\n",
    "from PIL import Image\n",
    "from sympy import preview\n",
    "from .vu_dash import remove_asy\n",
    "\n",
    "from dreamai.ai import ModelName, assistant_message, system_message, user_message\n",
    "from dreamai.g_apis.auth import authenticate\n",
    "from dreamai.g_apis.slides import add_slide, create_presentation, create_service\n",
    "\n",
    "load_dotenv()\n",
    "\n",
    "ask_oai = instructor.from_openai(openai.OpenAI())\n",
    "\n",
    "SLIDES_API_VERSION = \"v1\"\n",
    "DRIVE_API_VERSION = \"v3\"\n",
    "\n",
    "%load_ext autoreload\n",
    "%autoreload 2\n",
    "%reload_ext autoreload"
   ]
  },
  {
   "cell_type": "code",
   "execution_count": 2,
   "metadata": {},
   "outputs": [],
   "source": [
    "TOKEN_FILE = \"dai_slides_drive_tokens.json\"\n",
    "CLIENT_SECRET_FILE = \"dai_slides_drive_creds.json\""
   ]
  },
  {
   "cell_type": "code",
   "execution_count": 12,
   "metadata": {},
   "outputs": [],
   "source": [
    "def upload_images_to_drive(\n",
    "    drive_service: Any, file_paths: str | Path | list[str | Path], folder_id: str\n",
    ") -> list[str]:\n",
    "    urls = []\n",
    "    if not isinstance(file_paths, list):\n",
    "        file_paths = [file_paths]\n",
    "    for file_path in file_paths:\n",
    "        file_path = str(file_path)\n",
    "        base_name = Path(file_path).stem\n",
    "        extension = Path(file_path).suffix\n",
    "        mime_type = \"image/jpeg\"\n",
    "\n",
    "        # Check if a file with the same name already exists in the folder\n",
    "        response = (\n",
    "            drive_service.files()\n",
    "            .list(\n",
    "                q=f\"name='{base_name}{extension}' and '{folder_id}' in parents\",\n",
    "                spaces=\"drive\",\n",
    "                fields=\"files(id, name)\",\n",
    "            )\n",
    "            .execute()\n",
    "        )\n",
    "        files = response.get(\"files\", [])\n",
    "\n",
    "        # If a file with the same name exists, add a suffix to the name\n",
    "        if files:\n",
    "            file_metadata = {\n",
    "                \"name\": f\"{base_name}_{len(files)}{extension}\",\n",
    "                \"mimeType\": mime_type,\n",
    "                \"parents\": [folder_id],\n",
    "            }\n",
    "        else:\n",
    "            file_metadata = {\n",
    "                \"name\": f\"{base_name}{extension}\",\n",
    "                \"mimeType\": mime_type,\n",
    "                \"parents\": [folder_id],\n",
    "            }\n",
    "\n",
    "        media = MediaFileUpload(file_path, mimetype=mime_type, resumable=True)\n",
    "        file = (\n",
    "            drive_service.files()\n",
    "            .create(body=file_metadata, media_body=media, fields=\"id\")\n",
    "            .execute()\n",
    "        )\n",
    "\n",
    "        permission = {\n",
    "            \"type\": \"anyone\",\n",
    "            \"role\": \"reader\",\n",
    "        }\n",
    "        drive_service.permissions().create(fileId=file[\"id\"], body=permission).execute()\n",
    "\n",
    "        file_url = (\n",
    "            drive_service.files()\n",
    "            .get(fileId=file[\"id\"], fields=\"webContentLink\")\n",
    "            .execute()[\"webContentLink\"]\n",
    "        )\n",
    "        urls.append(file_url)\n",
    "    return urls\n",
    "\n",
    "\n",
    "def create_drive_folder(drive_service: Any, folder_name: str) -> str:\n",
    "    file_metadata = {\n",
    "        \"name\": folder_name,\n",
    "        \"mimeType\": \"application/vnd.google-apps.folder\",\n",
    "    }\n",
    "    file = drive_service.files().create(body=file_metadata, fields=\"id\").execute()\n",
    "    return file.get(\"id\")\n",
    "\n",
    "\n",
    "def create_slide(slides_service: Any, presentation_id: str, page_id: str):\n",
    "    # Check if the page_id exists, if not, create a new slide\n",
    "    presentation = (\n",
    "        slides_service.presentations().get(presentationId=presentation_id).execute()\n",
    "    )\n",
    "    slide_ids = [slide[\"objectId\"] for slide in presentation.get(\"slides\", [])]\n",
    "    if page_id not in slide_ids:\n",
    "        # Create a new slide\n",
    "        req = {\"createSlide\": {\"objectId\": page_id, \"insertionIndex\": len(slide_ids)}}\n",
    "        body = {\"requests\": [req]}\n",
    "        slides_service.presentations().batchUpdate(\n",
    "            presentationId=presentation_id, body=body\n",
    "        ).execute()\n",
    "\n",
    "\n",
    "def add_title(\n",
    "    slides_service: Any,\n",
    "    presentation_id: str,\n",
    "    page_id: str,\n",
    "    title_id: str,\n",
    "    title: str,\n",
    "    title_height: int,\n",
    "    slide_width: int,\n",
    "    current_y: int,\n",
    "):\n",
    "    # Add title text box\n",
    "    req = {\n",
    "        \"createShape\": {\n",
    "            \"objectId\": title_id,\n",
    "            \"shapeType\": \"TEXT_BOX\",\n",
    "            \"elementProperties\": {\n",
    "                \"pageObjectId\": page_id,\n",
    "                \"size\": {\n",
    "                    \"height\": {\"magnitude\": title_height, \"unit\": \"EMU\"},\n",
    "                    \"width\": {\"magnitude\": slide_width, \"unit\": \"EMU\"},\n",
    "                },\n",
    "                \"transform\": {\n",
    "                    \"scaleX\": 1,\n",
    "                    \"scaleY\": 1,\n",
    "                    \"translateX\": 0,\n",
    "                    \"translateY\": current_y,\n",
    "                    \"unit\": \"EMU\",\n",
    "                },\n",
    "            },\n",
    "        }\n",
    "    }\n",
    "    body = {\"requests\": [req]}\n",
    "    slides_service.presentations().batchUpdate(\n",
    "        presentationId=presentation_id, body=body\n",
    "    ).execute()\n",
    "\n",
    "    # Insert text into the text box\n",
    "    req = {\n",
    "        \"insertText\": {\n",
    "            \"objectId\": title_id,\n",
    "            \"insertionIndex\": 0,\n",
    "            \"text\": title,\n",
    "        }\n",
    "    }\n",
    "    body = {\"requests\": [req]}\n",
    "    slides_service.presentations().batchUpdate(\n",
    "        presentationId=presentation_id, body=body\n",
    "    ).execute()\n",
    "\n",
    "\n",
    "def add_image(\n",
    "    slides_service: Any,\n",
    "    presentation_id: str,\n",
    "    page_id: str,\n",
    "    image_id: str,\n",
    "    image_url: str,\n",
    "    slide_width: int,\n",
    "    slide_image_width: int,\n",
    "    slide_image_height: int,\n",
    "    current_y: int,\n",
    "):\n",
    "    # Add image\n",
    "    req = {\n",
    "        \"createImage\": {\n",
    "            \"objectId\": image_id,\n",
    "            \"url\": image_url,\n",
    "            \"elementProperties\": {\n",
    "                \"pageObjectId\": page_id,\n",
    "                \"size\": {\n",
    "                    \"height\": {\"magnitude\": slide_image_height, \"unit\": \"EMU\"},\n",
    "                    \"width\": {\"magnitude\": slide_image_width, \"unit\": \"EMU\"},\n",
    "                },\n",
    "                \"transform\": {\n",
    "                    \"scaleX\": 1,\n",
    "                    \"scaleY\": 1,\n",
    "                    \"translateX\": (slide_width - slide_image_width)\n",
    "                    / 2,  # Center the image horizontally\n",
    "                    \"translateY\": current_y,\n",
    "                    \"unit\": \"EMU\",\n",
    "                },\n",
    "            },\n",
    "        }\n",
    "    }\n",
    "    body = {\"requests\": [req]}\n",
    "    slides_service.presentations().batchUpdate(\n",
    "        presentationId=presentation_id, body=body\n",
    "    ).execute()\n",
    "\n",
    "\n",
    "def add_images(\n",
    "    slides_service: Any,\n",
    "    presentation_id: str,\n",
    "    page_ids: str | list[str],\n",
    "    image_urls: str | list[str],\n",
    "    image_titles: str | list[str],\n",
    "):\n",
    "    if isinstance(image_urls, str):\n",
    "        image_urls = [image_urls]\n",
    "    if isinstance(image_titles, str):\n",
    "        image_titles = [image_titles]\n",
    "    if isinstance(page_ids, str):\n",
    "        page_ids = [page_ids]\n",
    "\n",
    "    # Ensure the number of page_ids matches the number of image_urls and image_titles\n",
    "    if len(page_ids) < len(image_urls):\n",
    "        base_page_id = page_ids[0]\n",
    "        for i in range(len(page_ids), len(image_urls)):\n",
    "            page_ids.append(f\"{base_page_id}_{i+1}\")\n",
    "\n",
    "    # Retrieve the presentation details to get the slide dimensions\n",
    "    presentation = (\n",
    "        slides_service.presentations().get(presentationId=presentation_id).execute()\n",
    "    )\n",
    "    page_size = presentation[\"pageSize\"]\n",
    "    slide_height = page_size[\"height\"][\"magnitude\"]  # Height of the slide in EMUs\n",
    "    slide_width = page_size[\"width\"][\"magnitude\"]  # Width of the slide in EMUs\n",
    "\n",
    "    # Calculate the vertical spacing and heights for the titles and images\n",
    "    total_available_height = slide_height * 0.9  # Leave some margin at top and bottom\n",
    "    spacing = total_available_height * 0.1\n",
    "    title_height = spacing  # Height of the title text box\n",
    "\n",
    "    for i, (page_id, image_url, title) in enumerate(\n",
    "        zip(page_ids, image_urls, image_titles)\n",
    "    ):\n",
    "        current_y = spacing\n",
    "        image_id = f\"MyImage_{i+1}\"\n",
    "        text_id = f\"MyText_{i+1}\"\n",
    "\n",
    "        create_slide(slides_service, presentation_id, page_id)\n",
    "\n",
    "        add_title(\n",
    "            slides_service=slides_service,\n",
    "            presentation_id=presentation_id,\n",
    "            page_id=page_id,\n",
    "            title_id=text_id,\n",
    "            title=title,\n",
    "            title_height=title_height,\n",
    "            slide_width=slide_width,\n",
    "            current_y=current_y,\n",
    "        )\n",
    "        current_y += title_height + spacing  # Move down for the image\n",
    "\n",
    "        # Get the dimensions of the image\n",
    "        response = requests.get(image_url)\n",
    "        image = Image.open(BytesIO(response.content))\n",
    "        image_width, image_height = image.size\n",
    "\n",
    "        # Calculate the aspect ratio of the image\n",
    "        aspect_ratio = image_width / image_height\n",
    "\n",
    "        # Calculate the width and height of the image on the slide\n",
    "        slide_image_width = slide_width - 2 * spacing\n",
    "        slide_image_height = slide_width / aspect_ratio\n",
    "        available_height = total_available_height - title_height - spacing\n",
    "        if slide_image_height > available_height:\n",
    "            slide_image_height = available_height\n",
    "            slide_image_width = slide_height * aspect_ratio\n",
    "\n",
    "        add_image(\n",
    "            slides_service=slides_service,\n",
    "            presentation_id=presentation_id,\n",
    "            page_id=page_id,\n",
    "            image_id=image_id,\n",
    "            image_url=image_url,\n",
    "            slide_width=slide_width,\n",
    "            slide_image_width=slide_image_width,\n",
    "            slide_image_height=slide_image_height,\n",
    "            current_y=current_y,\n",
    "        )\n",
    "\n",
    "    print(\"Images and titles added successfully\")"
   ]
  },
  {
   "cell_type": "code",
   "execution_count": 4,
   "metadata": {},
   "outputs": [],
   "source": [
    "# def create_slide(slides_service: Any, presentation_id: str, page_id: str):\n",
    "#     # Check if the page_id exists, if not, create a new slide with TITLE_AND_BODY layout\n",
    "#     presentation = (\n",
    "#         slides_service.presentations().get(presentationId=presentation_id).execute()\n",
    "#     )\n",
    "#     slide_ids = [slide[\"objectId\"] for slide in presentation.get(\"slides\", [])]\n",
    "#     if page_id not in slide_ids:\n",
    "#         # Create a new slide with TITLE_AND_BODY layout\n",
    "#         req = {\n",
    "#             \"createSlide\": {\n",
    "#                 \"objectId\": page_id,\n",
    "#                 \"insertionIndex\": len(slide_ids),\n",
    "#                 \"slideLayoutReference\": {\"predefinedLayout\": \"TITLE_AND_BODY\"},\n",
    "#             }\n",
    "#         }\n",
    "#         body = {\"requests\": [req]}\n",
    "#         slides_service.presentations().batchUpdate(\n",
    "#             presentationId=presentation_id, body=body\n",
    "#         ).execute()\n",
    "\n",
    "\n",
    "# def add_title(\n",
    "#     slides_service: Any,\n",
    "#     presentation_id: str,\n",
    "#     page_id: str,\n",
    "#     title: str,\n",
    "# ):\n",
    "#     # Insert text into the title placeholder\n",
    "#     req = {\n",
    "#         \"insertText\": {\n",
    "#             \"objectId\": f\"{page_id}_title\",\n",
    "#             \"insertionIndex\": 0,\n",
    "#             \"text\": title,\n",
    "#         }\n",
    "#     }\n",
    "#     body = {\"requests\": [req]}\n",
    "#     slides_service.presentations().batchUpdate(\n",
    "#         presentationId=presentation_id, body=body\n",
    "#     ).execute()\n",
    "\n",
    "\n",
    "# def add_image(\n",
    "#     slides_service: Any,\n",
    "#     presentation_id: str,\n",
    "#     page_id: str,\n",
    "#     image_url: str,\n",
    "# ):\n",
    "#     # Add image to the body placeholder\n",
    "#     req = {\n",
    "#         \"createImage\": {\n",
    "#             \"objectId\": f\"{page_id}_body\",\n",
    "#             \"url\": image_url,\n",
    "#             \"elementProperties\": {\n",
    "#                 \"pageObjectId\": page_id,\n",
    "#             },\n",
    "#         }\n",
    "#     }\n",
    "#     body = {\"requests\": [req]}\n",
    "#     slides_service.presentations().batchUpdate(\n",
    "#         presentationId=presentation_id, body=body\n",
    "#     ).execute()\n",
    "\n",
    "\n",
    "# def add_images(\n",
    "#     slides_service: Any,\n",
    "#     presentation_id: str,\n",
    "#     page_ids: str | list[str],\n",
    "#     image_urls: str | list[str],\n",
    "#     image_titles: str | list[str],\n",
    "# ):\n",
    "#     if isinstance(image_urls, str):\n",
    "#         image_urls = [image_urls]\n",
    "#     if isinstance(image_titles, str):\n",
    "#         image_titles = [image_titles]\n",
    "#     if isinstance(page_ids, str):\n",
    "#         page_ids = [page_ids]\n",
    "\n",
    "#     # Ensure the number of page_ids matches the number of image_urls and image_titles\n",
    "#     if len(page_ids) < len(image_urls):\n",
    "#         base_page_id = page_ids[0]\n",
    "#         for i in range(len(page_ids), len(image_urls)):\n",
    "#             page_ids.append(f\"{base_page_id}_{i+1}\")\n",
    "\n",
    "#     for i, (page_id, image_url, title) in enumerate(\n",
    "#         zip(page_ids, image_urls, image_titles)\n",
    "#     ):\n",
    "#         create_slide(slides_service, presentation_id, page_id)\n",
    "#         add_title(slides_service, presentation_id, page_id, title)\n",
    "#         add_image(slides_service, presentation_id, page_id, image_url)\n",
    "\n",
    "#     print(\"Images and titles added successfully\")"
   ]
  },
  {
   "cell_type": "code",
   "execution_count": 5,
   "metadata": {},
   "outputs": [],
   "source": [
    "problem_1 = remove_asy(\n",
    "    'Let $\\\\theta$ be the angle between the line\\n\\\\[\\\\frac{x + 1}{2} = \\\\frac{y}{3} = \\\\frac{z - 3}{6}\\\\]and the plane $-10x - 2y + 11z = 3.$  Find $\\\\sin \\\\theta.$\\n\\n[asy]\\nimport three;\\n\\nsize(150);\\ncurrentprojection = perspective(6,3,2);\\n\\ntriple I = (1,0,0), J = (0,1,0), K = (0,0,1), O = (0,0,0);\\n\\ndraw(surface((2*I + 2*J)--(2*I - 2*J)--(-2*I - 2*J)--(-2*I + 2*J)--cycle),paleyellow,nolight);\\ndraw((2*I + 2*J)--(2*I - 2*J)--(-2*I - 2*J)--(-2*I + 2*J)--cycle);\\ndraw((0,0,0)--(-0.5,1.5,1));\\ndraw((0,0,0)--0.8*(-0.5,1.5,1),Arrow3(6));\\ndraw((0,0,0)--1.2*(-0.5,-1.5,-1),dashed);\\ndraw(1.2*(-0.5,-1.5,-1)--2*(-0.5,-1.5,-1));\\ndraw((0,0,0)--(-0.5,1.5,0));\\n\\nlabel(\"$\\\\theta$\", 0.5*(-0.5,1.5,0.0) + (0,0,0.3));\\n\\ndot((0,0,0));\\n//\\n[/asy]'\n",
    ")\n",
    "solution_1 = remove_asy(\n",
    "    'The direction vector of the line is $\\\\mathbf{d} = \\\\begin{pmatrix} 2 \\\\\\\\ 3 \\\\\\\\ 6 \\\\end{pmatrix},$ and the normal vector to the plane is $\\\\mathbf{n} = \\\\begin{pmatrix} -10 \\\\\\\\ -2 \\\\\\\\ 11 \\\\end{pmatrix}.$  Note that if $\\\\theta$ is the angle between $\\\\mathbf{d}$ in the plane, then the angle between $\\\\mathbf{d}$ and $\\\\mathbf{n}$ is $90^\\\\circ - \\\\theta.$\\n\\n[asy]\\nimport three;\\n\\nsize(150);\\ncurrentprojection = perspective(6,3,2);\\n\\ntriple I = (1,0,0), J = (0,1,0), K = (0,0,1), O = (0,0,0);\\n\\ndraw(surface((2*I + 2*J)--(2*I - 2*J)--(-2*I - 2*J)--(-2*I + 2*J)--cycle),paleyellow,nolight);\\ndraw((2*I + 2*J)--(2*I - 2*J)--(-2*I - 2*J)--(-2*I + 2*J)--cycle);\\ndraw((0,0,0)--(-0.5,1.5,1));\\ndraw((0,0,0)--0.8*(-0.5,1.5,1),Arrow3(6));\\ndraw((0,0,0)--1.2*(-0.5,-1.5,-1),dashed);\\ndraw(1.2*(-0.5,-1.5,-1)--2*(-0.5,-1.5,-1));\\ndraw((0,0,0)--(-0.5,1.5,0));\\ndraw((0,0,0)--(0,0,1),Arrow3(6));\\n\\nlabel(\"$\\\\theta$\", 0.5*(-0.5,1.5,0.0) + (0,0,0.3));\\nlabel(\"$\\\\mathbf{d}$\", (-0.5,1.5,1), NE);\\nlabel(\"$\\\\mathbf{n}$\", (0,0,1), N);\\n\\ndot((0,0,0));\\n[/asy]\\n\\nTherefore,\\n\\\\[\\\\cos (90^\\\\circ - \\\\theta) = \\\\frac{\\\\mathbf{d} \\\\cdot \\\\mathbf{n}}{\\\\|\\\\mathbf{d}\\\\| \\\\|\\\\mathbf{n}\\\\|} = \\\\frac{\\\\begin{pmatrix} 2 \\\\\\\\ 3 \\\\\\\\ 6 \\\\end{pmatrix} \\\\cdot \\\\begin{pmatrix} -10 \\\\\\\\ -2 \\\\\\\\ 11 \\\\end{pmatrix}}{\\\\left\\\\| \\\\begin{pmatrix} 2 \\\\\\\\ 3 \\\\\\\\ 6 \\\\end{pmatrix} \\\\right\\\\| \\\\left\\\\| \\\\begin{pmatrix} -10 \\\\\\\\ -2 \\\\\\\\ 11 \\\\end{pmatrix} \\\\right\\\\|} = \\\\frac{40}{7 \\\\cdot 15} = \\\\frac{8}{21}.\\\\]Hence, $\\\\sin \\\\theta = \\\\boxed{\\\\frac{8}{21}}.$'\n",
    ")\n",
    "problem_2 = remove_asy(\n",
    "    \"Suppose $f(x)=\\\\frac{3}{2-x}$. If $g(x)=\\\\frac{1}{f^{-1}(x)}+9$, find $g(3)$.\"\n",
    ")\n",
    "solution_2 = remove_asy(\n",
    "    \"Substituting $f^{-1}(x)$ into our expression for $f$, we get \\\\[\\\\frac{3}{2-f^{-1}(x)}=x.\\\\]Solving for $f^{-1}(x)$, we find that $f^{-1}(x)=2-\\\\frac{3}{x}$, so $f^{-1}(3)=2-\\\\frac{3}{3}=1$. Therefore, $g(3)=\\\\frac{1}{f^{-1}(3)}+9=\\\\frac{1}{1}+9=\\\\boxed{10}$.\"\n",
    ")\n",
    "\n",
    "preview(problem_1, output=\"png\", viewer=\"file\", filename=\"problem_1.png\")\n",
    "preview(solution_1, output=\"png\", viewer=\"file\", filename=\"solution_1.png\")\n",
    "preview(problem_2, output=\"png\", viewer=\"file\", filename=\"problem_2.png\")\n",
    "preview(solution_2, output=\"png\", viewer=\"file\", filename=\"solution_2.png\")"
   ]
  },
  {
   "cell_type": "code",
   "execution_count": 14,
   "metadata": {},
   "outputs": [],
   "source": []
  },
  {
   "cell_type": "code",
   "execution_count": 28,
   "metadata": {},
   "outputs": [
    {
     "name": "stdout",
     "output_type": "stream",
     "text": [
      "Step 1: Start with the given function f of x equals 3 over 2 minus x.\n",
      "Step 2: Substitute the inverse function, f inverse of x, into the equation for f of x. So, we have 3 over 2 minus f inverse of x equals x.\n",
      "Step 3: Solve for f inverse of x. To do this, multiply both sides of the equation by 2 minus f inverse of x to get rid of the denominator. This gives 3 equals x times (2 minus f inverse of x). Next, distribute x to get 3 equals 2x minus x times f inverse of x. Isolate f inverse of x by adding x times f inverse of x to both sides and dividing both sides by x. This results in f inverse of x equals 2 minus 3 over x.\n",
      "Step 4: Evaluate f inverse of 3. Plug 3 into the expression we found for f inverse of x. So, f inverse of 3 equals 2 minus 3 over 3 equals 2 minus 1 equals 1.\n",
      "Step 5: Find g of 3. We have g of x equals 1 over f inverse of x plus 9. Substituting 3 in for x, we get g of 3 equals 1 over f inverse of 3 plus 9. Since we found that f inverse of 3 is 1, this simplifies to g of 3 equals 1 over 1 plus 9 equals 1 plus 9 equals 10. Therefore, the final answer is 10.\n"
     ]
    }
   ],
   "source": [
    "joined_steps = \"\\n\".join(steps)\n",
    "print(joined_steps)"
   ]
  },
  {
   "cell_type": "code",
   "execution_count": 42,
   "metadata": {},
   "outputs": [],
   "source": [
    "system = \"\"\"\n",
    "You are a world class math instructor.\n",
    "You will be given a problem, its solution, and the detailed steps to explain the solution.\n",
    "The steps are in plain english, without any math symbols.\n",
    "For each step, convert it into mathematically formatted text. With proper symbols and formatting and notations.\n",
    "For example, instead of writing x over y, write \\\\frac{x}{y}. Instead of x squared, write x^2. etc.\n",
    "Use $ for math.\n",
    "Return there are 5 steps. Return 5 rewritten steps.\n",
    "\"\"\"\n",
    "\n",
    "user = user_message(\n",
    "    f\"<problem>\\n{problem_2}\\n</problem>\\n\\n<solution>\\n{solution_2}\\n</solution>\\n\\n<steps>\\n{joined_steps}\\n</steps>\"\n",
    ")"
   ]
  },
  {
   "cell_type": "code",
   "execution_count": 43,
   "metadata": {},
   "outputs": [],
   "source": [
    "math_steps = ask_oai.create(\n",
    "    response_model=list[str],\n",
    "    messages=[system_message(system), user],  # type: ignore\n",
    "    model=ModelName.GPT_4O,\n",
    "    temperature=0.4,\n",
    ")"
   ]
  },
  {
   "cell_type": "code",
   "execution_count": 44,
   "metadata": {},
   "outputs": [
    {
     "data": {
      "text/plain": [
       "['Step 1: Start with the given function $f(x) = \\\\frac{3}{2 - x}$.',\n",
       " 'Step 2: Substitute the inverse function, $f^{-1}(x)$, into the equation for $f(x)$. So, we have $\\\\frac{3}{2 - f^{-1}(x)} = x$.',\n",
       " 'Step 3: Solve for $f^{-1}(x)$. To do this, multiply both sides of the equation by $2 - f^{-1}(x)$ to get rid of the denominator. This gives $3 = x(2 - f^{-1}(x))$. Next, distribute $x$ to get $3 = 2x - x f^{-1}(x)$. Isolate $f^{-1}(x)$ by adding $x f^{-1}(x)$ to both sides and dividing both sides by $x$. This results in $f^{-1}(x) = 2 - \\\\frac{3}{x}$.',\n",
       " 'Step 4: Evaluate $f^{-1}(3)$. Plug $3$ into the expression we found for $f^{-1}(x)$. So, $f^{-1}(3) = 2 - \\\\frac{3}{3} = 2 - 1 = 1$.',\n",
       " 'Step 5: Find $g(3)$. We have $g(x) = \\\\frac{1}{f^{-1}(x)} + 9$. Substituting $3$ in for $x$, we get $g(3) = \\\\frac{1}{f^{-1}(3)} + 9$. Since we found that $f^{-1}(3)$ is $1$, this simplifies to $g(3) = \\\\frac{1}{1} + 9 = 1 + 9 = 10$. Therefore, the final answer is $10$.']"
      ]
     },
     "execution_count": 44,
     "metadata": {},
     "output_type": "execute_result"
    }
   ],
   "source": [
    "math_steps"
   ]
  },
  {
   "cell_type": "code",
   "execution_count": 45,
   "metadata": {},
   "outputs": [],
   "source": [
    "for i, step in enumerate(math_steps):\n",
    "    preview(step, output=\"png\", viewer=\"file\", filename=f\"step_{i+1}_2.png\")"
   ]
  },
  {
   "cell_type": "code",
   "execution_count": 89,
   "metadata": {},
   "outputs": [
    {
     "data": {
      "text/plain": [
       "['\\\\text{Step 1: Identify the direction vector of the line and the normal vector to the plane. The direction vector of the line is } \\\\mathbf{d} = \\\\begin{pmatrix} 2 \\\\\\\\ 3 \\\\\\\\ 6 \\\\end{pmatrix} \\\\text{ and the normal vector to the plane is } \\\\mathbf{n} = \\\\begin{pmatrix} -10 \\\\\\\\ -2 \\\\\\\\ 11 \\\\end{pmatrix} .',\n",
       " '\\\\text{Step 2: Understand the relationship between the angles. If } \\\\theta \\\\text{ is the angle between the direction vector and the plane, then the angle between the direction vector and the normal vector of the plane is } 90^\\\\circ - \\\\theta .',\n",
       " '\\\\text{Step 3: Compute the dot product of the direction vector and the normal vector. The dot product is found by multiplying corresponding components and then summing them. So, } 2 \\\\cdot (-10) + 3 \\\\cdot (-2) + 6 \\\\cdot 11 = -20 + (-6) + 66 = 40 .',\n",
       " '\\\\text{Step 4: Determine the magnitudes of the direction vector and the normal vector. The magnitude of the direction vector is } \\\\|\\\\mathbf{d}\\\\| = \\\\sqrt{2^2 + 3^2 + 6^2} = \\\\sqrt{49} = 7 . \\\\text{ The magnitude of the normal vector is } \\\\|\\\\mathbf{n}\\\\| = \\\\sqrt{(-10)^2 + (-2)^2 + 11^2} = \\\\sqrt{225} = 15 .',\n",
       " '\\\\text{Step 5: Apply the cosine formula. Cosine of } 90^\\\\circ - \\\\theta \\\\text{ is equal to the dot product of the direction vector and the normal vector divided by the product of their magnitudes. So, } \\\\cos (90^\\\\circ - \\\\theta) = \\\\frac{\\\\mathbf{d} \\\\cdot \\\\mathbf{n}}{\\\\|\\\\mathbf{d}\\\\| \\\\|\\\\mathbf{n}\\\\|} = \\\\frac{40}{7 \\\\cdot 15} = \\\\frac{40}{105} = \\\\frac{8}{21} . \\\\text{ Since } \\\\cos (90^\\\\circ - \\\\theta) = \\\\sin \\\\theta , \\\\text{ we find that } \\\\sin \\\\theta = \\\\frac{8}{21} . \\\\text{ Therefore, the answer is } \\\\frac{8}{21} .']"
      ]
     },
     "execution_count": 89,
     "metadata": {},
     "output_type": "execute_result"
    }
   ],
   "source": [
    "math_steps"
   ]
  },
  {
   "cell_type": "code",
   "execution_count": 84,
   "metadata": {},
   "outputs": [],
   "source": [
    "new_steps = [\n",
    "    \"Step 1: Identify the direction vector of the line and the normal vector to the plane. The direction vector of the line is $\\mathbf{d} = \\begin{pmatrix} 2 \\ 3 \\ 6 \\end{pmatrix}$ and the normal vector to the plane is $\\mathbf{n} = \\begin{pmatrix} -10 \\ -2 \\ 11 \\end{pmatrix}$.\"\n",
    "]"
   ]
  },
  {
   "cell_type": "code",
   "execution_count": 85,
   "metadata": {},
   "outputs": [
    {
     "data": {
      "text/plain": [
       "['Step 1: Identify the direction vector of the line and the normal vector to the plane. The direction vector of the line is  \\\\\\\\mathbf{d} = \\\\\\\\begin{pmatrix} 2 \\\\\\\\\\\\\\\\ 3 \\\\\\\\\\\\\\\\ 6 \\\\\\\\end{pmatrix}  and the normal vector to the plane is  \\\\\\\\mathbf{n} = \\\\\\\\begin{pmatrix} -10 \\\\\\\\\\\\\\\\ -2 \\\\\\\\\\\\\\\\ 11 \\\\\\\\end{pmatrix} .',\n",
       " 'Step 2: Understand the relationship between the angles. If  \\\\\\\\theta  is the angle between the direction vector and the plane, then the angle between the direction vector and the normal vector of the plane is  90^\\\\\\\\circ - \\\\\\\\theta .',\n",
       " 'Step 3: Compute the dot product of the direction vector and the normal vector. The dot product is found by multiplying corresponding components and then summing them. So,  2 \\\\\\\\cdot (-10) + 3 \\\\\\\\cdot (-2) + 6 \\\\\\\\cdot 11 = -20 + (-6) + 66 = 40 .',\n",
       " 'Step 4: Determine the magnitudes of the direction vector and the normal vector. The magnitude of the direction vector is  \\\\\\\\|\\\\\\\\mathbf{d}\\\\\\\\| = \\\\\\\\sqrt{2^2 + 3^2 + 6^2} = \\\\\\\\sqrt{49} = 7 .  The magnitude of the normal vector is  \\\\\\\\|\\\\\\\\mathbf{n}\\\\\\\\| = \\\\\\\\sqrt{(-10)^2 + (-2)^2 + 11^2} = \\\\\\\\sqrt{225} = 15 .',\n",
       " 'Step 5: Apply the cosine formula. Cosine of  90^\\\\\\\\circ - \\\\\\\\theta  is equal to the dot product of the direction vector and the normal vector divided by the product of their magnitudes. So,  \\\\\\\\cos (90^\\\\\\\\circ - \\\\\\\\theta) = \\\\\\\\frac{\\\\\\\\mathbf{d} \\\\\\\\cdot \\\\\\\\mathbf{n}}{\\\\\\\\|\\\\\\\\mathbf{d}\\\\\\\\| \\\\\\\\|\\\\\\\\mathbf{n}\\\\\\\\|} = \\\\\\\\frac{40}{7 \\\\\\\\cdot 15} = \\\\\\\\frac{40}{105} = \\\\\\\\frac{8}{21} .  Since  \\\\\\\\cos (90^\\\\\\\\circ - \\\\\\\\theta) = \\\\\\\\sin \\\\\\\\theta ,  we find that  \\\\\\\\sin \\\\\\\\theta = \\\\\\\\frac{8}{21} .  Therefore, the answer is  \\\\\\\\frac{8}{21} .']"
      ]
     },
     "execution_count": 85,
     "metadata": {},
     "output_type": "execute_result"
    }
   ],
   "source": [
    "new_steps"
   ]
  },
  {
   "cell_type": "code",
   "execution_count": 88,
   "metadata": {},
   "outputs": [
    {
     "name": "stdout",
     "output_type": "stream",
     "text": [
      "Step 2: Understand the relationship between the angles. If  \\\\theta  is the angle between the direction vector and the plane, then the angle between the direction vector and the normal vector of the plane is  90^\\\\circ - \\\\theta .\n",
      "'latex' exited abnormally with the following output:\n",
      "b\"This is pdfTeX, Version 3.14159265-2.6-1.40.20 (TeX Live 2019/Debian) (preloaded format=latex)\\n restricted \\\\write18 enabled.\\nentering extended mode\\n(./texput.tex\\nLaTeX2e <2020-02-02> patch level 2\\nL3 programming layer <2020-02-14>\\n(/usr/share/texlive/texmf-dist/tex/latex/standalone/standalone.cls\\nDocument Class: standalone 2018/03/26 v1.3a Class to compile TeX sub-files stan\\ndalone\\n(/usr/share/texlive/texmf-dist/tex/latex/tools/shellesc.sty)\\n(/usr/share/texlive/texmf-dist/tex/generic/iftex/ifluatex.sty\\n(/usr/share/texlive/texmf-dist/tex/generic/iftex/iftex.sty))\\n(/usr/share/texlive/texmf-dist/tex/latex/xkeyval/xkeyval.sty\\n(/usr/share/texlive/texmf-dist/tex/generic/xkeyval/xkeyval.tex\\n(/usr/share/texlive/texmf-dist/tex/generic/xkeyval/xkvutils.tex\\n(/usr/share/texlive/texmf-dist/tex/generic/xkeyval/keyval.tex))))\\n(/usr/share/texlive/texmf-dist/tex/latex/standalone/standalone.cfg)\\n(/usr/share/texlive/texmf-dist/tex/latex/base/article.cls\\nDocument Class: article 2019/12/20 v1.4l Standard LaTeX document class\\n(/usr/share/texlive/texmf-dist/tex/latex/base/size12.clo))\\n(/usr/share/texlive/texmf-dist/tex/latex/varwidth/varwidth.sty))\\n(/usr/share/texlive/texmf-dist/tex/latex/amsmath/amsmath.sty\\nFor additional information on amsmath, use the `?' option.\\n(/usr/share/texlive/texmf-dist/tex/latex/amsmath/amstext.sty\\n(/usr/share/texlive/texmf-dist/tex/latex/amsmath/amsgen.sty))\\n(/usr/share/texlive/texmf-dist/tex/latex/amsmath/amsbsy.sty)\\n(/usr/share/texlive/texmf-dist/tex/latex/amsmath/amsopn.sty))\\n(/usr/share/texlive/texmf-dist/tex/latex/amsfonts/amsfonts.sty)\\n(/usr/share/texlive/texmf-dist/tex/latex/euler/euler.sty\\nPackage: `euler' v2.5 <1995/03/05> (FJ and FMi)\\n) (/usr/share/texlive/texmf-dist/tex/latex/l3backend/l3backend-dvips.def)\\nNo file texput.aux.\\n! Missing $ inserted.\\n<inserted text> \\n                $\\nl.9 ... and the normal vector of the plane is  90^\\n                                                  \\\\\\\\circ - \\\\\\\\theta .\\nNo pages of output.\\nTranscript written on texput.log.\\n\"\n",
      "Step 4: Determine the magnitudes of the direction vector and the normal vector. The magnitude of the direction vector is  \\\\|\\\\mathbf{d}\\\\| = \\\\sqrt{2^2 + 3^2 + 6^2} = \\\\sqrt{49} = 7 .  The magnitude of the normal vector is  \\\\|\\\\mathbf{n}\\\\| = \\\\sqrt{(-10)^2 + (-2)^2 + 11^2} = \\\\sqrt{225} = 15 .\n",
      "'latex' exited abnormally with the following output:\n",
      "b\"This is pdfTeX, Version 3.14159265-2.6-1.40.20 (TeX Live 2019/Debian) (preloaded format=latex)\\n restricted \\\\write18 enabled.\\nentering extended mode\\n(./texput.tex\\nLaTeX2e <2020-02-02> patch level 2\\nL3 programming layer <2020-02-14>\\n(/usr/share/texlive/texmf-dist/tex/latex/standalone/standalone.cls\\nDocument Class: standalone 2018/03/26 v1.3a Class to compile TeX sub-files stan\\ndalone\\n(/usr/share/texlive/texmf-dist/tex/latex/tools/shellesc.sty)\\n(/usr/share/texlive/texmf-dist/tex/generic/iftex/ifluatex.sty\\n(/usr/share/texlive/texmf-dist/tex/generic/iftex/iftex.sty))\\n(/usr/share/texlive/texmf-dist/tex/latex/xkeyval/xkeyval.sty\\n(/usr/share/texlive/texmf-dist/tex/generic/xkeyval/xkeyval.tex\\n(/usr/share/texlive/texmf-dist/tex/generic/xkeyval/xkvutils.tex\\n(/usr/share/texlive/texmf-dist/tex/generic/xkeyval/keyval.tex))))\\n(/usr/share/texlive/texmf-dist/tex/latex/standalone/standalone.cfg)\\n(/usr/share/texlive/texmf-dist/tex/latex/base/article.cls\\nDocument Class: article 2019/12/20 v1.4l Standard LaTeX document class\\n(/usr/share/texlive/texmf-dist/tex/latex/base/size12.clo))\\n(/usr/share/texlive/texmf-dist/tex/latex/varwidth/varwidth.sty))\\n(/usr/share/texlive/texmf-dist/tex/latex/amsmath/amsmath.sty\\nFor additional information on amsmath, use the `?' option.\\n(/usr/share/texlive/texmf-dist/tex/latex/amsmath/amstext.sty\\n(/usr/share/texlive/texmf-dist/tex/latex/amsmath/amsgen.sty))\\n(/usr/share/texlive/texmf-dist/tex/latex/amsmath/amsbsy.sty)\\n(/usr/share/texlive/texmf-dist/tex/latex/amsmath/amsopn.sty))\\n(/usr/share/texlive/texmf-dist/tex/latex/amsfonts/amsfonts.sty)\\n(/usr/share/texlive/texmf-dist/tex/latex/euler/euler.sty\\nPackage: `euler' v2.5 <1995/03/05> (FJ and FMi)\\n) (/usr/share/texlive/texmf-dist/tex/latex/l3backend/l3backend-dvips.def)\\nNo file texput.aux.\\n! Missing $ inserted.\\n<inserted text> \\n                $\\nl.9 ...on vector is  \\\\\\\\|\\\\\\\\mathbf{d}\\\\\\\\| = \\\\\\\\sqrt{2^\\n                                                  2 + 3^2 + 6^2} = \\\\\\\\sqrt{49...\\nNo pages of output.\\nTranscript written on texput.log.\\n\"\n",
      "Step 5: Apply the cosine formula. Cosine of  90^\\\\circ - \\\\theta  is equal to the dot product of the direction vector and the normal vector divided by the product of their magnitudes. So,  \\\\cos (90^\\\\circ - \\\\theta) = \\\\frac{\\\\mathbf{d} \\\\cdot \\\\mathbf{n}}{\\\\|\\\\mathbf{d}\\\\| \\\\|\\\\mathbf{n}\\\\|} = \\\\frac{40}{7 \\\\cdot 15} = \\\\frac{40}{105} = \\\\frac{8}{21} .  Since  \\\\cos (90^\\\\circ - \\\\theta) = \\\\sin \\\\theta ,  we find that  \\\\sin \\\\theta = \\\\frac{8}{21} .  Therefore, the answer is  \\\\frac{8}{21} .\n",
      "'latex' exited abnormally with the following output:\n",
      "b\"This is pdfTeX, Version 3.14159265-2.6-1.40.20 (TeX Live 2019/Debian) (preloaded format=latex)\\n restricted \\\\write18 enabled.\\nentering extended mode\\n(./texput.tex\\nLaTeX2e <2020-02-02> patch level 2\\nL3 programming layer <2020-02-14>\\n(/usr/share/texlive/texmf-dist/tex/latex/standalone/standalone.cls\\nDocument Class: standalone 2018/03/26 v1.3a Class to compile TeX sub-files stan\\ndalone\\n(/usr/share/texlive/texmf-dist/tex/latex/tools/shellesc.sty)\\n(/usr/share/texlive/texmf-dist/tex/generic/iftex/ifluatex.sty\\n(/usr/share/texlive/texmf-dist/tex/generic/iftex/iftex.sty))\\n(/usr/share/texlive/texmf-dist/tex/latex/xkeyval/xkeyval.sty\\n(/usr/share/texlive/texmf-dist/tex/generic/xkeyval/xkeyval.tex\\n(/usr/share/texlive/texmf-dist/tex/generic/xkeyval/xkvutils.tex\\n(/usr/share/texlive/texmf-dist/tex/generic/xkeyval/keyval.tex))))\\n(/usr/share/texlive/texmf-dist/tex/latex/standalone/standalone.cfg)\\n(/usr/share/texlive/texmf-dist/tex/latex/base/article.cls\\nDocument Class: article 2019/12/20 v1.4l Standard LaTeX document class\\n(/usr/share/texlive/texmf-dist/tex/latex/base/size12.clo))\\n(/usr/share/texlive/texmf-dist/tex/latex/varwidth/varwidth.sty))\\n(/usr/share/texlive/texmf-dist/tex/latex/amsmath/amsmath.sty\\nFor additional information on amsmath, use the `?' option.\\n(/usr/share/texlive/texmf-dist/tex/latex/amsmath/amstext.sty\\n(/usr/share/texlive/texmf-dist/tex/latex/amsmath/amsgen.sty))\\n(/usr/share/texlive/texmf-dist/tex/latex/amsmath/amsbsy.sty)\\n(/usr/share/texlive/texmf-dist/tex/latex/amsmath/amsopn.sty))\\n(/usr/share/texlive/texmf-dist/tex/latex/amsfonts/amsfonts.sty)\\n(/usr/share/texlive/texmf-dist/tex/latex/euler/euler.sty\\nPackage: `euler' v2.5 <1995/03/05> (FJ and FMi)\\n) (/usr/share/texlive/texmf-dist/tex/latex/l3backend/l3backend-dvips.def)\\nNo file texput.aux.\\n! Missing $ inserted.\\n<inserted text> \\n                $\\nl.9 ...5: Apply the cosine formula. Cosine of  90^\\n                                                  \\\\\\\\circ - \\\\\\\\theta  is equal...\\nNo pages of output.\\nTranscript written on texput.log.\\n\"\n"
     ]
    }
   ],
   "source": [
    "for step in new_steps:\n",
    "    try:\n",
    "        preview(step, output=\"png\")\n",
    "    except Exception as e:\n",
    "        print(step)\n",
    "        print(e)"
   ]
  },
  {
   "cell_type": "code",
   "execution_count": null,
   "metadata": {},
   "outputs": [],
   "source": []
  },
  {
   "cell_type": "code",
   "execution_count": null,
   "metadata": {},
   "outputs": [],
   "source": []
  },
  {
   "cell_type": "code",
   "execution_count": 6,
   "metadata": {},
   "outputs": [],
   "source": [
    "creds = authenticate(token_file=TOKEN_FILE, client_secrets_file=CLIENT_SECRET_FILE)\n",
    "drive_service = build(serviceName=\"drive\", version=DRIVE_API_VERSION, credentials=creds)\n",
    "slides_service = build(\n",
    "    serviceName=\"slides\", version=SLIDES_API_VERSION, credentials=creds\n",
    ")"
   ]
  },
  {
   "cell_type": "code",
   "execution_count": 7,
   "metadata": {},
   "outputs": [],
   "source": [
    "# drive_id = create_drive_folder(drive_service=drive_service, folder_name=\"VU\")\n",
    "drive_id = \"1FVbfmu1ME29EAIKRDC-UBwFvCdM3D_WJ\""
   ]
  },
  {
   "cell_type": "code",
   "execution_count": 8,
   "metadata": {},
   "outputs": [],
   "source": [
    "image_urls = upload_images_to_drive(\n",
    "    drive_service=drive_service,\n",
    "    file_paths=[\"problem_1.png\", \"solution_1.png\", \"problem_2.png\", \"solution_2.png\"],\n",
    "    folder_id=drive_id,\n",
    ")"
   ]
  },
  {
   "cell_type": "code",
   "execution_count": 9,
   "metadata": {},
   "outputs": [
    {
     "data": {
      "text/plain": [
       "['https://drive.google.com/uc?id=1G8p_gEauAtNc7-_39EfdRB8Q9c3P107u&export=download',\n",
       " 'https://drive.google.com/uc?id=1s1dsahH6hPW1WtVNyN6ek_YsT86EnDLV&export=download',\n",
       " 'https://drive.google.com/uc?id=1vpPufcty38QhjZ9qxcp1UIpKHTqHM8B6&export=download',\n",
       " 'https://drive.google.com/uc?id=1pIu_RL2WMTGT7L6c86PCnI42Q5U7TZQk&export=download']"
      ]
     },
     "execution_count": 9,
     "metadata": {},
     "output_type": "execute_result"
    }
   ],
   "source": [
    "image_urls"
   ]
  },
  {
   "cell_type": "code",
   "execution_count": 10,
   "metadata": {},
   "outputs": [
    {
     "name": "stdout",
     "output_type": "stream",
     "text": [
      "\u001b[32mCreated presentation with ID:1NgbyXlvqsCNaIQjMpdLfd4wPfyiOga7wevjgxqngrCM\u001b[0m\n"
     ]
    }
   ],
   "source": [
    "presentation_id = create_presentation(\n",
    "    service=slides_service, name=\"VU\", title=\"MATH 102\"\n",
    ")"
   ]
  },
  {
   "cell_type": "code",
   "execution_count": 13,
   "metadata": {},
   "outputs": [
    {
     "name": "stdout",
     "output_type": "stream",
     "text": [
      "Images and titles added successfully\n"
     ]
    }
   ],
   "source": [
    "res = add_images(\n",
    "    slides_service=slides_service,\n",
    "    presentation_id=presentation_id,\n",
    "    page_ids=\"math_slide\",\n",
    "    image_urls=image_urls,\n",
    "    image_titles=[\"Problem\", \"Solution\", \"Problem\", \"Solution\"],\n",
    ")"
   ]
  },
  {
   "cell_type": "code",
   "execution_count": null,
   "metadata": {},
   "outputs": [],
   "source": []
  }
 ],
 "metadata": {
  "kernelspec": {
   "display_name": ".venv",
   "language": "python",
   "name": "python3"
  },
  "language_info": {
   "codemirror_mode": {
    "name": "ipython",
    "version": 3
   },
   "file_extension": ".py",
   "mimetype": "text/x-python",
   "name": "python",
   "nbconvert_exporter": "python",
   "pygments_lexer": "ipython3",
   "version": "3.11.5"
  }
 },
 "nbformat": 4,
 "nbformat_minor": 2
}
