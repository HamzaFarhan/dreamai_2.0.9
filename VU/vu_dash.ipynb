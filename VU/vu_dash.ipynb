{
 "cells": [
  {
   "cell_type": "code",
   "execution_count": 1,
   "metadata": {},
   "outputs": [
    {
     "name": "stdout",
     "output_type": "stream",
     "text": [
      "The autoreload extension is already loaded. To reload it, use:\n",
      "  %reload_ext autoreload\n"
     ]
    }
   ],
   "source": [
    "import json\n",
    "\n",
    "import dash_bootstrap_components as dbc\n",
    "import dash_cytoscape as cyto\n",
    "import networkx as nx\n",
    "import plotly.graph_objects as go\n",
    "from dash import Dash, dcc, html\n",
    "from dash.dependencies import Input, Output\n",
    "from dash.exceptions import PreventUpdate\n",
    "from vu_panel import Topics\n",
    "\n",
    "%load_ext autoreload\n",
    "%autoreload 2\n",
    "%reload_ext autoreload"
   ]
  },
  {
   "cell_type": "code",
   "execution_count": 2,
   "metadata": {},
   "outputs": [],
   "source": [
    "external_stylesheets = [dbc.themes.CERULEAN]\n",
    "topics = Topics(**json.load(open(\"panel_topics.json\", \"r\")))"
   ]
  },
  {
   "cell_type": "code",
   "execution_count": 27,
   "metadata": {},
   "outputs": [
    {
     "data": {
      "text/html": [
       "\n",
       "        <iframe\n",
       "            width=\"100%\"\n",
       "            height=\"650\"\n",
       "            src=\"http://127.0.0.1:8050/\"\n",
       "            frameborder=\"0\"\n",
       "            allowfullscreen\n",
       "            \n",
       "        ></iframe>\n",
       "        "
      ],
      "text/plain": [
       "<IPython.lib.display.IFrame at 0x7f02b0493ed0>"
      ]
     },
     "metadata": {},
     "output_type": "display_data"
    }
   ],
   "source": [
    "app = Dash(external_stylesheets=external_stylesheets)\n",
    "\n",
    "app.layout = html.Div(\n",
    "    [\n",
    "        cyto.Cytoscape(\n",
    "            id=\"cytoscape-compound\",\n",
    "            layout={\n",
    "                \"name\": \"grid\",\n",
    "                # \"roots\": \"[id = 'root']\",\n",
    "                # \"directed\": True,\n",
    "                # \"nodeSpacing\": 50\n",
    "                \"spacingFactor\": 1.5,\n",
    "            },\n",
    "            style={\"width\": \"100%\", \"height\": \"500px\"},\n",
    "            stylesheet=[\n",
    "                {\"selector\": \"node\", \"style\": {\"content\": \"data(label)\"}},\n",
    "                {\"selector\": \".countries\", \"style\": {\"width\": 5}},\n",
    "                {\"selector\": \".cities\", \"style\": {\"line-style\": \"dashed\"}},\n",
    "            ],\n",
    "            elements=[\n",
    "                # Root Node\n",
    "                # {\"data\": {\"id\": \"root\", \"label\": \"Countries\"}},\n",
    "                # Grand Parent Nodes\n",
    "                {\n",
    "                    \"data\": {\"id\": \"asia\", \"label\": \"Asia\"},\n",
    "                },\n",
    "                {\n",
    "                    \"data\": {\"id\": \"europe\", \"label\": \"Europe\"},\n",
    "                },\n",
    "                {\n",
    "                    \"data\": {\"id\": \"africa\", \"label\": \"Africa\"},\n",
    "                },\n",
    "                # Parent Nodes\n",
    "                {\n",
    "                    \"data\": {\"id\": \"ch\", \"label\": \"China\", \"parent\": \"asia\"},\n",
    "                },\n",
    "                {\n",
    "                    \"data\": {\"id\": \"ger\", \"label\": \"Germany\", \"parent\": \"europe\"},\n",
    "                },\n",
    "                {\n",
    "                    \"data\": {\"id\": \"pk\", \"label\": \"Pakistan\", \"parent\": \"asia\"},\n",
    "                },\n",
    "                {\n",
    "                    \"data\": {\"id\": \"fr\", \"label\": \"France\", \"parent\": \"europe\"},\n",
    "                },\n",
    "                {\n",
    "                    \"data\": {\"id\": \"eg\", \"label\": \"Egypt\", \"parent\": \"africa\"},\n",
    "                },\n",
    "                # Children Nodes\n",
    "                {\n",
    "                    \"data\": {\"id\": \"sh\", \"label\": \"Shanghai\", \"parent\": \"ch\"},\n",
    "                },\n",
    "                {\n",
    "                    \"data\": {\"id\": \"bj\", \"label\": \"Beijing\", \"parent\": \"ch\"},\n",
    "                },\n",
    "                {\n",
    "                    \"data\": {\"id\": \"ber\", \"label\": \"Berlin\", \"parent\": \"ger\"},\n",
    "                },\n",
    "                {\n",
    "                    \"data\": {\"id\": \"ham\", \"label\": \"Hamburg\", \"parent\": \"ger\"},\n",
    "                },\n",
    "                {\n",
    "                    \"data\": {\"id\": \"lah\", \"label\": \"Lahore\", \"parent\": \"pk\"},\n",
    "                },\n",
    "                {\n",
    "                    \"data\": {\"id\": \"isl\", \"label\": \"Islamabad\", \"parent\": \"pk\"},\n",
    "                },\n",
    "                {\n",
    "                    \"data\": {\"id\": \"par\", \"label\": \"Paris\", \"parent\": \"fr\"},\n",
    "                },\n",
    "                {\n",
    "                    \"data\": {\"id\": \"nic\", \"label\": \"Nice\", \"parent\": \"fr\"},\n",
    "                },\n",
    "                {\n",
    "                    \"data\": {\"id\": \"cai\", \"label\": \"Cairo\", \"parent\": \"eg\"},\n",
    "                },\n",
    "                {\n",
    "                    \"data\": {\"id\": \"alex\", \"label\": \"Alexandria\", \"parent\": \"eg\"},\n",
    "                },\n",
    "                # Edges\n",
    "                {\"data\": {\"source\": \"asia\", \"target\": \"europe\"}, \"classes\": \"countries\"},\n",
    "                {\"data\": {\"source\": \"asia\", \"target\": \"africa\"}, \"classes\": \"countries\"},\n",
    "                {\"data\": {\"source\": \"europe\", \"target\": \"africa\"}, \"classes\": \"countries\"},\n",
    "            ],\n",
    "        )\n",
    "    ]\n",
    ")\n",
    "\n",
    "if __name__ == \"__main__\":\n",
    "    app.run(debug=True)"
   ]
  },
  {
   "cell_type": "code",
   "execution_count": null,
   "metadata": {},
   "outputs": [],
   "source": []
  },
  {
   "cell_type": "code",
   "execution_count": null,
   "metadata": {},
   "outputs": [],
   "source": []
  },
  {
   "cell_type": "code",
   "execution_count": 3,
   "metadata": {},
   "outputs": [],
   "source": [
    "def create_cyto_elements(topics: Topics) -> dict:\n",
    "    cyto_trees = {}\n",
    "    for topic in topics.topics.values():\n",
    "        cyto_elements = [{\"data\": {\"id\": topic.id, \"label\": topic.topic}}]\n",
    "        for subtopic in topic.subtopics.values():\n",
    "            cyto_elements.append(\n",
    "                {\"data\": {\"id\": subtopic.id, \"label\": subtopic.subtopic}}\n",
    "            )\n",
    "            cyto_elements.append(\n",
    "                {\n",
    "                    \"data\": {\n",
    "                        \"source\": topic.id,\n",
    "                        \"target\": subtopic.id,\n",
    "                        \"label\": \"Subtopic\",\n",
    "                    }\n",
    "                }\n",
    "            )\n",
    "            for concept in subtopic.concepts.values():\n",
    "                cyto_elements.append(\n",
    "                    {\"data\": {\"id\": concept.id, \"label\": concept.concept}}\n",
    "                )\n",
    "                cyto_elements.append(\n",
    "                    {\n",
    "                        \"data\": {\n",
    "                            \"source\": subtopic.id,\n",
    "                            \"target\": concept.id,\n",
    "                            \"label\": \"Concept\",\n",
    "                        }\n",
    "                    }\n",
    "                )\n",
    "        cyto_trees[topic.id] = cyto_elements\n",
    "    return cyto_trees"
   ]
  },
  {
   "cell_type": "code",
   "execution_count": 4,
   "metadata": {},
   "outputs": [],
   "source": [
    "cyto_trees = create_cyto_elements(topics)"
   ]
  },
  {
   "cell_type": "code",
   "execution_count": null,
   "metadata": {},
   "outputs": [],
   "source": [
    "cyto_tree = [{\"id\":}]"
   ]
  },
  {
   "cell_type": "code",
   "execution_count": 5,
   "metadata": {},
   "outputs": [
    {
     "data": {
      "text/html": [
       "\n",
       "        <iframe\n",
       "            width=\"100%\"\n",
       "            height=\"650\"\n",
       "            src=\"http://127.0.0.1:8050/\"\n",
       "            frameborder=\"0\"\n",
       "            allowfullscreen\n",
       "            \n",
       "        ></iframe>\n",
       "        "
      ],
      "text/plain": [
       "<IPython.lib.display.IFrame at 0x7efc1165f4d0>"
      ]
     },
     "metadata": {},
     "output_type": "display_data"
    }
   ],
   "source": [
    "keys = [\"Set Theory\", \"Complex Numbers\"]\n",
    "\n",
    "app = Dash(external_stylesheets=external_stylesheets)\n",
    "cols = [\n",
    "    dbc.Col(\n",
    "        cyto.Cytoscape(\n",
    "            id=key,\n",
    "            elements=cyto_trees[key],\n",
    "            layout={\"name\": \"breadthfirst\", \"roots\": f\"[id = '{key}']\"},\n",
    "            stylesheet=[\n",
    "                {\n",
    "                    \"selector\": \"node\",\n",
    "                    \"style\": {\"background-color\": \"blue\", \"label\": \"data(label)\"},\n",
    "                },\n",
    "                {\n",
    "                    \"selector\": \"edge\",\n",
    "                    \"style\": {\"line-color\": \"black\", \"label\": \"data(label)\"},\n",
    "                },\n",
    "                {\n",
    "                    \"selector\": \".green\",\n",
    "                    \"style\": {\"background-color\": \"green\", \"label:\": \"data(label)\"},\n",
    "                },\n",
    "            ],\n",
    "        )\n",
    "    )\n",
    "    for key in keys\n",
    "]\n",
    "\n",
    "app.layout = html.Div([dbc.Row(cols)])\n",
    "\n",
    "for key in keys:\n",
    "    other_key = keys[1] if key == keys[0] else keys[0]  # Get the other key\n",
    "\n",
    "    @app.callback(\n",
    "        Output(other_key, \"stylesheet\"),\n",
    "        Input(key, \"tapNodeData\"),\n",
    "    )\n",
    "    def update_styles(tapNodeData):\n",
    "        if tapNodeData is None:\n",
    "            raise PreventUpdate\n",
    "        else:\n",
    "            new_styles = [\n",
    "                {\"selector\": \"node\", \"style\": {\"background-color\": \"blue\"}},\n",
    "                {\n",
    "                    \"selector\": f'node[id = \"{tapNodeData[\"id\"]}\"]',\n",
    "                    \"style\": {\"background-color\": \"green\", \"label\": \"data(label)\"},\n",
    "                },\n",
    "            ]\n",
    "            return new_styles\n",
    "\n",
    "# Add a callback for each Cytoscape component\n",
    "# for key in keys:\n",
    "\n",
    "#     @app.callback(\n",
    "#         Output(key, \"stylesheet\"),\n",
    "#         Input(key, \"tapNodeData\"),\n",
    "#     )\n",
    "#     def update_styles(tapNodeData):\n",
    "#         if tapNodeData is None:\n",
    "#             raise PreventUpdate\n",
    "#         else:\n",
    "#             new_styles = [\n",
    "#                 {\"selector\": \"node\", \"style\": {\"background-color\": \"blue\"}},\n",
    "#                 {\n",
    "#                     \"selector\": f'node[id = \"{tapNodeData[\"id\"]}\"]',\n",
    "#                     \"style\": {\"background-color\": \"green\", \"label\": \"data(label)\"},\n",
    "#                 },\n",
    "#             ]\n",
    "#             return new_styles\n",
    "\n",
    "\n",
    "if __name__ == \"__main__\":\n",
    "    app.run_server(debug=True)"
   ]
  },
  {
   "cell_type": "code",
   "execution_count": null,
   "metadata": {},
   "outputs": [],
   "source": []
  },
  {
   "cell_type": "code",
   "execution_count": null,
   "metadata": {},
   "outputs": [],
   "source": []
  },
  {
   "cell_type": "code",
   "execution_count": null,
   "metadata": {},
   "outputs": [],
   "source": []
  },
  {
   "cell_type": "code",
   "execution_count": null,
   "metadata": {},
   "outputs": [],
   "source": []
  },
  {
   "cell_type": "code",
   "execution_count": null,
   "metadata": {},
   "outputs": [],
   "source": []
  }
 ],
 "metadata": {
  "kernelspec": {
   "display_name": ".venv",
   "language": "python",
   "name": "python3"
  },
  "language_info": {
   "codemirror_mode": {
    "name": "ipython",
    "version": 3
   },
   "file_extension": ".py",
   "mimetype": "text/x-python",
   "name": "python",
   "nbconvert_exporter": "python",
   "pygments_lexer": "ipython3",
   "version": "3.11.5"
  }
 },
 "nbformat": 4,
 "nbformat_minor": 2
}
