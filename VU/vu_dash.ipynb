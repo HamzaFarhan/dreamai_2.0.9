{
 "cells": [
  {
   "cell_type": "code",
   "execution_count": 1,
   "metadata": {},
   "outputs": [
    {
     "name": "stdout",
     "output_type": "stream",
     "text": [
      "The autoreload extension is already loaded. To reload it, use:\n",
      "  %reload_ext autoreload\n"
     ]
    }
   ],
   "source": [
    "import json\n",
    "\n",
    "import dash_bootstrap_components as dbc\n",
    "import dash_cytoscape as cyto\n",
    "import networkx as nx\n",
    "import plotly.graph_objects as go\n",
    "from dash import Dash, dcc, html\n",
    "from dash.dependencies import Input, Output\n",
    "from dash.exceptions import PreventUpdate\n",
    "from vu_panel import Topics\n",
    "\n",
    "%load_ext autoreload\n",
    "%autoreload 2\n",
    "%reload_ext autoreload"
   ]
  },
  {
   "cell_type": "code",
   "execution_count": 2,
   "metadata": {},
   "outputs": [],
   "source": [
    "external_stylesheets = [dbc.themes.CERULEAN]\n",
    "topics = Topics(**json.load(open(\"panel_topics.json\", \"r\")))"
   ]
  },
  {
   "cell_type": "code",
   "execution_count": 3,
   "metadata": {},
   "outputs": [],
   "source": [
    "def create_cyto_elements(topics: Topics) -> dict:\n",
    "    cyto_trees = {}\n",
    "    for topic in topics.topics.values():\n",
    "        cyto_elements = [{\"data\": {\"id\": topic.id, \"label\": topic.topic}}]\n",
    "        for subtopic in topic.subtopics.values():\n",
    "            cyto_elements.append(\n",
    "                {\"data\": {\"id\": subtopic.id, \"label\": subtopic.subtopic}}\n",
    "            )\n",
    "            cyto_elements.append(\n",
    "                {\n",
    "                    \"data\": {\n",
    "                        \"source\": topic.id,\n",
    "                        \"target\": subtopic.id,\n",
    "                        \"label\": \"Subtopic\",\n",
    "                    }\n",
    "                }\n",
    "            )\n",
    "            for concept in subtopic.concepts.values():\n",
    "                cyto_elements.append(\n",
    "                    {\"data\": {\"id\": concept.id, \"label\": concept.concept}}\n",
    "                )\n",
    "                cyto_elements.append(\n",
    "                    {\n",
    "                        \"data\": {\n",
    "                            \"source\": subtopic.id,\n",
    "                            \"target\": concept.id,\n",
    "                            \"label\": \"Concept\",\n",
    "                        }\n",
    "                    }\n",
    "                )\n",
    "        cyto_trees[topic.id] = cyto_elements\n",
    "    return cyto_trees"
   ]
  },
  {
   "cell_type": "code",
   "execution_count": 4,
   "metadata": {},
   "outputs": [],
   "source": [
    "cyto_trees = create_cyto_elements(topics)"
   ]
  },
  {
   "cell_type": "code",
   "execution_count": 8,
   "metadata": {},
   "outputs": [
    {
     "data": {
      "text/html": [
       "\n",
       "        <iframe\n",
       "            width=\"100%\"\n",
       "            height=\"650\"\n",
       "            src=\"http://127.0.0.1:8050/\"\n",
       "            frameborder=\"0\"\n",
       "            allowfullscreen\n",
       "            \n",
       "        ></iframe>\n",
       "        "
      ],
      "text/plain": [
       "<IPython.lib.display.IFrame at 0x7f1e87601e10>"
      ]
     },
     "metadata": {},
     "output_type": "display_data"
    }
   ],
   "source": [
    "keys = [\"Set Theory\", \"Complex Numbers\"]\n",
    "\n",
    "app = Dash(external_stylesheets=external_stylesheets)\n",
    "cols = [\n",
    "    dbc.Col(\n",
    "        cyto.Cytoscape(\n",
    "            id=key,\n",
    "            elements=cyto_trees[key],\n",
    "            layout={\"name\": \"breadthfirst\", \"roots\": f\"[id = '{key}']\"},\n",
    "            stylesheet=[\n",
    "                {\n",
    "                    \"selector\": \"node\",\n",
    "                    \"style\": {\"background-color\": \"blue\", \"label\": \"data(label)\"},\n",
    "                },\n",
    "                {\n",
    "                    \"selector\": \"edge\",\n",
    "                    \"style\": {\"line-color\": \"black\", \"label\": \"data(label)\"},\n",
    "                },\n",
    "                {\n",
    "                    \"selector\": \".green\",\n",
    "                    \"style\": {\"background-color\": \"green\", \"label:\": \"data(label)\"},\n",
    "                },\n",
    "            ],\n",
    "        )\n",
    "    )\n",
    "    for key in keys\n",
    "]\n",
    "\n",
    "app.layout = html.Div([dbc.Row(cols)])\n",
    "\n",
    "for key in keys:\n",
    "    other_key = keys[1] if key == keys[0] else keys[0]  # Get the other key\n",
    "\n",
    "    @app.callback(\n",
    "        Output(other_key, \"stylesheet\"),\n",
    "        Input(key, \"tapNodeData\"),\n",
    "    )\n",
    "    def update_styles(tapNodeData):\n",
    "        if tapNodeData is None:\n",
    "            raise PreventUpdate\n",
    "        else:\n",
    "            new_styles = [\n",
    "                {\"selector\": \"node\", \"style\": {\"background-color\": \"blue\"}},\n",
    "                {\n",
    "                    \"selector\": f'node[id = \"{tapNodeData[\"id\"]}\"]',\n",
    "                    \"style\": {\"background-color\": \"green\", \"label\": \"data(label)\"},\n",
    "                },\n",
    "            ]\n",
    "            return new_styles\n",
    "\n",
    "# Add a callback for each Cytoscape component\n",
    "# for key in keys:\n",
    "\n",
    "#     @app.callback(\n",
    "#         Output(key, \"stylesheet\"),\n",
    "#         Input(key, \"tapNodeData\"),\n",
    "#     )\n",
    "#     def update_styles(tapNodeData):\n",
    "#         if tapNodeData is None:\n",
    "#             raise PreventUpdate\n",
    "#         else:\n",
    "#             new_styles = [\n",
    "#                 {\"selector\": \"node\", \"style\": {\"background-color\": \"blue\"}},\n",
    "#                 {\n",
    "#                     \"selector\": f'node[id = \"{tapNodeData[\"id\"]}\"]',\n",
    "#                     \"style\": {\"background-color\": \"green\", \"label\": \"data(label)\"},\n",
    "#                 },\n",
    "#             ]\n",
    "#             return new_styles\n",
    "\n",
    "\n",
    "if __name__ == \"__main__\":\n",
    "    app.run_server(debug=True)"
   ]
  },
  {
   "cell_type": "code",
   "execution_count": null,
   "metadata": {},
   "outputs": [],
   "source": []
  },
  {
   "cell_type": "code",
   "execution_count": null,
   "metadata": {},
   "outputs": [],
   "source": []
  },
  {
   "cell_type": "code",
   "execution_count": null,
   "metadata": {},
   "outputs": [],
   "source": []
  },
  {
   "cell_type": "code",
   "execution_count": null,
   "metadata": {},
   "outputs": [],
   "source": []
  },
  {
   "cell_type": "code",
   "execution_count": null,
   "metadata": {},
   "outputs": [],
   "source": []
  }
 ],
 "metadata": {
  "kernelspec": {
   "display_name": ".venv",
   "language": "python",
   "name": "python3"
  },
  "language_info": {
   "codemirror_mode": {
    "name": "ipython",
    "version": 3
   },
   "file_extension": ".py",
   "mimetype": "text/x-python",
   "name": "python",
   "nbconvert_exporter": "python",
   "pygments_lexer": "ipython3",
   "version": "3.11.5"
  }
 },
 "nbformat": 4,
 "nbformat_minor": 2
}
