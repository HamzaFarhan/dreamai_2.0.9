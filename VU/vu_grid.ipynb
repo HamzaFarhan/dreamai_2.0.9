{
 "cells": [
  {
   "cell_type": "code",
   "execution_count": null,
   "metadata": {},
   "outputs": [],
   "source": [
    "import json\n",
    "\n",
    "import panel as pn\n",
    "from vu_models import Question, Topics\n",
    "\n",
    "\n",
    "# %load_ext autoreload\n",
    "# %autoreload 2\n",
    "# %reload_ext autoreload"
   ]
  },
  {
   "cell_type": "code",
   "execution_count": 5,
   "metadata": {},
   "outputs": [],
   "source": [
    "DAY = 8"
   ]
  },
  {
   "cell_type": "code",
   "execution_count": 6,
   "metadata": {},
   "outputs": [],
   "source": [
    "questions_file = f\"math_102_created_questions_may_{DAY}.json\"\n",
    "questions = {\n",
    "    id: Question(**q) for id, q in json.load(open(questions_file, \"r\")).items()\n",
    "}\n",
    "\n",
    "topics = Topics(**json.load(open(f\"math_102_final_topics_may_{DAY}.json\", \"r\")))\n",
    "topic_names = list(topics.topics.keys())"
   ]
  },
  {
   "cell_type": "code",
   "execution_count": null,
   "metadata": {},
   "outputs": [],
   "source": [
    "def update_buttons(\n",
    "    selected_topic: str,\n",
    "    buttons: dict[str, pn.widgets.Button],\n",
    "    topics: Topics = topics,\n",
    "):\n",
    "    print(f\"Selected topic: {selected_topic}\")\n",
    "    for question in topics.groups.values():\n",
    "        topic = question.topic\n",
    "        for prereq_id in question.prerequisite_ids:\n",
    "            prereq_topic = topics.groups[prereq_id].topic\n",
    "            if topic != prereq_topic and topic == selected_topic:\n",
    "                buttons[prereq_topic].button_style = \"solid\"\n",
    "                buttons[prereq_topic].button_type = \"success\""
   ]
  },
  {
   "cell_type": "code",
   "execution_count": 7,
   "metadata": {},
   "outputs": [],
   "source": [
    "buttons_dict = {\n",
    "    topic_name: pn.widgets.Button(name=topic_name, button_style=\"outline\")\n",
    "    for topic_name in topic_names\n",
    "}"
   ]
  },
  {
   "cell_type": "code",
   "execution_count": null,
   "metadata": {},
   "outputs": [],
   "source": [
    "grid = pn.GridStack(ncols=4, nrows=len(buttons_dict), sizing_mode=\"stretch_both\")\n",
    "for i, button in enumerate(buttons_dict.values()):\n",
    "    grid[i, 0] = button\n",
    "grid.servable()"
   ]
  },
  {
   "cell_type": "code",
   "execution_count": 1,
   "metadata": {},
   "outputs": [],
   "source": [
    "import random"
   ]
  },
  {
   "cell_type": "code",
   "execution_count": null,
   "metadata": {},
   "outputs": [],
   "source": [
    "random.choices()"
   ]
  }
 ],
 "metadata": {
  "kernelspec": {
   "display_name": ".venv",
   "language": "python",
   "name": "python3"
  },
  "language_info": {
   "codemirror_mode": {
    "name": "ipython",
    "version": 3
   },
   "file_extension": ".py",
   "mimetype": "text/x-python",
   "name": "python",
   "nbconvert_exporter": "python",
   "pygments_lexer": "ipython3",
   "version": "3.11.5"
  }
 },
 "nbformat": 4,
 "nbformat_minor": 2
}
