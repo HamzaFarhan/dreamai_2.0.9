{
 "cells": [
  {
   "cell_type": "code",
   "execution_count": 98,
   "metadata": {},
   "outputs": [],
   "source": [
    "def solution(A, B):\n",
    "    num_changes = 0\n",
    "    direct = []\n",
    "    for a, b in zip(A, B):\n",
    "        if a == b:\n",
    "            continue\n",
    "        if a == 0:\n",
    "            num_changes += 1\n",
    "            direct.append(b)\n",
    "        elif b == 0:\n",
    "            direct.append(a)\n",
    "    for a, b in zip(A, B):\n",
    "        if a == 0 or b == 0:\n",
    "            continue\n",
    "        if a in direct and b not in direct:\n",
    "            num_changes += 1\n",
    "            direct.append(b)\n",
    "        elif a not in direct and b in direct:\n",
    "            direct.append(a)\n",
    "    return num_changes"
   ]
  },
  {
   "cell_type": "code",
   "execution_count": 105,
   "metadata": {},
   "outputs": [
    {
     "name": "stdout",
     "output_type": "stream",
     "text": [
      "0\n"
     ]
    }
   ],
   "source": [
    "A = [0, 1, 1, 1, 1]\n",
    "B = [1, 2, 3, 4, 5]\n",
    "\n",
    "# A = [1, 6, 6, 3, 0, 5]\n",
    "# B = [6, 2, 0, 0, 4, 0]\n",
    "\n",
    "# A = [0, 2, 2, 3]\n",
    "# B = [1, 1, 4, 4]\n",
    "\n",
    "print(solution(A, B))"
   ]
  },
  {
   "cell_type": "code",
   "execution_count": null,
   "metadata": {},
   "outputs": [],
   "source": []
  }
 ],
 "metadata": {
  "kernelspec": {
   "display_name": ".venv",
   "language": "python",
   "name": "python3"
  },
  "language_info": {
   "codemirror_mode": {
    "name": "ipython",
    "version": 3
   },
   "file_extension": ".py",
   "mimetype": "text/x-python",
   "name": "python",
   "nbconvert_exporter": "python",
   "pygments_lexer": "ipython3",
   "version": "3.11.5"
  }
 },
 "nbformat": 4,
 "nbformat_minor": 2
}
