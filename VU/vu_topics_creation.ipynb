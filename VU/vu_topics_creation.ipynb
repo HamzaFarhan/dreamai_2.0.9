{
 "cells": [
  {
   "cell_type": "code",
   "execution_count": 1,
   "metadata": {},
   "outputs": [
    {
     "name": "stdout",
     "output_type": "stream",
     "text": [
      "The autoreload extension is already loaded. To reload it, use:\n",
      "  %reload_ext autoreload\n"
     ]
    }
   ],
   "source": [
    "import random\n",
    "import typing as _t\n",
    "from pathlib import Path\n",
    "\n",
    "import instructor\n",
    "import openai\n",
    "from dotenv import load_dotenv\n",
    "from pydantic import AfterValidator, BaseModel, Field\n",
    "\n",
    "from dreamai.ai import ModelName, system_message, user_message\n",
    "\n",
    "random.seed(42)\n",
    "\n",
    "load_dotenv()\n",
    "\n",
    "ask_oai = instructor.from_openai(openai.OpenAI())\n",
    "\n",
    "%load_ext autoreload\n",
    "%autoreload 2\n",
    "%reload_ext autoreload"
   ]
  },
  {
   "cell_type": "code",
   "execution_count": 2,
   "metadata": {},
   "outputs": [],
   "source": [
    "ATTEMPTS = 3\n",
    "\n",
    "MIN_SUBTOPICS = 2\n",
    "MAX_SUBTOPICS = 4\n",
    "MIN_CONCEPTS = 2\n",
    "MAX_CONCEPTS = 4\n",
    "\n",
    "\n",
    "# The CreatedSubtopic class is a Pydantic model that represents a subtopic.\n",
    "# Pydantic models are used for data validation, serialization, and documentation.\n",
    "class CreatedSubtopic(BaseModel):\n",
    "    # The name of the subtopic. It is a string and will be transformed to title case after validation.\n",
    "    name: _t.Annotated[str, AfterValidator(str.title)]\n",
    "    # The concepts covered in the subtopic. It is a list of strings.\n",
    "    # Each string will be transformed to title case after validation.\n",
    "    # The number of concepts should be between MIN_CONCEPTS and MAX_CONCEPTS. If they are not, our AI will try again. Up to ATTEMPTS times.\n",
    "    concepts: _t.Annotated[\n",
    "        list[str], AfterValidator(lambda concepts: [x.title() for x in concepts])\n",
    "    ] = Field(\n",
    "        f\"{MIN_CONCEPTS}-{MAX_CONCEPTS} concepts covered in the subtopic.\",\n",
    "        min_length=MIN_CONCEPTS,\n",
    "        max_length=MAX_CONCEPTS,\n",
    "    )\n",
    "\n",
    "\n",
    "# The CreatedTopic class is a Pydantic model that represents a topic.\n",
    "class CreatedTopic(BaseModel):\n",
    "    # The name of the topic. It is a string and will be transformed to title case after validation.\n",
    "    name: _t.Annotated[str, AfterValidator(str.title)]\n",
    "    # The subtopics of the topic. It is a list of CreatedSubtopic objects.\n",
    "    # The number of subtopics should be between MIN_SUBTOPICS and MAX_SUBTOPICS. If they are not, our AI will try again. Up to ATTEMPTS times.\n",
    "    subtopics: list[CreatedSubtopic] = Field(\n",
    "        f\"{MIN_SUBTOPICS}-{MAX_SUBTOPICS} ordered subtopics with concepts.\",\n",
    "        min_length=MIN_SUBTOPICS,\n",
    "        max_length=MAX_SUBTOPICS,\n",
    "    )"
   ]
  },
  {
   "cell_type": "code",
   "execution_count": 3,
   "metadata": {},
   "outputs": [],
   "source": [
    "COURSE = \"math_102\"\n",
    "SYSTEM_PREFIX = \"You are a world class math course instructor.\""
   ]
  },
  {
   "cell_type": "code",
   "execution_count": 4,
   "metadata": {},
   "outputs": [
    {
     "data": {
      "text/plain": [
       "['Set, its different representations and types of sets',\n",
       " 'Complex numbers their addition, subtraction, multiplication and division and Modulus of a complex number',\n",
       " 'Mapping and their types, function and their types, composite and inverse of a function, addition, subtraction, multiplication and division of functions',\n",
       " 'Quadratic functions and quadratic formula with the types of solutions',\n",
       " 'Matrices with their addition, subtraction  and multiplication , finding the inverse of a matrix using augmented matrix and co-factors. Application of matrices in solving system of linear equations, Crammer rule Determinants',\n",
       " 'Arithmetic and Geometric Sequence with their nth terms and Series sum.',\n",
       " 'Permutations and Combinations with their applications on some real life scenarios',\n",
       " 'Binomial theorem and its applications in generalizing the formulas for higher powers ',\n",
       " 'In coordinate geometry find  the distance between two points, the slope of a line,condition for parallel and perpendicular lines,',\n",
       " 'Circle and equation of circle',\n",
       " 'Graphs of basic trigonometric functions, periodicity of sine and cosine functions, trigonometric identities and their applications to solve a trigonometric equation, Sum and Difference Formulas , Double Angle Formulas ',\n",
       " 'Statistics and its contribution in our life, types of statistics, measurement scales, ',\n",
       " 'Data Representation to analyse and find Measures of Central Tendency , Measures of Dispersion, Partial Fractions and Trigonometric Identities']"
      ]
     },
     "execution_count": 4,
     "metadata": {},
     "output_type": "execute_result"
    }
   ],
   "source": [
    "outline = Path(f\"{COURSE}.txt\").read_text().splitlines()\n",
    "outline"
   ]
  },
  {
   "cell_type": "code",
   "execution_count": 8,
   "metadata": {},
   "outputs": [
    {
     "name": "stdout",
     "output_type": "stream",
     "text": [
      "<topic_description>\n",
      "Set, its different representations and types of sets\n",
      "</topic_description>\n",
      "\n",
      "{'role': 'user', 'content': '<topic_description>\\nSet, its different representations and types of sets\\n</topic_description>'}\n",
      "\n",
      "You are a world class math course instructor.\n",
      "You'll be given a topic description from a course outline and you have to generate a 3-5 word topic name that encapsulates the description.\n",
      "Then, generate 2-4 subtopics for the topic. Also 3-5 words each.\n",
      "Then for each subtopic, generate 2-4 concepts. Also 3-5 words each. The concepts should be related to the subtopic.\n",
      "Think of concepts as the smallest unit of knowledge that can be taught from the subtopic.\n",
      "\n"
     ]
    }
   ],
   "source": [
    "topic_system = f\"\"\"\\\n",
    "{SYSTEM_PREFIX}\n",
    "You'll be given a topic description from a course outline and you have to generate a 3-5 word topic name that encapsulates the description.\n",
    "Then, generate {MIN_SUBTOPICS}-{MAX_SUBTOPICS} subtopics for the topic. Also 3-5 words each.\n",
    "Then for each subtopic, generate {MIN_CONCEPTS}-{MAX_CONCEPTS} concepts. Also 3-5 words each. The concepts should be related to the subtopic.\n",
    "Think of concepts as the smallest unit of knowledge that can be taught from the subtopic.\n",
    "\"\"\"\n",
    "\n",
    "# Let's show an example user message and also the system message\n",
    "line = outline[0]\n",
    "user_msg = user_message(\n",
    "    f\"<topic_description>\\n{line}\\n</topic_description>\"\n",
    ")  # this is a dict with a \"user\" role and some content\n",
    "print(user_msg[\"content\"])\n",
    "print()\n",
    "print(user_msg)\n",
    "print()\n",
    "print(topic_system)"
   ]
  },
  {
   "cell_type": "code",
   "execution_count": 9,
   "metadata": {},
   "outputs": [
    {
     "name": "stdout",
     "output_type": "stream",
     "text": [
      "\n",
      "\n",
      "CREATING TOPIC FOR LINE: Set, its different representations and types of sets\n",
      "\n",
      "\n",
      "\n",
      "\n",
      "CREATING TOPIC FOR LINE: Complex numbers their addition, subtraction, multiplication and division and Modulus of a complex number\n",
      "\n",
      "\n",
      "\n",
      "\n",
      "CREATING TOPIC FOR LINE: Mapping and their types, function and their types, composite and inverse of a function, addition, subtraction, multiplication and division of functions\n",
      "\n",
      "\n",
      "\n",
      "\n",
      "CREATING TOPIC FOR LINE: Quadratic functions and quadratic formula with the types of solutions\n",
      "\n",
      "\n",
      "\n",
      "\n",
      "CREATING TOPIC FOR LINE: Matrices with their addition, subtraction  and multiplication , finding the inverse of a matrix using augmented matrix and co-factors. Application of matrices in solving system of linear equations, Crammer rule Determinants\n",
      "\n",
      "\n",
      "\n",
      "\n",
      "CREATING TOPIC FOR LINE: Arithmetic and Geometric Sequence with their nth terms and Series sum.\n",
      "\n",
      "\n",
      "\n",
      "\n",
      "CREATING TOPIC FOR LINE: Permutations and Combinations with their applications on some real life scenarios\n",
      "\n",
      "\n",
      "\n",
      "\n",
      "CREATING TOPIC FOR LINE: Binomial theorem and its applications in generalizing the formulas for higher powers \n",
      "\n",
      "\n",
      "\n",
      "\n",
      "CREATING TOPIC FOR LINE: In coordinate geometry find  the distance between two points, the slope of a line,condition for parallel and perpendicular lines,\n",
      "\n",
      "\n",
      "\n",
      "\n",
      "CREATING TOPIC FOR LINE: Circle and equation of circle\n",
      "\n",
      "\n",
      "\n",
      "\n",
      "CREATING TOPIC FOR LINE: Graphs of basic trigonometric functions, periodicity of sine and cosine functions, trigonometric identities and their applications to solve a trigonometric equation, Sum and Difference Formulas , Double Angle Formulas \n",
      "\n",
      "\n",
      "\n",
      "\n",
      "CREATING TOPIC FOR LINE: Statistics and its contribution in our life, types of statistics, measurement scales, \n",
      "\n",
      "\n",
      "\n",
      "\n",
      "CREATING TOPIC FOR LINE: Data Representation to analyse and find Measures of Central Tendency , Measures of Dispersion, Partial Fractions and Trigonometric Identities\n",
      "\n",
      "\n"
     ]
    }
   ],
   "source": [
    "topics = []  # this will be a list of CreatedTopic objects\n",
    "for line in outline:\n",
    "    print(f\"\\n\\nCREATING TOPIC FOR LINE: {line}\\n\\n\")\n",
    "    topics.append(\n",
    "        ask_oai.create(\n",
    "            response_model=CreatedTopic,\n",
    "            messages=[\n",
    "                system_message(topic_system),\n",
    "                user_message(f\"<topic_description>\\n{line}\\n</topic_description>\"),\n",
    "            ],  # type: ignore\n",
    "            model=ModelName.GPT_4,\n",
    "            max_retries=ATTEMPTS,\n",
    "        )\n",
    "    )"
   ]
  },
  {
   "cell_type": "code",
   "execution_count": 10,
   "metadata": {},
   "outputs": [
    {
     "data": {
      "text/plain": [
       "[CreatedTopic(name='Set Theory Basics', subtopics=[CreatedSubtopic(name='Set Representations', concepts=['Roster Notation', 'Set-Builder Notation', 'Venn Diagrams']), CreatedSubtopic(name='Types Of Sets', concepts=['Finite Sets', 'Infinite Sets', 'Null Sets', 'Equal Sets']), CreatedSubtopic(name='Set Operations', concepts=['Union And Intersection', 'Difference Of Sets', 'Complement Of Sets', 'Cartesian Products'])]),\n",
       " CreatedTopic(name='Complex Numbers', subtopics=[CreatedSubtopic(name='Basic Operations', concepts=['Addition', 'Subtraction', 'Multiplication', 'Division']), CreatedSubtopic(name='Modulus Of Complex Numbers', concepts=['Definition Of Modulus', 'Geometric Representation', 'Calculating Modulus'])]),\n",
       " CreatedTopic(name='Functions And Mappings', subtopics=[CreatedSubtopic(name='Types Of Mappings', concepts=['One-To-One Mapping', 'Onto Mapping', 'Many-To-One Mapping']), CreatedSubtopic(name='Types Of Functions', concepts=['Linear Functions', 'Quadratic Functions', 'Polynomial Functions']), CreatedSubtopic(name='Composite And Inverse Functions', concepts=['Function Composition', 'Inverse Functions', 'Finding Inverses']), CreatedSubtopic(name='Operations On Functions', concepts=['Function Addition', 'Function Subtraction', 'Function Multiplication', 'Function Division'])]),\n",
       " CreatedTopic(name='Quadratic Functions', subtopics=[CreatedSubtopic(name='Quadratic Functions Basics', concepts=['Standard Form', 'Vertex Form', 'Graphing Quadratics']), CreatedSubtopic(name='Quadratic Formula', concepts=['Deriving The Formula', 'Using The Formula']), CreatedSubtopic(name='Types Of Solutions', concepts=['Real Solutions', 'Imaginary Solutions', 'Discriminant'])]),\n",
       " CreatedTopic(name='Matrix Operations And Applications', subtopics=[CreatedSubtopic(name='Matrix Arithmetic', concepts=['Matrix Addition', 'Matrix Subtraction', 'Matrix Multiplication']), CreatedSubtopic(name='Matrix Inverses', concepts=['Augmented Matrix Method', 'Co-Factor Method']), CreatedSubtopic(name='Solving Linear Systems', concepts=[\"Cramer'S Rule\", 'Matrix Equation Method']), CreatedSubtopic(name='Determinants', concepts=['Determinant Properties', 'Determinant Calculation'])]),\n",
       " CreatedTopic(name='Sequence And Series', subtopics=[CreatedSubtopic(name='Arithmetic Sequence', concepts=['Common Difference', 'Nth Term Formula', 'Sum Of Series']), CreatedSubtopic(name='Geometric Sequence', concepts=['Common Ratio', 'Nth Term Formula', 'Sum Of Series']), CreatedSubtopic(name='Comparison: Arithmetic Vs Geometric', concepts=['Sequence Definitions', 'Series Formulas', 'Key Differences'])]),\n",
       " CreatedTopic(name='Permutations And Combinations', subtopics=[CreatedSubtopic(name='Permutations Basics', concepts=['Definition', 'Factorial Notation', 'Ordering Importance']), CreatedSubtopic(name='Combinations Basics', concepts=['Definition', 'Choosing Without Order', 'Combination Formula']), CreatedSubtopic(name='Real-Life Applications', concepts=['Scheduling', 'Probability Problems', 'Resource Allocation'])]),\n",
       " CreatedTopic(name='Binomial Theorem', subtopics=[CreatedSubtopic(name='Binomial Expansion', concepts=['Expansion Formula', 'Coefficients In Expansion', 'Terms Of Expansion']), CreatedSubtopic(name='General Applications', concepts=['Higher Power Formulas', 'Binomial Identities', 'Real-World Applications'])]),\n",
       " CreatedTopic(name='Coordinate Geometry Basics', subtopics=[CreatedSubtopic(name='Distance Between Points', concepts=['Distance Formula', 'Midpoint Formula']), CreatedSubtopic(name='Slope Of A Line', concepts=['Slope Formula', 'Slope-Intercept Form']), CreatedSubtopic(name='Parallel And Perpendicular Lines', concepts=['Parallel Line Condition', 'Perpendicular Line Condition'])]),\n",
       " CreatedTopic(name='Circle Equations', subtopics=[CreatedSubtopic(name='Basic Properties', concepts=['Radius And Diameter', 'Circumference Formula', 'Area Of Circle']), CreatedSubtopic(name='Equation Forms', concepts=['Standard Form', 'General Form', 'Converting Forms']), CreatedSubtopic(name='Graphical Representation', concepts=['Plotting Circle', 'Interpreting Graphs', 'Intersection With Lines'])]),\n",
       " CreatedTopic(name='Trigonometric Functions', subtopics=[CreatedSubtopic(name='Basic Trig Graphs', concepts=['Sine Function Graph', 'Cosine Function Graph', 'Periodicity Definition']), CreatedSubtopic(name='Trig Identities', concepts=['Fundamental Identities', 'Solving Trig Equations']), CreatedSubtopic(name='Sum And Difference Formulas', concepts=['Sum Formula', 'Difference Formula']), CreatedSubtopic(name='Double Angle Formulas', concepts=['Double Angle Sine', 'Double Angle Cosine'])]),\n",
       " CreatedTopic(name='Introduction To Statistics', subtopics=[CreatedSubtopic(name='Types Of Statistics', concepts=['Descriptive Statistics', 'Inferential Statistics']), CreatedSubtopic(name='Measurement Scales', concepts=['Nominal Scale', 'Ordinal Scale', 'Interval Scale', 'Ratio Scale'])]),\n",
       " CreatedTopic(name='Data Analysis Foundations', subtopics=[CreatedSubtopic(name='Measures Of Central Tendency', concepts=['Mean Calculation', 'Median Determination', 'Mode Identification']), CreatedSubtopic(name='Measures Of Dispersion', concepts=['Range Computation', 'Variance Analysis', 'Standard Deviation']), CreatedSubtopic(name='Partial Fractions', concepts=['Decomposition Techniques', 'Improper Fractions', 'Non-Reducible Denominators']), CreatedSubtopic(name='Trigonometric Identities', concepts=['Fundamental Identities', 'Pythagorean Identities', 'Angle Sum Formulas'])])]"
      ]
     },
     "execution_count": 10,
     "metadata": {},
     "output_type": "execute_result"
    }
   ],
   "source": [
    "topics"
   ]
  },
  {
   "cell_type": "code",
   "execution_count": 11,
   "metadata": {},
   "outputs": [
    {
     "data": {
      "text/plain": [
       "{'name': 'Set Theory Basics',\n",
       " 'subtopics': [{'name': 'Set Representations',\n",
       "   'concepts': ['Roster Notation', 'Set-Builder Notation', 'Venn Diagrams']},\n",
       "  {'name': 'Types Of Sets',\n",
       "   'concepts': ['Finite Sets', 'Infinite Sets', 'Null Sets', 'Equal Sets']},\n",
       "  {'name': 'Set Operations',\n",
       "   'concepts': ['Union And Intersection',\n",
       "    'Difference Of Sets',\n",
       "    'Complement Of Sets',\n",
       "    'Cartesian Products']}]}"
      ]
     },
     "execution_count": 11,
     "metadata": {},
     "output_type": "execute_result"
    }
   ],
   "source": [
    "# In Pydantic, we can access the data as a dict using the .model_dump() method.\n",
    "topics[0].model_dump()"
   ]
  },
  {
   "cell_type": "code",
   "execution_count": null,
   "metadata": {},
   "outputs": [],
   "source": []
  }
 ],
 "metadata": {
  "kernelspec": {
   "display_name": ".venv",
   "language": "python",
   "name": "python3"
  },
  "language_info": {
   "codemirror_mode": {
    "name": "ipython",
    "version": 3
   },
   "file_extension": ".py",
   "mimetype": "text/x-python",
   "name": "python",
   "nbconvert_exporter": "python",
   "pygments_lexer": "ipython3",
   "version": "3.11.5"
  }
 },
 "nbformat": 4,
 "nbformat_minor": 2
}
