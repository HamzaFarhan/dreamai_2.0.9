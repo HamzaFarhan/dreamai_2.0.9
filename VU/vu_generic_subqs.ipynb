{
 "cells": [
  {
   "cell_type": "code",
   "execution_count": 1,
   "metadata": {
    "metadata": {}
   },
   "outputs": [
    {
     "name": "stdout",
     "output_type": "stream",
     "text": [
      "The autoreload extension is already loaded. To reload it, use:\n",
      "  %reload_ext autoreload\n"
     ]
    }
   ],
   "source": [
    "import json\n",
    "from functools import partial\n",
    "from pathlib import Path\n",
    "from typing import Annotated, Optional\n",
    "from uuid import uuid4\n",
    "\n",
    "import anthropic\n",
    "import instructor\n",
    "import openai\n",
    "from dotenv import load_dotenv\n",
    "from pydantic import (\n",
    "    AfterValidator,\n",
    "    BaseModel,\n",
    "    BeforeValidator,\n",
    "    Field,\n",
    "    ValidationInfo,\n",
    "    create_model,\n",
    "    field_validator,\n",
    "    model_validator,\n",
    ")\n",
    "from tenacity import Retrying, RetryError, stop_after_attempt, wait_random_exponential\n",
    "\n",
    "from dreamai.ai import (\n",
    "    ModelName,\n",
    "    assistant_message,\n",
    "    count_gpt_tokens,\n",
    "    system_message,\n",
    "    user_message,\n",
    ")\n",
    "from dreamai.utils import deindent\n",
    "\n",
    "load_dotenv()\n",
    "\n",
    "ask_oai = instructor.from_openai(openai.OpenAI())\n",
    "ask_cld = instructor.from_anthropic(anthropic.Anthropic())\n",
    "\n",
    "%load_ext autoreload\n",
    "%autoreload 2\n",
    "%reload_ext autoreload"
   ]
  },
  {
   "cell_type": "code",
   "execution_count": 2,
   "metadata": {
    "metadata": {}
   },
   "outputs": [],
   "source": [
    "MODEL = ModelName.HAIKU\n",
    "CONCEPT_WORD_COUNT = 3"
   ]
  },
  {
   "cell_type": "code",
   "execution_count": 96,
   "metadata": {
    "metadata": {}
   },
   "outputs": [],
   "source": [
    "def validate_word_count(text: str, word_count: int = 3, text_name: str = \"Text\") -> str:\n",
    "    if len(text.split()) < word_count:\n",
    "        raise ValueError(f\"{text_name} should be at least {word_count} words long\")\n",
    "    return text\n",
    "\n",
    "\n",
    "class Question(BaseModel):\n",
    "    id: str\n",
    "    problem: str\n",
    "    solution: str\n",
    "\n",
    "\n",
    "class TopicSubtopic(BaseModel):\n",
    "    topic: str\n",
    "    subtopic: str\n",
    "\n",
    "    @model_validator(mode=\"after\")  # type: ignore\n",
    "    def validate_topic_subtopic(self, info: ValidationInfo) -> \"TopicSubtopic\":\n",
    "        topics = info.context.get(\"topics\")  # type: ignore\n",
    "        topics_names = [topic.name for topic in topics]\n",
    "        if self.topic not in topics_names:\n",
    "            raise ValueError(f\"Topic {self.topic} not found in topics\")\n",
    "        topic = next(topic for topic in topics if topic.name == self.topic)\n",
    "        if self.subtopic not in [subtopic.name for subtopic in topic.subtopics]:\n",
    "            raise ValueError(\n",
    "                f\"Subtopic {self.subtopic} not found in Topic: {self.topic}\"\n",
    "            )\n",
    "        return self\n",
    "\n",
    "\n",
    "class QuestionWithTopicSubtopic(Question):\n",
    "    topic: str\n",
    "    subtopic: str\n",
    "\n",
    "\n",
    "class QuestionsWithTopicSubtopic(BaseModel):\n",
    "    questions: list[QuestionWithTopicSubtopic]\n",
    "\n",
    "\n",
    "class QuestionWithTopicSubtopicAndSubquestions(QuestionWithTopicSubtopic):\n",
    "    subquestions: list[QuestionWithTopicSubtopic]\n",
    "\n",
    "\n",
    "class Concept(BaseModel):\n",
    "    concept: Annotated[\n",
    "        str,\n",
    "        AfterValidator(\n",
    "            partial(\n",
    "                validate_word_count, word_count=CONCEPT_WORD_COUNT, text_name=\"Concept\"\n",
    "            )\n",
    "        ),\n",
    "    ]\n",
    "\n",
    "\n",
    "class QuestionWithConcept(QuestionWithTopicSubtopic):\n",
    "    concept: str\n",
    "\n",
    "\n",
    "class QuestionWithTopicSubtopicAndConceptSubquestions(QuestionWithTopicSubtopic):\n",
    "    subquestions: list[QuestionWithConcept]\n",
    "\n",
    "\n",
    "class QuestionWithConceptAndSubquestions(QuestionWithConcept):\n",
    "    subquestions: list[QuestionWithConcept]\n",
    "\n",
    "\n",
    "class Subtopic(BaseModel):\n",
    "    name: str\n",
    "    concepts: list[str] = Field(default_factory=list)\n",
    "\n",
    "\n",
    "class Topic(BaseModel):\n",
    "    name: str\n",
    "    subtopics: list[Subtopic]"
   ]
  },
  {
   "cell_type": "code",
   "execution_count": 72,
   "metadata": {
    "metadata": {}
   },
   "outputs": [
    {
     "data": {
      "text/plain": [
       "{'id': '6349',\n",
       " 'problem': 'Let $a$ and $b$ be angles such that\\n\\\\[\\\\cos (a + b) = \\\\cos a + \\\\cos b.\\\\]Find the maximum value of $\\\\cos a.$',\n",
       " 'solution': 'From $\\\\cos (a + b) = \\\\cos a + \\\\cos b,$ $\\\\cos a = \\\\cos (a + b) - \\\\cos b.$  Then from sum-to-product,\\n\\\\[\\\\cos (a + b) - \\\\cos b = -2 \\\\sin \\\\frac{a + 2b}{2} \\\\sin \\\\frac{a}{2}.\\\\]Let $k = \\\\sin \\\\frac{a + 2b}{2},$ so\\n\\\\[\\\\cos a = -2k \\\\sin \\\\frac{a}{2}.\\\\]Then\\n\\\\[\\\\cos^2 a = 4k^2 \\\\sin^2 \\\\frac{a}{2} = 4k^2 \\\\cdot \\\\frac{1}{2} (1 - \\\\cos a) = 2k^2 (1 - \\\\cos a),\\\\]so\\n\\\\[\\\\frac{\\\\cos^2 a}{1 - \\\\cos a} = 2k^2 \\\\le 2.\\\\]Then $\\\\cos^2 a \\\\le 2 - 2 \\\\cos a,$ so\\n\\\\[\\\\cos^2 a + 2 \\\\cos a + 1 \\\\le 3.\\\\]This means $(\\\\cos a + 1)^2 \\\\le 3,$ so $\\\\cos a + 1 \\\\le \\\\sqrt{3},$ or $\\\\cos a \\\\le \\\\sqrt{3} - 1.$\\n\\nEquality occurs if we take $a = \\\\arccos (\\\\sqrt{3} - 1)$ and $b = \\\\frac{3 \\\\pi - a}{2}$ (which will make $k = \\\\sin \\\\frac{a + 2b}{2} = -1$), so the maximum value of $\\\\cos a$ is $\\\\boxed{\\\\sqrt{3} - 1}.$'}"
      ]
     },
     "execution_count": 72,
     "metadata": {},
     "output_type": "execute_result"
    }
   ],
   "source": [
    "data_dir = Path(\"/media/hamza/data2/MATH/train/\")\n",
    "\n",
    "question_files = [\n",
    "    file\n",
    "    for file in data_dir.glob(\"**/*.json\")\n",
    "    if file.parent.name != \"counting_and_probability\"\n",
    "]\n",
    "questions = [json.loads(file.read_text()) for file in question_files]\n",
    "questions = [\n",
    "    Question(\n",
    "        **{\n",
    "            \"id\": str(i),\n",
    "            \"problem\": question[\"problem\"],\n",
    "            \"solution\": question[\"solution\"],\n",
    "        }\n",
    "    )\n",
    "    for i, question in enumerate(questions)\n",
    "    if \"5\" in question[\"level\"]\n",
    "]\n",
    "questions = [q for q in questions if q.id in [\"225\", \"6349\"]]\n",
    "questions[1].model_dump()"
   ]
  },
  {
   "cell_type": "code",
   "execution_count": 92,
   "metadata": {
    "metadata": {}
   },
   "outputs": [
    {
     "data": {
      "text/plain": [
       "{'name': 'Set Theory',\n",
       " 'subtopics': [{'name': 'Representations of Sets', 'concepts': []},\n",
       "  {'name': 'Classifying Sets', 'concepts': []},\n",
       "  {'name': 'Set Operations: Union and Intersection', 'concepts': []},\n",
       "  {'name': 'Understanding Set Difference', 'concepts': []},\n",
       "  {'name': 'Exploring Set Complement', 'concepts': []}]}"
      ]
     },
     "execution_count": 92,
     "metadata": {},
     "output_type": "execute_result"
    }
   ],
   "source": [
    "topics = json.load(open(\"math_102_topics.json\"))\n",
    "topics = [\n",
    "    Topic(\n",
    "        name=topic[\"name\"],\n",
    "        subtopics=[Subtopic(name=subtopic) for subtopic in topic[\"subtopics\"]],\n",
    "    )\n",
    "    for topic in topics\n",
    "]\n",
    "topics[0].model_dump()"
   ]
  },
  {
   "cell_type": "code",
   "execution_count": 75,
   "metadata": {
    "metadata": {}
   },
   "outputs": [
    {
     "data": {
      "text/plain": [
       "{'id': '6349',\n",
       " 'problem': 'Let $a$ and $b$ be angles such that\\n\\\\[\\\\cos (a + b) = \\\\cos a + \\\\cos b.\\\\]Find the maximum value of $\\\\cos a.$',\n",
       " 'solution': 'From $\\\\cos (a + b) = \\\\cos a + \\\\cos b,$ $\\\\cos a = \\\\cos (a + b) - \\\\cos b.$  Then from sum-to-product,\\n\\\\[\\\\cos (a + b) - \\\\cos b = -2 \\\\sin \\\\frac{a + 2b}{2} \\\\sin \\\\frac{a}{2}.\\\\]Let $k = \\\\sin \\\\frac{a + 2b}{2},$ so\\n\\\\[\\\\cos a = -2k \\\\sin \\\\frac{a}{2}.\\\\]Then\\n\\\\[\\\\cos^2 a = 4k^2 \\\\sin^2 \\\\frac{a}{2} = 4k^2 \\\\cdot \\\\frac{1}{2} (1 - \\\\cos a) = 2k^2 (1 - \\\\cos a),\\\\]so\\n\\\\[\\\\frac{\\\\cos^2 a}{1 - \\\\cos a} = 2k^2 \\\\le 2.\\\\]Then $\\\\cos^2 a \\\\le 2 - 2 \\\\cos a,$ so\\n\\\\[\\\\cos^2 a + 2 \\\\cos a + 1 \\\\le 3.\\\\]This means $(\\\\cos a + 1)^2 \\\\le 3,$ so $\\\\cos a + 1 \\\\le \\\\sqrt{3},$ or $\\\\cos a \\\\le \\\\sqrt{3} - 1.$\\n\\nEquality occurs if we take $a = \\\\arccos (\\\\sqrt{3} - 1)$ and $b = \\\\frac{3 \\\\pi - a}{2}$ (which will make $k = \\\\sin \\\\frac{a + 2b}{2} = -1$), so the maximum value of $\\\\cos a$ is $\\\\boxed{\\\\sqrt{3} - 1}.$',\n",
       " 'topic': 'Mapping & Functions Overview',\n",
       " 'subtopic': 'Function Operations'}"
      ]
     },
     "execution_count": 75,
     "metadata": {},
     "output_type": "execute_result"
    }
   ],
   "source": [
    "question = questions[1]\n",
    "topic = \"Mapping & Functions Overview\"\n",
    "subtopic = \"Function Operations\"\n",
    "QuestionWithTopicSubtopic.model_validate(\n",
    "    dict(question.model_dump(), topic=topic, subtopic=subtopic),\n",
    "    context={\"topics\": topics},\n",
    ").model_dump()"
   ]
  },
  {
   "cell_type": "code",
   "execution_count": 76,
   "metadata": {
    "metadata": {}
   },
   "outputs": [],
   "source": [
    "topics_str = deindent(\n",
    "    f\"\"\"\n",
    "TOPICS:\n",
    "\n",
    "{json.dumps([topic.model_dump() for topic in topics], indent=2)}\n",
    "\"\"\"\n",
    ")\n",
    "\n",
    "topic_subtopic_message = deindent(\n",
    "    f\"\"\"\n",
    "You are a world class math course instructor.\n",
    "You will be given a question with a 'problem' and a 'solution'.\n",
    "Given these topics and subtopics below, assign a 'topic' and a 'subtopic' to the question.\n",
    "The 'subtopic' must be one of the subtopics of the 'topic'.\n",
    "\n",
    "{topics_str}\n",
    "    \"\"\"\n",
    ")\n",
    "\n",
    "subqs_message = deindent(\n",
    "    f\"\"\"\n",
    "You are a world class math course instructor.\n",
    "You will be given a question with a 'problem', a 'solution', a 'topic', and a 'subtopic'.\n",
    "Based on the main question's problem and solution, break the question down into 3-5 smaller subquestions.\n",
    "Answering these questions in sequence should lead to the solution of the main question.\n",
    "Make sure that the answer to the last subquestion is the solution to the main question.\n",
    "So the subquestions are basically the steps to solve the main question.\n",
    "And if a student can solve the main question, we can assume that they have learned the underlying concepts of the subquestions.\n",
    "No 2 subquestions can have the same concept.\n",
    "For each subquestion:\n",
    "    1. Define the 'problem'.\n",
    "    2. Give a detailed 'solution'.\n",
    "    3. Given these topics below, assign a 'topic' and a 'subtopic' to the subquestion.\n",
    "       The 'subtopic' must be one of the subtopics of the 'topic'.\n",
    "\n",
    "{topics_str}\n",
    "\"\"\"\n",
    ")\n",
    "\n",
    "\n",
    "def concepts_str(concepts: list[str]) -> str:\n",
    "    return deindent(\n",
    "        f\"\"\"\n",
    "You can use a concept from the list below or come up with a new one if needed.\n",
    "\n",
    "CONCEPTS:\n",
    "\n",
    "{json.dumps(concepts, indent=2)}\n",
    "\"\"\"\n",
    "    )\n",
    "\n",
    "\n",
    "def question_w_concept_message(concepts: list[str]) -> str:\n",
    "    prompt = deindent(\n",
    "        f\"\"\"\n",
    "You are a world class math course instructor.\n",
    "You will be given a question with a 'problem', a 'solution', a 'topic', and a 'subtopic'.\n",
    "Assign a 'concept' to the question. The 'concept' should have at least {CONCEPT_WORD_COUNT} words.\n",
    "Solving this question should help students understand this concept.\n",
    "\"\"\"\n",
    "    )\n",
    "    if len(concepts) > 0:\n",
    "        prompt += concepts_str(concepts)\n",
    "    return prompt\n",
    "\n",
    "\n",
    "def question_w_subqs_concept_message(concepts: list[str]) -> str:\n",
    "    prompt = deindent(\n",
    "        f\"\"\"\n",
    "You are a world class math course instructor.\n",
    "You will be given a question with a 'problem', a 'solution', a 'topic', and a 'subtopic'.\n",
    "It will also have 3-5 subquestions. Each subquestion will have a 'problem', a 'solution', a 'topic', a 'subtopic', and a 'concept'.\n",
    "Based on the subquestions, assign a 'concept' to the main question. The 'concept' should have at least {CONCEPT_WORD_COUNT} words.\n",
    "Try not to repeat the concepts of the subquestions. Because the subquestions are the steps to solve the main question.\n",
    "Solving this question should help students understand this concept.\n",
    "\"\"\"\n",
    "    )\n",
    "    if len(concepts) > 0:\n",
    "        prompt += concepts_str(concepts)\n",
    "    return prompt"
   ]
  },
  {
   "cell_type": "code",
   "execution_count": 77,
   "metadata": {
    "metadata": {}
   },
   "outputs": [
    {
     "name": "stdout",
     "output_type": "stream",
     "text": [
      "You are a world class math course instructor.\n",
      "You will be given a question with a 'problem', a 'solution', a 'topic', and a 'subtopic'.\n",
      "It will also have 3-5 subquestions. Each subquestion will have a 'problem', a 'solution', a 'topic', a 'subtopic', and a 'concept'.\n",
      "Based on the subquestions, assign a 'concept' to the main question. The 'concept' should have at least 3 words.\n",
      "Try not to repeat the concepts of the subquestions. Because the subquestions are the steps to solve the main question.\n",
      "Solving this question should help students understand this concept.You can use a concept from the list below or come up with a new one if needed.\n",
      "\n",
      "CONCEPTS:\n",
      "\n",
      "[\n",
      "  \"addition\",\n",
      "  \"subtraction\",\n",
      "  \"multiplication\",\n",
      "  \"division\"\n",
      "]\n"
     ]
    }
   ],
   "source": [
    "print(\n",
    "    question_w_subqs_concept_message(\n",
    "        [\"addition\", \"subtraction\", \"multiplication\", \"division\"]\n",
    "    )\n",
    ")"
   ]
  },
  {
   "cell_type": "code",
   "execution_count": 78,
   "metadata": {
    "metadata": {}
   },
   "outputs": [
    {
     "data": {
      "text/plain": [
       "(1869, 2012)"
      ]
     },
     "execution_count": 78,
     "metadata": {},
     "output_type": "execute_result"
    }
   ],
   "source": [
    "count_gpt_tokens(topic_subtopic_message), count_gpt_tokens(subqs_message)"
   ]
  },
  {
   "cell_type": "code",
   "execution_count": 79,
   "metadata": {
    "metadata": {}
   },
   "outputs": [
    {
     "name": "stdout",
     "output_type": "stream",
     "text": [
      "Question:\n",
      "\n",
      "{\n",
      "  \"id\": \"6349\",\n",
      "  \"problem\": \"Let $a$ and $b$ be angles such that\\n\\\\[\\\\cos (a + b) = \\\\cos a + \\\\cos b.\\\\]Find the maximum value of $\\\\cos a.$\",\n",
      "  \"solution\": \"From $\\\\cos (a + b) = \\\\cos a + \\\\cos b,$ $\\\\cos a = \\\\cos (a + b) - \\\\cos b.$  Then from sum-to-product,\\n\\\\[\\\\cos (a + b) - \\\\cos b = -2 \\\\sin \\\\frac{a + 2b}{2} \\\\sin \\\\frac{a}{2}.\\\\]Let $k = \\\\sin \\\\frac{a + 2b}{2},$ so\\n\\\\[\\\\cos a = -2k \\\\sin \\\\frac{a}{2}.\\\\]Then\\n\\\\[\\\\cos^2 a = 4k^2 \\\\sin^2 \\\\frac{a}{2} = 4k^2 \\\\cdot \\\\frac{1}{2} (1 - \\\\cos a) = 2k^2 (1 - \\\\cos a),\\\\]so\\n\\\\[\\\\frac{\\\\cos^2 a}{1 - \\\\cos a} = 2k^2 \\\\le 2.\\\\]Then $\\\\cos^2 a \\\\le 2 - 2 \\\\cos a,$ so\\n\\\\[\\\\cos^2 a + 2 \\\\cos a + 1 \\\\le 3.\\\\]This means $(\\\\cos a + 1)^2 \\\\le 3,$ so $\\\\cos a + 1 \\\\le \\\\sqrt{3},$ or $\\\\cos a \\\\le \\\\sqrt{3} - 1.$\\n\\nEquality occurs if we take $a = \\\\arccos (\\\\sqrt{3} - 1)$ and $b = \\\\frac{3 \\\\pi - a}{2}$ (which will make $k = \\\\sin \\\\frac{a + 2b}{2} = -1$), so the maximum value of $\\\\cos a$ is $\\\\boxed{\\\\sqrt{3} - 1}.$\"\n",
      "}\n"
     ]
    }
   ],
   "source": [
    "question = questions[1]\n",
    "question_message = deindent(f\"Question:\\n\\n{question.model_dump_json(indent=2)}\")\n",
    "print(question_message)"
   ]
  },
  {
   "cell_type": "code",
   "execution_count": 80,
   "metadata": {
    "metadata": {}
   },
   "outputs": [],
   "source": [
    "question_topic_subtopic = ask_cld.create(\n",
    "    system=topic_subtopic_message,\n",
    "    messages=[\n",
    "        user_message(content=question_message),  # type: ignore\n",
    "    ],\n",
    "    max_tokens=2048,\n",
    "    model=MODEL,\n",
    "    response_model=TopicSubtopic,\n",
    "    max_retries=1,\n",
    "    validation_context={\"topics\": topics},\n",
    ")"
   ]
  },
  {
   "cell_type": "code",
   "execution_count": 81,
   "metadata": {
    "metadata": {}
   },
   "outputs": [
    {
     "data": {
      "text/plain": [
       "TopicSubtopic(topic='Trigonometry Essentials', subtopic='Solving Trigonometric Identities')"
      ]
     },
     "execution_count": 81,
     "metadata": {},
     "output_type": "execute_result"
    }
   ],
   "source": [
    "question_topic_subtopic"
   ]
  },
  {
   "cell_type": "code",
   "execution_count": 82,
   "metadata": {
    "metadata": {}
   },
   "outputs": [
    {
     "data": {
      "text/plain": [
       "{'id': '6349',\n",
       " 'problem': 'Let $a$ and $b$ be angles such that\\n\\\\[\\\\cos (a + b) = \\\\cos a + \\\\cos b.\\\\]Find the maximum value of $\\\\cos a.$',\n",
       " 'solution': 'From $\\\\cos (a + b) = \\\\cos a + \\\\cos b,$ $\\\\cos a = \\\\cos (a + b) - \\\\cos b.$  Then from sum-to-product,\\n\\\\[\\\\cos (a + b) - \\\\cos b = -2 \\\\sin \\\\frac{a + 2b}{2} \\\\sin \\\\frac{a}{2}.\\\\]Let $k = \\\\sin \\\\frac{a + 2b}{2},$ so\\n\\\\[\\\\cos a = -2k \\\\sin \\\\frac{a}{2}.\\\\]Then\\n\\\\[\\\\cos^2 a = 4k^2 \\\\sin^2 \\\\frac{a}{2} = 4k^2 \\\\cdot \\\\frac{1}{2} (1 - \\\\cos a) = 2k^2 (1 - \\\\cos a),\\\\]so\\n\\\\[\\\\frac{\\\\cos^2 a}{1 - \\\\cos a} = 2k^2 \\\\le 2.\\\\]Then $\\\\cos^2 a \\\\le 2 - 2 \\\\cos a,$ so\\n\\\\[\\\\cos^2 a + 2 \\\\cos a + 1 \\\\le 3.\\\\]This means $(\\\\cos a + 1)^2 \\\\le 3,$ so $\\\\cos a + 1 \\\\le \\\\sqrt{3},$ or $\\\\cos a \\\\le \\\\sqrt{3} - 1.$\\n\\nEquality occurs if we take $a = \\\\arccos (\\\\sqrt{3} - 1)$ and $b = \\\\frac{3 \\\\pi - a}{2}$ (which will make $k = \\\\sin \\\\frac{a + 2b}{2} = -1$), so the maximum value of $\\\\cos a$ is $\\\\boxed{\\\\sqrt{3} - 1}.$',\n",
       " 'topic': 'Trigonometry Essentials',\n",
       " 'subtopic': 'Solving Trigonometric Identities'}"
      ]
     },
     "execution_count": 82,
     "metadata": {},
     "output_type": "execute_result"
    }
   ],
   "source": [
    "question_w_topic_subtopic = QuestionWithTopicSubtopic.model_construct(\n",
    "    **question.model_dump(), **question_topic_subtopic.model_dump()\n",
    ")\n",
    "question_w_topic_subtopic.model_dump()"
   ]
  },
  {
   "cell_type": "code",
   "execution_count": 83,
   "metadata": {
    "metadata": {}
   },
   "outputs": [
    {
     "name": "stdout",
     "output_type": "stream",
     "text": [
      "Question with Topic and Subtopic:\n",
      "\n",
      "{\n",
      "  \"id\": \"6349\",\n",
      "  \"problem\": \"Let $a$ and $b$ be angles such that\\n\\\\[\\\\cos (a + b) = \\\\cos a + \\\\cos b.\\\\]Find the maximum value of $\\\\cos a.$\",\n",
      "  \"solution\": \"From $\\\\cos (a + b) = \\\\cos a + \\\\cos b,$ $\\\\cos a = \\\\cos (a + b) - \\\\cos b.$  Then from sum-to-product,\\n\\\\[\\\\cos (a + b) - \\\\cos b = -2 \\\\sin \\\\frac{a + 2b}{2} \\\\sin \\\\frac{a}{2}.\\\\]Let $k = \\\\sin \\\\frac{a + 2b}{2},$ so\\n\\\\[\\\\cos a = -2k \\\\sin \\\\frac{a}{2}.\\\\]Then\\n\\\\[\\\\cos^2 a = 4k^2 \\\\sin^2 \\\\frac{a}{2} = 4k^2 \\\\cdot \\\\frac{1}{2} (1 - \\\\cos a) = 2k^2 (1 - \\\\cos a),\\\\]so\\n\\\\[\\\\frac{\\\\cos^2 a}{1 - \\\\cos a} = 2k^2 \\\\le 2.\\\\]Then $\\\\cos^2 a \\\\le 2 - 2 \\\\cos a,$ so\\n\\\\[\\\\cos^2 a + 2 \\\\cos a + 1 \\\\le 3.\\\\]This means $(\\\\cos a + 1)^2 \\\\le 3,$ so $\\\\cos a + 1 \\\\le \\\\sqrt{3},$ or $\\\\cos a \\\\le \\\\sqrt{3} - 1.$\\n\\nEquality occurs if we take $a = \\\\arccos (\\\\sqrt{3} - 1)$ and $b = \\\\frac{3 \\\\pi - a}{2}$ (which will make $k = \\\\sin \\\\frac{a + 2b}{2} = -1$), so the maximum value of $\\\\cos a$ is $\\\\boxed{\\\\sqrt{3} - 1}.$\",\n",
      "  \"topic\": \"Trigonometry Essentials\",\n",
      "  \"subtopic\": \"Solving Trigonometric Identities\"\n",
      "}\n"
     ]
    }
   ],
   "source": [
    "question_w_topic_subtopic_message = deindent(\n",
    "    f\"Question with Topic and Subtopic:\\n\\n{question_w_topic_subtopic.model_dump_json(indent=2)}\"  # type: ignore\n",
    ")\n",
    "print(question_w_topic_subtopic_message)"
   ]
  },
  {
   "cell_type": "code",
   "execution_count": 84,
   "metadata": {
    "metadata": {}
   },
   "outputs": [],
   "source": [
    "subquestions_w_topic_subtopic = ask_cld.create(\n",
    "    system=subqs_message,\n",
    "    messages=[user_message(content=question_w_topic_subtopic_message)],  # type: ignore\n",
    "    max_tokens=2048,\n",
    "    model=MODEL,\n",
    "    response_model=QuestionsWithTopicSubtopic,\n",
    "    max_retries=1,\n",
    "    validation_context={\"topics\": topics},\n",
    ")"
   ]
  },
  {
   "cell_type": "code",
   "execution_count": 85,
   "metadata": {
    "metadata": {}
   },
   "outputs": [
    {
     "data": {
      "text/plain": [
       "{'questions': [{'id': '1',\n",
       "   'problem': 'What is the relationship between the angles a and b given in the problem?',\n",
       "   'solution': 'The problem states that $\\\\cos (a + b) = \\\\cos a + \\\\cos b$, which is a trigonometric identity. This means that the angles a and b are related in some way, and the solution will involve manipulating this identity to find the maximum value of $\\\\cos a$.',\n",
       "   'topic': 'Trigonometry Essentials',\n",
       "   'subtopic': 'Solving Trigonometric Identities'},\n",
       "  {'id': '2',\n",
       "   'problem': 'How can we express $\\\\cos a$ in terms of $\\\\cos (a + b)$ and $\\\\cos b$?',\n",
       "   'solution': 'From the given identity $\\\\cos (a + b) = \\\\cos a + \\\\cos b$, we can rearrange to get $\\\\cos a = \\\\cos (a + b) - \\\\cos b$. This will be a key step in finding the maximum value of $\\\\cos a$.',\n",
       "   'topic': 'Trigonometry Essentials',\n",
       "   'subtopic': 'Solving Trigonometric Identities'},\n",
       "  {'id': '3',\n",
       "   'problem': 'How can we use the sum-to-product identity to further simplify the expression for $\\\\cos a$?',\n",
       "   'solution': 'Using the sum-to-product identity, we can express $\\\\cos (a + b) - \\\\cos b$ as $-2 \\\\sin \\\\frac{a + 2b}{2} \\\\sin \\\\frac{a}{2}$. This allows us to rewrite $\\\\cos a$ in terms of the sines of certain angle expressions.',\n",
       "   'topic': 'Trigonometry Essentials',\n",
       "   'subtopic': 'Solving Trigonometric Identities'},\n",
       "  {'id': '4',\n",
       "   'problem': 'How can we relate the expression for $\\\\cos^2 a$ to the maximum value of $\\\\cos a$?',\n",
       "   'solution': 'By manipulating the expression for $\\\\cos a$ further, we can arrive at an inequality involving $\\\\cos^2 a$ and $\\\\cos a$. This inequality can then be used to determine the maximum possible value of $\\\\cos a$.',\n",
       "   'topic': 'Trigonometry Essentials',\n",
       "   'subtopic': 'Solving Trigonometric Identities'},\n",
       "  {'id': '5',\n",
       "   'problem': 'What is the final maximum value of $\\\\cos a$ that is determined in the solution?',\n",
       "   'solution': 'The final maximum value of $\\\\cos a$ is $\\\\boxed{\\\\sqrt{3} - 1}$. This is determined by solving the inequality obtained in the previous step and finding the value of $a$ that maximizes $\\\\cos a$.',\n",
       "   'topic': 'Trigonometry Essentials',\n",
       "   'subtopic': 'Solving Trigonometric Identities'}]}"
      ]
     },
     "execution_count": 85,
     "metadata": {},
     "output_type": "execute_result"
    }
   ],
   "source": [
    "subquestions_w_topic_subtopic.model_dump()"
   ]
  },
  {
   "cell_type": "code",
   "execution_count": 97,
   "metadata": {
    "metadata": {}
   },
   "outputs": [
    {
     "data": {
      "text/plain": [
       "{'name': 'Set Theory',\n",
       " 'subtopics': [{'name': 'Representations of Sets', 'concepts': []},\n",
       "  {'name': 'Classifying Sets', 'concepts': []},\n",
       "  {'name': 'Set Operations: Union and Intersection', 'concepts': []},\n",
       "  {'name': 'Understanding Set Difference', 'concepts': []},\n",
       "  {'name': 'Exploring Set Complement', 'concepts': []}]}"
      ]
     },
     "execution_count": 97,
     "metadata": {},
     "output_type": "execute_result"
    }
   ],
   "source": [
    "topics = json.load(open(\"math_102_topics.json\"))\n",
    "topics = [\n",
    "    Topic(\n",
    "        name=topic[\"name\"],\n",
    "        subtopics=[Subtopic(name=subtopic) for subtopic in topic[\"subtopics\"]],\n",
    "    )\n",
    "    for topic in topics\n",
    "]\n",
    "topics[0].model_dump()"
   ]
  },
  {
   "cell_type": "code",
   "execution_count": 98,
   "metadata": {
    "metadata": {}
   },
   "outputs": [
    {
     "name": "stdout",
     "output_type": "stream",
     "text": [
      "{\n",
      "  \"name\": \"Solving Trigonometric Identities\",\n",
      "  \"concepts\": []\n",
      "}\n",
      "\n",
      "\n",
      "{\n",
      "  \"name\": \"Solving Trigonometric Identities\",\n",
      "  \"concepts\": [\n",
      "    \"Relationship between Complementary Angles in Trigonometric Identities\"\n",
      "  ]\n",
      "}\n",
      "\n",
      "\n",
      "{\n",
      "  \"name\": \"Solving Trigonometric Identities\",\n",
      "  \"concepts\": [\n",
      "    \"Relationship between Complementary Angles in Trigonometric Identities\"\n",
      "  ]\n",
      "}\n",
      "\n",
      "\n",
      "{\n",
      "  \"name\": \"Solving Trigonometric Identities\",\n",
      "  \"concepts\": [\n",
      "    \"Relationship between Complementary Angles in Trigonometric Identities\",\n",
      "    \"Simplifying Trigonometric Expressions Using Sum-to-Product Identities\"\n",
      "  ]\n",
      "}\n",
      "\n",
      "\n",
      "{\n",
      "  \"name\": \"Solving Trigonometric Identities\",\n",
      "  \"concepts\": [\n",
      "    \"Relationship between Trigonometric Functions and Their Maximum Values\",\n",
      "    \"Relationship between Complementary Angles in Trigonometric Identities\",\n",
      "    \"Simplifying Trigonometric Expressions Using Sum-to-Product Identities\"\n",
      "  ]\n",
      "}\n",
      "\n",
      "\n"
     ]
    }
   ],
   "source": [
    "subquestions_concepts = []\n",
    "for subquestion_idx, subquestion in enumerate(subquestions_w_topic_subtopic.questions):\n",
    "    topic_id, topic = next(\n",
    "        (i, topic) for i, topic in enumerate(topics) if topic.name == subquestion.topic\n",
    "    )\n",
    "    subtopic_id, subtopic = next(\n",
    "        (i, subtopic)\n",
    "        for i, subtopic in enumerate(topic.subtopics)\n",
    "        if subtopic.name == subquestion.subtopic\n",
    "    )\n",
    "    print(f\"{subtopic.model_dump_json(indent=2)}\\n\\n\")\n",
    "    concept_prompt = question_w_concept_message(concepts=subtopic.concepts)\n",
    "    subquestion_message = deindent(\n",
    "        f\"Question:\\n\\n{subquestion.model_dump_json(indent=2)}\"\n",
    "    )\n",
    "    try:\n",
    "        for attempt in Retrying(\n",
    "            wait=wait_random_exponential(min=30, max=60), stop=stop_after_attempt(3)\n",
    "        ):\n",
    "            with attempt:\n",
    "                subquestion_concept = ask_cld.create(\n",
    "                    system=concept_prompt,\n",
    "                    messages=[user_message(content=subquestion_message)],  # type: ignore\n",
    "                    max_tokens=2048,\n",
    "                    model=MODEL,\n",
    "                    response_model=Concept,  # type: ignore\n",
    "                    max_retries=1,\n",
    "                    validation_context={\"topics\": topics},\n",
    "                ).concept\n",
    "                subquestions_concepts.append(subquestion_concept)\n",
    "                subtopic.concepts.append(subquestion_concept)\n",
    "                subtopic.concepts = list(set(subtopic.concepts))\n",
    "                topics[topic_id].subtopics[subtopic_id] = subtopic\n",
    "    except RetryError as e:\n",
    "        print(f\"Failed to generate concept for subquestion: {subquestion_idx}: {e}\")\n",
    "        continue"
   ]
  },
  {
   "cell_type": "code",
   "execution_count": 100,
   "metadata": {
    "metadata": {}
   },
   "outputs": [
    {
     "data": {
      "text/plain": [
       "['Relationship between Complementary Angles in Trigonometric Identities',\n",
       " 'Relationship between Complementary Angles in Trigonometric Identities',\n",
       " 'Simplifying Trigonometric Expressions Using Sum-to-Product Identities',\n",
       " 'Relationship between Trigonometric Functions and Their Maximum Values',\n",
       " 'Relationship between Trigonometric Functions and Their Maximum Values']"
      ]
     },
     "execution_count": 100,
     "metadata": {},
     "output_type": "execute_result"
    }
   ],
   "source": [
    "subquestions_concepts"
   ]
  },
  {
   "cell_type": "code",
   "execution_count": 101,
   "metadata": {
    "metadata": {}
   },
   "outputs": [
    {
     "data": {
      "text/plain": [
       "{'id': '6349',\n",
       " 'problem': 'Let $a$ and $b$ be angles such that\\n\\\\[\\\\cos (a + b) = \\\\cos a + \\\\cos b.\\\\]Find the maximum value of $\\\\cos a.$',\n",
       " 'solution': 'From $\\\\cos (a + b) = \\\\cos a + \\\\cos b,$ $\\\\cos a = \\\\cos (a + b) - \\\\cos b.$  Then from sum-to-product,\\n\\\\[\\\\cos (a + b) - \\\\cos b = -2 \\\\sin \\\\frac{a + 2b}{2} \\\\sin \\\\frac{a}{2}.\\\\]Let $k = \\\\sin \\\\frac{a + 2b}{2},$ so\\n\\\\[\\\\cos a = -2k \\\\sin \\\\frac{a}{2}.\\\\]Then\\n\\\\[\\\\cos^2 a = 4k^2 \\\\sin^2 \\\\frac{a}{2} = 4k^2 \\\\cdot \\\\frac{1}{2} (1 - \\\\cos a) = 2k^2 (1 - \\\\cos a),\\\\]so\\n\\\\[\\\\frac{\\\\cos^2 a}{1 - \\\\cos a} = 2k^2 \\\\le 2.\\\\]Then $\\\\cos^2 a \\\\le 2 - 2 \\\\cos a,$ so\\n\\\\[\\\\cos^2 a + 2 \\\\cos a + 1 \\\\le 3.\\\\]This means $(\\\\cos a + 1)^2 \\\\le 3,$ so $\\\\cos a + 1 \\\\le \\\\sqrt{3},$ or $\\\\cos a \\\\le \\\\sqrt{3} - 1.$\\n\\nEquality occurs if we take $a = \\\\arccos (\\\\sqrt{3} - 1)$ and $b = \\\\frac{3 \\\\pi - a}{2}$ (which will make $k = \\\\sin \\\\frac{a + 2b}{2} = -1$), so the maximum value of $\\\\cos a$ is $\\\\boxed{\\\\sqrt{3} - 1}.$',\n",
       " 'topic': 'Trigonometry Essentials',\n",
       " 'subtopic': 'Solving Trigonometric Identities',\n",
       " 'subquestions': [{'id': '1',\n",
       "   'problem': 'What is the relationship between the angles a and b given in the problem?',\n",
       "   'solution': 'The problem states that $\\\\cos (a + b) = \\\\cos a + \\\\cos b$, which is a trigonometric identity. This means that the angles a and b are related in some way, and the solution will involve manipulating this identity to find the maximum value of $\\\\cos a$.',\n",
       "   'topic': 'Trigonometry Essentials',\n",
       "   'subtopic': 'Solving Trigonometric Identities',\n",
       "   'concept': 'Relationship between Complementary Angles in Trigonometric Identities'},\n",
       "  {'id': '2',\n",
       "   'problem': 'How can we express $\\\\cos a$ in terms of $\\\\cos (a + b)$ and $\\\\cos b$?',\n",
       "   'solution': 'From the given identity $\\\\cos (a + b) = \\\\cos a + \\\\cos b$, we can rearrange to get $\\\\cos a = \\\\cos (a + b) - \\\\cos b$. This will be a key step in finding the maximum value of $\\\\cos a$.',\n",
       "   'topic': 'Trigonometry Essentials',\n",
       "   'subtopic': 'Solving Trigonometric Identities',\n",
       "   'concept': 'Relationship between Complementary Angles in Trigonometric Identities'},\n",
       "  {'id': '3',\n",
       "   'problem': 'How can we use the sum-to-product identity to further simplify the expression for $\\\\cos a$?',\n",
       "   'solution': 'Using the sum-to-product identity, we can express $\\\\cos (a + b) - \\\\cos b$ as $-2 \\\\sin \\\\frac{a + 2b}{2} \\\\sin \\\\frac{a}{2}$. This allows us to rewrite $\\\\cos a$ in terms of the sines of certain angle expressions.',\n",
       "   'topic': 'Trigonometry Essentials',\n",
       "   'subtopic': 'Solving Trigonometric Identities',\n",
       "   'concept': 'Simplifying Trigonometric Expressions Using Sum-to-Product Identities'},\n",
       "  {'id': '4',\n",
       "   'problem': 'How can we relate the expression for $\\\\cos^2 a$ to the maximum value of $\\\\cos a$?',\n",
       "   'solution': 'By manipulating the expression for $\\\\cos a$ further, we can arrive at an inequality involving $\\\\cos^2 a$ and $\\\\cos a$. This inequality can then be used to determine the maximum possible value of $\\\\cos a$.',\n",
       "   'topic': 'Trigonometry Essentials',\n",
       "   'subtopic': 'Solving Trigonometric Identities',\n",
       "   'concept': 'Relationship between Trigonometric Functions and Their Maximum Values'},\n",
       "  {'id': '5',\n",
       "   'problem': 'What is the final maximum value of $\\\\cos a$ that is determined in the solution?',\n",
       "   'solution': 'The final maximum value of $\\\\cos a$ is $\\\\boxed{\\\\sqrt{3} - 1}$. This is determined by solving the inequality obtained in the previous step and finding the value of $a$ that maximizes $\\\\cos a$.',\n",
       "   'topic': 'Trigonometry Essentials',\n",
       "   'subtopic': 'Solving Trigonometric Identities',\n",
       "   'concept': 'Relationship between Trigonometric Functions and Their Maximum Values'}]}"
      ]
     },
     "execution_count": 101,
     "metadata": {},
     "output_type": "execute_result"
    }
   ],
   "source": [
    "question_w_topic_subtopic_and_concept_subquestions = (\n",
    "    QuestionWithTopicSubtopicAndConceptSubquestions.model_construct(\n",
    "        **question_w_topic_subtopic.model_dump(),\n",
    "        subquestions=[\n",
    "            QuestionWithConcept.model_construct(\n",
    "                **subquestion.model_dump(), concept=concept\n",
    "            )\n",
    "            for subquestion, concept in zip(\n",
    "                subquestions_w_topic_subtopic.questions, subquestions_concepts\n",
    "            )\n",
    "        ],\n",
    "    )\n",
    ")\n",
    "question_w_topic_subtopic_and_concept_subquestions.model_dump()"
   ]
  },
  {
   "cell_type": "code",
   "execution_count": 102,
   "metadata": {
    "metadata": {}
   },
   "outputs": [
    {
     "name": "stdout",
     "output_type": "stream",
     "text": [
      "{\n",
      "  \"name\": \"Solving Trigonometric Identities\",\n",
      "  \"concepts\": [\n",
      "    \"Relationship between Trigonometric Functions and Their Maximum Values\",\n",
      "    \"Relationship between Complementary Angles in Trigonometric Identities\",\n",
      "    \"Simplifying Trigonometric Expressions Using Sum-to-Product Identities\"\n",
      "  ]\n",
      "}\n",
      "\n",
      "\n"
     ]
    }
   ],
   "source": [
    "topic_id, topic = next(\n",
    "    (i, topic)\n",
    "    for i, topic in enumerate(topics)\n",
    "    if topic.name == question_w_topic_subtopic_and_concept_subquestions.topic\n",
    ")\n",
    "subtopic_id, subtopic = next(\n",
    "    (i, subtopic)\n",
    "    for i, subtopic in enumerate(topic.subtopics)\n",
    "    if subtopic.name == question_w_topic_subtopic_and_concept_subquestions.subtopic\n",
    ")\n",
    "subtopic.concepts = list(set(subtopic.concepts))\n",
    "print(f\"{subtopic.model_dump_json(indent=2)}\\n\\n\")"
   ]
  },
  {
   "cell_type": "code",
   "execution_count": 103,
   "metadata": {
    "metadata": {}
   },
   "outputs": [],
   "source": [
    "question_concept = ask_cld.create(\n",
    "    system=question_w_subqs_concept_message(concepts=subtopic.concepts),\n",
    "    messages=[\n",
    "        user_message(\n",
    "            f\"Question with Subquestions:\\n\\n{question_w_topic_subtopic_and_concept_subquestions.model_dump_json(indent=2)}\"  # type: ignore\n",
    "        )\n",
    "    ],\n",
    "    max_tokens=2048,\n",
    "    model=MODEL,\n",
    "    response_model=Concept,\n",
    "    max_retries=1,\n",
    "    validation_context={\"topics\": topics},\n",
    ").concept"
   ]
  },
  {
   "cell_type": "code",
   "execution_count": 104,
   "metadata": {
    "metadata": {}
   },
   "outputs": [
    {
     "data": {
      "text/plain": [
       "'Relationship between Complementary Angles in Trigonometric Identities and Simplifying Trigonometric Expressions Using Sum-to-Product Identities'"
      ]
     },
     "execution_count": 104,
     "metadata": {},
     "output_type": "execute_result"
    }
   ],
   "source": [
    "question_concept"
   ]
  },
  {
   "cell_type": "code",
   "execution_count": 105,
   "metadata": {
    "metadata": {}
   },
   "outputs": [],
   "source": [
    "subtopic.concepts.append(question_concept)\n",
    "subtopic.concepts = list(set(subtopic.concepts))\n",
    "topics[topic_id].subtopics[subtopic_id] = subtopic"
   ]
  },
  {
   "cell_type": "code",
   "execution_count": 108,
   "metadata": {
    "metadata": {}
   },
   "outputs": [],
   "source": [
    "question_w_concept_and_subquestions = (\n",
    "    QuestionWithConceptAndSubquestions.model_construct(\n",
    "        **question_w_topic_subtopic_and_concept_subquestions.model_dump(\n",
    "            exclude={\"subquestions\"}\n",
    "        ),\n",
    "        concept=question_concept,\n",
    "        subquestions=question_w_topic_subtopic_and_concept_subquestions.subquestions,\n",
    "    )\n",
    ")"
   ]
  },
  {
   "cell_type": "code",
   "execution_count": 109,
   "metadata": {
    "metadata": {}
   },
   "outputs": [
    {
     "data": {
      "text/plain": [
       "{'id': '6349',\n",
       " 'problem': 'Let $a$ and $b$ be angles such that\\n\\\\[\\\\cos (a + b) = \\\\cos a + \\\\cos b.\\\\]Find the maximum value of $\\\\cos a.$',\n",
       " 'solution': 'From $\\\\cos (a + b) = \\\\cos a + \\\\cos b,$ $\\\\cos a = \\\\cos (a + b) - \\\\cos b.$  Then from sum-to-product,\\n\\\\[\\\\cos (a + b) - \\\\cos b = -2 \\\\sin \\\\frac{a + 2b}{2} \\\\sin \\\\frac{a}{2}.\\\\]Let $k = \\\\sin \\\\frac{a + 2b}{2},$ so\\n\\\\[\\\\cos a = -2k \\\\sin \\\\frac{a}{2}.\\\\]Then\\n\\\\[\\\\cos^2 a = 4k^2 \\\\sin^2 \\\\frac{a}{2} = 4k^2 \\\\cdot \\\\frac{1}{2} (1 - \\\\cos a) = 2k^2 (1 - \\\\cos a),\\\\]so\\n\\\\[\\\\frac{\\\\cos^2 a}{1 - \\\\cos a} = 2k^2 \\\\le 2.\\\\]Then $\\\\cos^2 a \\\\le 2 - 2 \\\\cos a,$ so\\n\\\\[\\\\cos^2 a + 2 \\\\cos a + 1 \\\\le 3.\\\\]This means $(\\\\cos a + 1)^2 \\\\le 3,$ so $\\\\cos a + 1 \\\\le \\\\sqrt{3},$ or $\\\\cos a \\\\le \\\\sqrt{3} - 1.$\\n\\nEquality occurs if we take $a = \\\\arccos (\\\\sqrt{3} - 1)$ and $b = \\\\frac{3 \\\\pi - a}{2}$ (which will make $k = \\\\sin \\\\frac{a + 2b}{2} = -1$), so the maximum value of $\\\\cos a$ is $\\\\boxed{\\\\sqrt{3} - 1}.$',\n",
       " 'topic': 'Trigonometry Essentials',\n",
       " 'subtopic': 'Solving Trigonometric Identities',\n",
       " 'concept': 'Relationship between Complementary Angles in Trigonometric Identities and Simplifying Trigonometric Expressions Using Sum-to-Product Identities',\n",
       " 'subquestions': [{'id': '1',\n",
       "   'problem': 'What is the relationship between the angles a and b given in the problem?',\n",
       "   'solution': 'The problem states that $\\\\cos (a + b) = \\\\cos a + \\\\cos b$, which is a trigonometric identity. This means that the angles a and b are related in some way, and the solution will involve manipulating this identity to find the maximum value of $\\\\cos a$.',\n",
       "   'topic': 'Trigonometry Essentials',\n",
       "   'subtopic': 'Solving Trigonometric Identities',\n",
       "   'concept': 'Relationship between Complementary Angles in Trigonometric Identities'},\n",
       "  {'id': '2',\n",
       "   'problem': 'How can we express $\\\\cos a$ in terms of $\\\\cos (a + b)$ and $\\\\cos b$?',\n",
       "   'solution': 'From the given identity $\\\\cos (a + b) = \\\\cos a + \\\\cos b$, we can rearrange to get $\\\\cos a = \\\\cos (a + b) - \\\\cos b$. This will be a key step in finding the maximum value of $\\\\cos a$.',\n",
       "   'topic': 'Trigonometry Essentials',\n",
       "   'subtopic': 'Solving Trigonometric Identities',\n",
       "   'concept': 'Relationship between Complementary Angles in Trigonometric Identities'},\n",
       "  {'id': '3',\n",
       "   'problem': 'How can we use the sum-to-product identity to further simplify the expression for $\\\\cos a$?',\n",
       "   'solution': 'Using the sum-to-product identity, we can express $\\\\cos (a + b) - \\\\cos b$ as $-2 \\\\sin \\\\frac{a + 2b}{2} \\\\sin \\\\frac{a}{2}$. This allows us to rewrite $\\\\cos a$ in terms of the sines of certain angle expressions.',\n",
       "   'topic': 'Trigonometry Essentials',\n",
       "   'subtopic': 'Solving Trigonometric Identities',\n",
       "   'concept': 'Simplifying Trigonometric Expressions Using Sum-to-Product Identities'},\n",
       "  {'id': '4',\n",
       "   'problem': 'How can we relate the expression for $\\\\cos^2 a$ to the maximum value of $\\\\cos a$?',\n",
       "   'solution': 'By manipulating the expression for $\\\\cos a$ further, we can arrive at an inequality involving $\\\\cos^2 a$ and $\\\\cos a$. This inequality can then be used to determine the maximum possible value of $\\\\cos a$.',\n",
       "   'topic': 'Trigonometry Essentials',\n",
       "   'subtopic': 'Solving Trigonometric Identities',\n",
       "   'concept': 'Relationship between Trigonometric Functions and Their Maximum Values'},\n",
       "  {'id': '5',\n",
       "   'problem': 'What is the final maximum value of $\\\\cos a$ that is determined in the solution?',\n",
       "   'solution': 'The final maximum value of $\\\\cos a$ is $\\\\boxed{\\\\sqrt{3} - 1}$. This is determined by solving the inequality obtained in the previous step and finding the value of $a$ that maximizes $\\\\cos a$.',\n",
       "   'topic': 'Trigonometry Essentials',\n",
       "   'subtopic': 'Solving Trigonometric Identities',\n",
       "   'concept': 'Relationship between Trigonometric Functions and Their Maximum Values'}]}"
      ]
     },
     "execution_count": 109,
     "metadata": {},
     "output_type": "execute_result"
    }
   ],
   "source": [
    "question_w_concept_and_subquestions.model_dump()"
   ]
  },
  {
   "cell_type": "code",
   "execution_count": 110,
   "metadata": {
    "metadata": {}
   },
   "outputs": [
    {
     "data": {
      "text/plain": [
       "{'id': '6349',\n",
       " 'problem': 'Let $a$ and $b$ be angles such that\\n\\\\[\\\\cos (a + b) = \\\\cos a + \\\\cos b.\\\\]Find the maximum value of $\\\\cos a.$',\n",
       " 'solution': 'From $\\\\cos (a + b) = \\\\cos a + \\\\cos b,$ $\\\\cos a = \\\\cos (a + b) - \\\\cos b.$  Then from sum-to-product,\\n\\\\[\\\\cos (a + b) - \\\\cos b = -2 \\\\sin \\\\frac{a + 2b}{2} \\\\sin \\\\frac{a}{2}.\\\\]Let $k = \\\\sin \\\\frac{a + 2b}{2},$ so\\n\\\\[\\\\cos a = -2k \\\\sin \\\\frac{a}{2}.\\\\]Then\\n\\\\[\\\\cos^2 a = 4k^2 \\\\sin^2 \\\\frac{a}{2} = 4k^2 \\\\cdot \\\\frac{1}{2} (1 - \\\\cos a) = 2k^2 (1 - \\\\cos a),\\\\]so\\n\\\\[\\\\frac{\\\\cos^2 a}{1 - \\\\cos a} = 2k^2 \\\\le 2.\\\\]Then $\\\\cos^2 a \\\\le 2 - 2 \\\\cos a,$ so\\n\\\\[\\\\cos^2 a + 2 \\\\cos a + 1 \\\\le 3.\\\\]This means $(\\\\cos a + 1)^2 \\\\le 3,$ so $\\\\cos a + 1 \\\\le \\\\sqrt{3},$ or $\\\\cos a \\\\le \\\\sqrt{3} - 1.$\\n\\nEquality occurs if we take $a = \\\\arccos (\\\\sqrt{3} - 1)$ and $b = \\\\frac{3 \\\\pi - a}{2}$ (which will make $k = \\\\sin \\\\frac{a + 2b}{2} = -1$), so the maximum value of $\\\\cos a$ is $\\\\boxed{\\\\sqrt{3} - 1}.$',\n",
       " 'topic': 'Trigonometry Essentials',\n",
       " 'subtopic': 'Solving Trigonometric Identities',\n",
       " 'subquestions': [{'id': '1',\n",
       "   'problem': 'What is the relationship between the angles a and b given in the problem?',\n",
       "   'solution': 'The problem states that $\\\\cos (a + b) = \\\\cos a + \\\\cos b$, which is a trigonometric identity. This means that the angles a and b are related in some way, and the solution will involve manipulating this identity to find the maximum value of $\\\\cos a$.',\n",
       "   'topic': 'Trigonometry Essentials',\n",
       "   'subtopic': 'Solving Trigonometric Identities',\n",
       "   'concept': 'Relationship between Complementary Angles in Trigonometric Identities'},\n",
       "  {'id': '2',\n",
       "   'problem': 'How can we express $\\\\cos a$ in terms of $\\\\cos (a + b)$ and $\\\\cos b$?',\n",
       "   'solution': 'From the given identity $\\\\cos (a + b) = \\\\cos a + \\\\cos b$, we can rearrange to get $\\\\cos a = \\\\cos (a + b) - \\\\cos b$. This will be a key step in finding the maximum value of $\\\\cos a$.',\n",
       "   'topic': 'Trigonometry Essentials',\n",
       "   'subtopic': 'Solving Trigonometric Identities',\n",
       "   'concept': 'Relationship between Complementary Angles in Trigonometric Identities'},\n",
       "  {'id': '3',\n",
       "   'problem': 'How can we use the sum-to-product identity to further simplify the expression for $\\\\cos a$?',\n",
       "   'solution': 'Using the sum-to-product identity, we can express $\\\\cos (a + b) - \\\\cos b$ as $-2 \\\\sin \\\\frac{a + 2b}{2} \\\\sin \\\\frac{a}{2}$. This allows us to rewrite $\\\\cos a$ in terms of the sines of certain angle expressions.',\n",
       "   'topic': 'Trigonometry Essentials',\n",
       "   'subtopic': 'Solving Trigonometric Identities',\n",
       "   'concept': 'Simplifying Trigonometric Expressions Using Sum-to-Product Identities'},\n",
       "  {'id': '4',\n",
       "   'problem': 'How can we relate the expression for $\\\\cos^2 a$ to the maximum value of $\\\\cos a$?',\n",
       "   'solution': 'By manipulating the expression for $\\\\cos a$ further, we can arrive at an inequality involving $\\\\cos^2 a$ and $\\\\cos a$. This inequality can then be used to determine the maximum possible value of $\\\\cos a$.',\n",
       "   'topic': 'Trigonometry Essentials',\n",
       "   'subtopic': 'Solving Trigonometric Identities',\n",
       "   'concept': 'Relationship between Trigonometric Functions and Their Maximum Values'},\n",
       "  {'id': '5',\n",
       "   'problem': 'What is the final maximum value of $\\\\cos a$ that is determined in the solution?',\n",
       "   'solution': 'The final maximum value of $\\\\cos a$ is $\\\\boxed{\\\\sqrt{3} - 1}$. This is determined by solving the inequality obtained in the previous step and finding the value of $a$ that maximizes $\\\\cos a$.',\n",
       "   'topic': 'Trigonometry Essentials',\n",
       "   'subtopic': 'Solving Trigonometric Identities',\n",
       "   'concept': 'Relationship between Trigonometric Functions and Their Maximum Values'}]}"
      ]
     },
     "execution_count": 110,
     "metadata": {},
     "output_type": "execute_result"
    }
   ],
   "source": [
    "question_w_topic_subtopic_and_concept_subquestions.model_dump()"
   ]
  },
  {
   "cell_type": "code",
   "execution_count": null,
   "metadata": {},
   "outputs": [],
   "source": []
  }
 ],
 "metadata": {
  "kernelspec": {
   "display_name": ".venv",
   "language": "python",
   "name": "python3"
  },
  "language_info": {
   "codemirror_mode": {
    "name": "ipython",
    "version": 3
   },
   "file_extension": ".py",
   "mimetype": "text/x-python",
   "name": "python",
   "nbconvert_exporter": "python",
   "pygments_lexer": "ipython3",
   "version": "3.11.5"
  }
 },
 "nbformat": 4,
 "nbformat_minor": 2
}
