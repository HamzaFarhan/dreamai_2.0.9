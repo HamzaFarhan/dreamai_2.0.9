{
 "cells": [
  {
   "cell_type": "code",
   "execution_count": 1,
   "metadata": {
    "metadata": {}
   },
   "outputs": [
    {
     "name": "stdout",
     "output_type": "stream",
     "text": [
      "The autoreload extension is already loaded. To reload it, use:\n",
      "  %reload_ext autoreload\n"
     ]
    }
   ],
   "source": [
    "import json\n",
    "from pathlib import Path\n",
    "\n",
    "from vu_models import QUESTIONS_PER_FOLDER, Question, Topics\n",
    "\n",
    "from dreamai.ai import ModelName\n",
    "\n",
    "%load_ext autoreload\n",
    "%autoreload 2\n",
    "%reload_ext autoreload"
   ]
  },
  {
   "cell_type": "code",
   "execution_count": 2,
   "metadata": {
    "metadata": {}
   },
   "outputs": [],
   "source": [
    "# data_dir = Path(\"/media/hamza/data2/MATH/train/\")\n",
    "# questions_dir = Path(\"math_102_questions\")\n",
    "# question_id = 0\n",
    "# for folder in data_dir.iterdir():\n",
    "#     if folder.is_dir() and folder.name != \"counting_and_probability\":\n",
    "#         folder_questions = []\n",
    "#         for question_file in folder.glob(\"*.json\"):\n",
    "#             question = json.loads(question_file.read_text())\n",
    "#             if \"5\" in question[\"level\"]:\n",
    "#                 dest = questions_dir / f\"{folder.name}/{question_id}.json\"\n",
    "#                 os.makedirs(dest.parent, exist_ok=True)\n",
    "#                 with open(dest, \"w\") as f:\n",
    "#                     json.dump(\n",
    "#                         {\n",
    "#                             \"id\": str(question_id),\n",
    "#                             \"problem\": question[\"problem\"],\n",
    "#                             \"solution\": question[\"solution\"],\n",
    "#                         },\n",
    "#                         f,\n",
    "#                         indent=2,\n",
    "#                     )\n",
    "#                 question_id += 1"
   ]
  },
  {
   "cell_type": "code",
   "execution_count": 3,
   "metadata": {
    "metadata": {}
   },
   "outputs": [],
   "source": [
    "# created_topics = [\n",
    "#     create_topic(topic, model=ModelName.HAIKU, attempts=2)\n",
    "#     for topic in math_102_text.splitlines()\n",
    "# ]"
   ]
  },
  {
   "cell_type": "code",
   "execution_count": 4,
   "metadata": {
    "metadata": {}
   },
   "outputs": [],
   "source": [
    "# topics = Topics(\n",
    "#     topics={\n",
    "#         topic.name: Topic(**topic.model_dump()) for topic in created_topics if topic\n",
    "#     }\n",
    "# )"
   ]
  },
  {
   "cell_type": "code",
   "execution_count": 5,
   "metadata": {},
   "outputs": [],
   "source": [
    "# with open(\"math_102_may_1_topics.json\", \"w\") as f:\n",
    "#     json.dump(topics.model_dump(), f, indent=2)"
   ]
  },
  {
   "cell_type": "code",
   "execution_count": null,
   "metadata": {},
   "outputs": [],
   "source": []
  },
  {
   "cell_type": "code",
   "execution_count": 6,
   "metadata": {},
   "outputs": [],
   "source": [
    "questions_dir = Path(\"math_102_questions\")\n",
    "questions = {\n",
    "    json.loads(question_file.read_text())[\"id\"]: Question.model_construct(\n",
    "        **json.loads(question_file.read_text())\n",
    "    )\n",
    "    for folder in questions_dir.iterdir()\n",
    "    for question_file in list(folder.glob(\"*.json\"))[:QUESTIONS_PER_FOLDER]\n",
    "}"
   ]
  },
  {
   "cell_type": "code",
   "execution_count": 7,
   "metadata": {},
   "outputs": [],
   "source": [
    "DAY = 5\n",
    "valid_questons_file = f\"math_102_may_{DAY}_questions.json\"\n",
    "current_topcs_file = f\"math_102_may_{DAY}_topics.json\""
   ]
  },
  {
   "cell_type": "code",
   "execution_count": 8,
   "metadata": {},
   "outputs": [],
   "source": [
    "topics = Topics(**json.load(open(current_topcs_file, \"r\")))"
   ]
  },
  {
   "cell_type": "code",
   "execution_count": 9,
   "metadata": {},
   "outputs": [],
   "source": [
    "valid_questions = {\n",
    "    id: Question.model_construct(**question)\n",
    "    for id, question in json.load(open(valid_questons_file)).items()\n",
    "}"
   ]
  },
  {
   "cell_type": "code",
   "execution_count": 10,
   "metadata": {},
   "outputs": [
    {
     "name": "stdout",
     "output_type": "stream",
     "text": [
      "\n",
      "ASSIGNING GROUP for 804\n",
      "\n",
      "\n",
      "UPDATING CONCEPT QUESTIONS for 804\n",
      "\n",
      "QUESTION ID: 804\n",
      "\n",
      "CREATING SUBQUESTIONS for 804\n",
      "\n",
      "\n",
      "VALIDATING ID for 804_1\n",
      "\n",
      "\n",
      "ASSIGNING GROUP for 804_1\n",
      "\n",
      "\n",
      "UPDATING CONCEPT QUESTIONS for 804_1\n",
      "\n",
      "QUESTION ID: 804_1\n",
      "\n",
      "CREATING SUBQUESTIONS for 804_1\n",
      "\n",
      "\n",
      "VALIDATING ID for 804_1_1\n",
      "\n",
      "\n",
      "ASSIGNING GROUP for 804_1_1\n",
      "\n",
      "\n",
      "UPDATING CONCEPT QUESTIONS for 804_1_1\n",
      "\n",
      "QUESTION ID: 804_1_1\n",
      "\n",
      "CREATING SUBQUESTIONS for 804_1_1\n",
      "\n",
      "\n",
      "VALIDATING ID for 804_1_2\n",
      "\n",
      "\n",
      "ASSIGNING GROUP for 804_1_2\n",
      "\n",
      "\n",
      "UPDATING CONCEPT QUESTIONS for 804_1_2\n",
      "\n",
      "QUESTION ID: 804_1_2\n",
      "\n",
      "CREATING SUBQUESTIONS for 804_1_2\n",
      "\n",
      "\n",
      "NUMBER OF SUBQUESTIONS: 2\n",
      "\n",
      "\n",
      "VALIDATING ID for 804_2\n",
      "\n",
      "\n",
      "ASSIGNING GROUP for 804_2\n",
      "\n",
      "\n",
      "UPDATING CONCEPT QUESTIONS for 804_2\n",
      "\n",
      "QUESTION ID: 804_2\n",
      "\n",
      "CREATING SUBQUESTIONS for 804_2\n",
      "\n",
      "\n",
      "VALIDATING ID for 804_2_1\n",
      "\n",
      "\n",
      "ASSIGNING GROUP for 804_2_1\n",
      "\n",
      "\n",
      "UPDATING CONCEPT QUESTIONS for 804_2_1\n",
      "\n",
      "QUESTION ID: 804_2_1\n",
      "\n",
      "CREATING SUBQUESTIONS for 804_2_1\n",
      "\n",
      "\n",
      "VALIDATING ID for 804_2_2\n",
      "\n",
      "\n",
      "ASSIGNING GROUP for 804_2_2\n",
      "\n",
      "\n",
      "UPDATING CONCEPT QUESTIONS for 804_2_2\n",
      "\n",
      "QUESTION ID: 804_2_2\n",
      "\n",
      "CREATING SUBQUESTIONS for 804_2_2\n",
      "\n",
      "\n",
      "NUMBER OF SUBQUESTIONS: 2\n",
      "\n",
      "\n",
      "NUMBER OF SUBQUESTIONS: 2\n",
      "\n",
      "\n",
      "ASSIGNING GROUP for 467\n",
      "\n",
      "\n",
      "UPDATING CONCEPT QUESTIONS for 467\n",
      "\n",
      "QUESTION ID: 467\n",
      "\n",
      "CREATING SUBQUESTIONS for 467\n",
      "\n",
      "\n",
      "VALIDATING ID for 467_1\n",
      "\n",
      "\n",
      "ASSIGNING GROUP for 467_1\n",
      "\n",
      "\n",
      "UPDATING CONCEPT QUESTIONS for 467_1\n",
      "\n",
      "QUESTION ID: 467_1\n",
      "\n",
      "CREATING SUBQUESTIONS for 467_1\n",
      "\n",
      "\n",
      "VALIDATING ID for 467_2\n",
      "\n",
      "\n",
      "ASSIGNING GROUP for 467_2\n",
      "\n",
      "\n",
      "UPDATING CONCEPT QUESTIONS for 467_2\n",
      "\n",
      "QUESTION ID: 467_2\n",
      "\n",
      "CREATING SUBQUESTIONS for 467_2\n",
      "\n",
      "\n",
      "NUMBER OF SUBQUESTIONS: 2\n",
      "\n"
     ]
    }
   ],
   "source": [
    "counter = 0\n",
    "n_questions = 2\n",
    "for id, question in questions.items():\n",
    "    if id not in valid_questions and counter < n_questions:\n",
    "        valid_question = Question.model_validate(\n",
    "            question.model_copy(deep=True),\n",
    "            context={\n",
    "                \"topics\": topics,\n",
    "                \"questions\": valid_questions,\n",
    "                \"ask_kwargs\": {\"model\": ModelName.GPT_4, \"attempts\": 3},\n",
    "            },\n",
    "        )\n",
    "        counter += 1"
   ]
  },
  {
   "cell_type": "code",
   "execution_count": 11,
   "metadata": {},
   "outputs": [],
   "source": [
    "with open(f\"math_102_may_{DAY}_topics.json\", \"w\") as f:\n",
    "    json.dump(topics.model_dump(), f, indent=2)"
   ]
  },
  {
   "cell_type": "code",
   "execution_count": 12,
   "metadata": {},
   "outputs": [],
   "source": [
    "with open(f\"math_102_may_{DAY}_questions.json\", \"w\") as f:\n",
    "    json.dump(\n",
    "        {id: {**question.all_dump()} for id, question in valid_questions.items()},\n",
    "        f,\n",
    "        indent=2,\n",
    "    )"
   ]
  },
  {
   "cell_type": "code",
   "execution_count": 13,
   "metadata": {
    "metadata": {}
   },
   "outputs": [],
   "source": [
    "# pdf_file = \"/media/hamza/data2/algebra.pdf\"\n",
    "# collection_name = \"algebra_collection\""
   ]
  },
  {
   "cell_type": "code",
   "execution_count": 14,
   "metadata": {
    "metadata": {}
   },
   "outputs": [],
   "source": [
    "# pdf_collection = pdf_to_collection(\n",
    "#     pdf_file,\n",
    "#     collection_name=collection_name,\n",
    "#     chunk_size=4000,\n",
    "#     chunk_overlap=200,\n",
    "#     device=\"cuda\",\n",
    "#     delete_existing=True,\n",
    "# )"
   ]
  },
  {
   "cell_type": "code",
   "execution_count": 15,
   "metadata": {
    "metadata": {}
   },
   "outputs": [],
   "source": [
    "# pdf_collection = chroma_collection(name=collection_name, delete_existing=False)\n",
    "# pdf_collection.count()"
   ]
  },
  {
   "cell_type": "code",
   "execution_count": 18,
   "metadata": {},
   "outputs": [
    {
     "data": {
      "text/plain": [
       "False"
      ]
     },
     "execution_count": 18,
     "metadata": {},
     "output_type": "execute_result"
    }
   ],
   "source": [
    "None in [1,2]"
   ]
  },
  {
   "cell_type": "code",
   "execution_count": null,
   "metadata": {},
   "outputs": [],
   "source": []
  }
 ],
 "metadata": {
  "kernelspec": {
   "display_name": ".venv",
   "language": "python",
   "name": "python3"
  },
  "language_info": {
   "codemirror_mode": {
    "name": "ipython",
    "version": 3
   },
   "file_extension": ".py",
   "mimetype": "text/x-python",
   "name": "python",
   "nbconvert_exporter": "python",
   "pygments_lexer": "ipython3",
   "version": "3.11.5"
  }
 },
 "nbformat": 4,
 "nbformat_minor": 2
}
