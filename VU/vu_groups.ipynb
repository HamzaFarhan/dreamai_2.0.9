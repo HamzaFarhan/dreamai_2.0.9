{
 "cells": [
  {
   "cell_type": "code",
   "execution_count": 1,
   "metadata": {
    "metadata": {}
   },
   "outputs": [
    {
     "data": {
      "application/javascript": "(function(root) {\n  function now() {\n    return new Date();\n  }\n\n  var force = true;\n  var py_version = '3.4.1'.replace('rc', '-rc.').replace('.dev', '-dev.');\n  var reloading = false;\n  var Bokeh = root.Bokeh;\n\n  if (typeof (root._bokeh_timeout) === \"undefined\" || force) {\n    root._bokeh_timeout = Date.now() + 5000;\n    root._bokeh_failed_load = false;\n  }\n\n  function run_callbacks() {\n    try {\n      root._bokeh_onload_callbacks.forEach(function(callback) {\n        if (callback != null)\n          callback();\n      });\n    } finally {\n      delete root._bokeh_onload_callbacks;\n    }\n    console.debug(\"Bokeh: all callbacks have finished\");\n  }\n\n  function load_libs(css_urls, js_urls, js_modules, js_exports, callback) {\n    if (css_urls == null) css_urls = [];\n    if (js_urls == null) js_urls = [];\n    if (js_modules == null) js_modules = [];\n    if (js_exports == null) js_exports = {};\n\n    root._bokeh_onload_callbacks.push(callback);\n\n    if (root._bokeh_is_loading > 0) {\n      console.debug(\"Bokeh: BokehJS is being loaded, scheduling callback at\", now());\n      return null;\n    }\n    if (js_urls.length === 0 && js_modules.length === 0 && Object.keys(js_exports).length === 0) {\n      run_callbacks();\n      return null;\n    }\n    if (!reloading) {\n      console.debug(\"Bokeh: BokehJS not loaded, scheduling load and callback at\", now());\n    }\n\n    function on_load() {\n      root._bokeh_is_loading--;\n      if (root._bokeh_is_loading === 0) {\n        console.debug(\"Bokeh: all BokehJS libraries/stylesheets loaded\");\n        run_callbacks()\n      }\n    }\n    window._bokeh_on_load = on_load\n\n    function on_error() {\n      console.error(\"failed to load \" + url);\n    }\n\n    var skip = [];\n    if (window.requirejs) {\n      window.requirejs.config({'packages': {}, 'paths': {'jspanel': 'https://cdn.jsdelivr.net/npm/jspanel4@4.12.0/dist/jspanel', 'jspanel-modal': 'https://cdn.jsdelivr.net/npm/jspanel4@4.12.0/dist/extensions/modal/jspanel.modal', 'jspanel-tooltip': 'https://cdn.jsdelivr.net/npm/jspanel4@4.12.0/dist/extensions/tooltip/jspanel.tooltip', 'jspanel-hint': 'https://cdn.jsdelivr.net/npm/jspanel4@4.12.0/dist/extensions/hint/jspanel.hint', 'jspanel-layout': 'https://cdn.jsdelivr.net/npm/jspanel4@4.12.0/dist/extensions/layout/jspanel.layout', 'jspanel-contextmenu': 'https://cdn.jsdelivr.net/npm/jspanel4@4.12.0/dist/extensions/contextmenu/jspanel.contextmenu', 'jspanel-dock': 'https://cdn.jsdelivr.net/npm/jspanel4@4.12.0/dist/extensions/dock/jspanel.dock', 'gridstack': 'https://cdn.jsdelivr.net/npm/gridstack@7.2.3/dist/gridstack-all'}, 'shim': {'jspanel': {'exports': 'jsPanel'}, 'gridstack': {'exports': 'GridStack'}}});\n      require([\"jspanel\"], function(jsPanel) {\n\twindow.jsPanel = jsPanel\n\ton_load()\n      })\n      require([\"jspanel-modal\"], function() {\n\ton_load()\n      })\n      require([\"jspanel-tooltip\"], function() {\n\ton_load()\n      })\n      require([\"jspanel-hint\"], function() {\n\ton_load()\n      })\n      require([\"jspanel-layout\"], function() {\n\ton_load()\n      })\n      require([\"jspanel-contextmenu\"], function() {\n\ton_load()\n      })\n      require([\"jspanel-dock\"], function() {\n\ton_load()\n      })\n      require([\"gridstack\"], function(GridStack) {\n\twindow.GridStack = GridStack\n\ton_load()\n      })\n      root._bokeh_is_loading = css_urls.length + 8;\n    } else {\n      root._bokeh_is_loading = css_urls.length + js_urls.length + js_modules.length + Object.keys(js_exports).length;\n    }\n\n    var existing_stylesheets = []\n    var links = document.getElementsByTagName('link')\n    for (var i = 0; i < links.length; i++) {\n      var link = links[i]\n      if (link.href != null) {\n\texisting_stylesheets.push(link.href)\n      }\n    }\n    for (var i = 0; i < css_urls.length; i++) {\n      var url = css_urls[i];\n      if (existing_stylesheets.indexOf(url) !== -1) {\n\ton_load()\n\tcontinue;\n      }\n      const element = document.createElement(\"link\");\n      element.onload = on_load;\n      element.onerror = on_error;\n      element.rel = \"stylesheet\";\n      element.type = \"text/css\";\n      element.href = url;\n      console.debug(\"Bokeh: injecting link tag for BokehJS stylesheet: \", url);\n      document.body.appendChild(element);\n    }    if (((window.jsPanel !== undefined) && (!(window.jsPanel instanceof HTMLElement))) || window.requirejs) {\n      var urls = ['https://cdn.holoviz.org/panel/1.4.2/dist/bundled/floatpanel/jspanel4@4.12.0/dist/jspanel.js', 'https://cdn.holoviz.org/panel/1.4.2/dist/bundled/floatpanel/jspanel4@4.12.0/dist/extensions/modal/jspanel.modal.js', 'https://cdn.holoviz.org/panel/1.4.2/dist/bundled/floatpanel/jspanel4@4.12.0/dist/extensions/tooltip/jspanel.tooltip.js', 'https://cdn.holoviz.org/panel/1.4.2/dist/bundled/floatpanel/jspanel4@4.12.0/dist/extensions/hint/jspanel.hint.js', 'https://cdn.holoviz.org/panel/1.4.2/dist/bundled/floatpanel/jspanel4@4.12.0/dist/extensions/layout/jspanel.layout.js', 'https://cdn.holoviz.org/panel/1.4.2/dist/bundled/floatpanel/jspanel4@4.12.0/dist/extensions/contextmenu/jspanel.contextmenu.js', 'https://cdn.holoviz.org/panel/1.4.2/dist/bundled/floatpanel/jspanel4@4.12.0/dist/extensions/dock/jspanel.dock.js'];\n      for (var i = 0; i < urls.length; i++) {\n        skip.push(urls[i])\n      }\n    }    if (((window.GridStack !== undefined) && (!(window.GridStack instanceof HTMLElement))) || window.requirejs) {\n      var urls = ['https://cdn.holoviz.org/panel/1.4.2/dist/bundled/gridstack/gridstack@7.2.3/dist/gridstack-all.js'];\n      for (var i = 0; i < urls.length; i++) {\n        skip.push(urls[i])\n      }\n    }    var existing_scripts = []\n    var scripts = document.getElementsByTagName('script')\n    for (var i = 0; i < scripts.length; i++) {\n      var script = scripts[i]\n      if (script.src != null) {\n\texisting_scripts.push(script.src)\n      }\n    }\n    for (var i = 0; i < js_urls.length; i++) {\n      var url = js_urls[i];\n      if (skip.indexOf(url) !== -1 || existing_scripts.indexOf(url) !== -1) {\n\tif (!window.requirejs) {\n\t  on_load();\n\t}\n\tcontinue;\n      }\n      var element = document.createElement('script');\n      element.onload = on_load;\n      element.onerror = on_error;\n      element.async = false;\n      element.src = url;\n      console.debug(\"Bokeh: injecting script tag for BokehJS library: \", url);\n      document.head.appendChild(element);\n    }\n    for (var i = 0; i < js_modules.length; i++) {\n      var url = js_modules[i];\n      if (skip.indexOf(url) !== -1 || existing_scripts.indexOf(url) !== -1) {\n\tif (!window.requirejs) {\n\t  on_load();\n\t}\n\tcontinue;\n      }\n      var element = document.createElement('script');\n      element.onload = on_load;\n      element.onerror = on_error;\n      element.async = false;\n      element.src = url;\n      element.type = \"module\";\n      console.debug(\"Bokeh: injecting script tag for BokehJS library: \", url);\n      document.head.appendChild(element);\n    }\n    for (const name in js_exports) {\n      var url = js_exports[name];\n      if (skip.indexOf(url) >= 0 || root[name] != null) {\n\tif (!window.requirejs) {\n\t  on_load();\n\t}\n\tcontinue;\n      }\n      var element = document.createElement('script');\n      element.onerror = on_error;\n      element.async = false;\n      element.type = \"module\";\n      console.debug(\"Bokeh: injecting script tag for BokehJS library: \", url);\n      element.textContent = `\n      import ${name} from \"${url}\"\n      window.${name} = ${name}\n      window._bokeh_on_load()\n      `\n      document.head.appendChild(element);\n    }\n    if (!js_urls.length && !js_modules.length) {\n      on_load()\n    }\n  };\n\n  function inject_raw_css(css) {\n    const element = document.createElement(\"style\");\n    element.appendChild(document.createTextNode(css));\n    document.body.appendChild(element);\n  }\n\n  var js_urls = [\"https://cdn.bokeh.org/bokeh/release/bokeh-3.4.1.min.js\", \"https://cdn.bokeh.org/bokeh/release/bokeh-gl-3.4.1.min.js\", \"https://cdn.bokeh.org/bokeh/release/bokeh-widgets-3.4.1.min.js\", \"https://cdn.bokeh.org/bokeh/release/bokeh-tables-3.4.1.min.js\", \"https://cdn.holoviz.org/panel/1.4.2/dist/bundled/floatpanel/jspanel4@4.12.0/dist/jspanel.js\", \"https://cdn.holoviz.org/panel/1.4.2/dist/bundled/floatpanel/jspanel4@4.12.0/dist/extensions/modal/jspanel.modal.js\", \"https://cdn.holoviz.org/panel/1.4.2/dist/bundled/floatpanel/jspanel4@4.12.0/dist/extensions/tooltip/jspanel.tooltip.js\", \"https://cdn.holoviz.org/panel/1.4.2/dist/bundled/floatpanel/jspanel4@4.12.0/dist/extensions/hint/jspanel.hint.js\", \"https://cdn.holoviz.org/panel/1.4.2/dist/bundled/floatpanel/jspanel4@4.12.0/dist/extensions/layout/jspanel.layout.js\", \"https://cdn.holoviz.org/panel/1.4.2/dist/bundled/floatpanel/jspanel4@4.12.0/dist/extensions/contextmenu/jspanel.contextmenu.js\", \"https://cdn.holoviz.org/panel/1.4.2/dist/bundled/floatpanel/jspanel4@4.12.0/dist/extensions/dock/jspanel.dock.js\", \"https://cdn.holoviz.org/panel/1.4.2/dist/bundled/gridstack/gridstack@7.2.3/dist/gridstack-all.js\", \"https://cdn.holoviz.org/panel/1.4.2/dist/panel.min.js\"];\n  var js_modules = [];\n  var js_exports = {};\n  var css_urls = [\"https://cdn.holoviz.org/panel/1.4.2/dist/bundled/floatpanel/jspanel4@4.12.0/dist/jspanel.css?v=1.4.2\", \"https://cdn.holoviz.org/panel/1.4.2/dist/bundled/gridstack/gridstack@7.2.3/dist/gridstack.min.css?v=1.4.2\", \"https://cdn.holoviz.org/panel/1.4.2/dist/bundled/gridstack/gridstack@7.2.3/dist/gridstack-extra.min.css?v=1.4.2\"];\n  var inline_js = [    function(Bokeh) {\n      Bokeh.set_log_level(\"info\");\n    },\nfunction(Bokeh) {} // ensure no trailing comma for IE\n  ];\n\n  function run_inline_js() {\n    if ((root.Bokeh !== undefined) || (force === true)) {\n      for (var i = 0; i < inline_js.length; i++) {\n\ttry {\n          inline_js[i].call(root, root.Bokeh);\n\t} catch(e) {\n\t  if (!reloading) {\n\t    throw e;\n\t  }\n\t}\n      }\n      // Cache old bokeh versions\n      if (Bokeh != undefined && !reloading) {\n\tvar NewBokeh = root.Bokeh;\n\tif (Bokeh.versions === undefined) {\n\t  Bokeh.versions = new Map();\n\t}\n\tif (NewBokeh.version !== Bokeh.version) {\n\t  Bokeh.versions.set(NewBokeh.version, NewBokeh)\n\t}\n\troot.Bokeh = Bokeh;\n      }} else if (Date.now() < root._bokeh_timeout) {\n      setTimeout(run_inline_js, 100);\n    } else if (!root._bokeh_failed_load) {\n      console.log(\"Bokeh: BokehJS failed to load within specified timeout.\");\n      root._bokeh_failed_load = true;\n    }\n    root._bokeh_is_initializing = false\n  }\n\n  function load_or_wait() {\n    // Implement a backoff loop that tries to ensure we do not load multiple\n    // versions of Bokeh and its dependencies at the same time.\n    // In recent versions we use the root._bokeh_is_initializing flag\n    // to determine whether there is an ongoing attempt to initialize\n    // bokeh, however for backward compatibility we also try to ensure\n    // that we do not start loading a newer (Panel>=1.0 and Bokeh>3) version\n    // before older versions are fully initialized.\n    if (root._bokeh_is_initializing && Date.now() > root._bokeh_timeout) {\n      root._bokeh_is_initializing = false;\n      root._bokeh_onload_callbacks = undefined;\n      console.log(\"Bokeh: BokehJS was loaded multiple times but one version failed to initialize.\");\n      load_or_wait();\n    } else if (root._bokeh_is_initializing || (typeof root._bokeh_is_initializing === \"undefined\" && root._bokeh_onload_callbacks !== undefined)) {\n      setTimeout(load_or_wait, 100);\n    } else {\n      root._bokeh_is_initializing = true\n      root._bokeh_onload_callbacks = []\n      var bokeh_loaded = Bokeh != null && (Bokeh.version === py_version || (Bokeh.versions !== undefined && Bokeh.versions.has(py_version)));\n      if (!reloading && !bokeh_loaded) {\n\troot.Bokeh = undefined;\n      }\n      load_libs(css_urls, js_urls, js_modules, js_exports, function() {\n\tconsole.debug(\"Bokeh: BokehJS plotting callback run at\", now());\n\trun_inline_js();\n      });\n    }\n  }\n  // Give older versions of the autoload script a head-start to ensure\n  // they initialize before we start loading newer version.\n  setTimeout(load_or_wait, 100)\n}(window));",
      "application/vnd.holoviews_load.v0+json": ""
     },
     "metadata": {},
     "output_type": "display_data"
    },
    {
     "data": {
      "application/javascript": "\nif ((window.PyViz === undefined) || (window.PyViz instanceof HTMLElement)) {\n  window.PyViz = {comms: {}, comm_status:{}, kernels:{}, receivers: {}, plot_index: []}\n}\n\n\n    function JupyterCommManager() {\n    }\n\n    JupyterCommManager.prototype.register_target = function(plot_id, comm_id, msg_handler) {\n      if (window.comm_manager || ((window.Jupyter !== undefined) && (Jupyter.notebook.kernel != null))) {\n        var comm_manager = window.comm_manager || Jupyter.notebook.kernel.comm_manager;\n        comm_manager.register_target(comm_id, function(comm) {\n          comm.on_msg(msg_handler);\n        });\n      } else if ((plot_id in window.PyViz.kernels) && (window.PyViz.kernels[plot_id])) {\n        window.PyViz.kernels[plot_id].registerCommTarget(comm_id, function(comm) {\n          comm.onMsg = msg_handler;\n        });\n      } else if (typeof google != 'undefined' && google.colab.kernel != null) {\n        google.colab.kernel.comms.registerTarget(comm_id, (comm) => {\n          var messages = comm.messages[Symbol.asyncIterator]();\n          function processIteratorResult(result) {\n            var message = result.value;\n            console.log(message)\n            var content = {data: message.data, comm_id};\n            var buffers = []\n            for (var buffer of message.buffers || []) {\n              buffers.push(new DataView(buffer))\n            }\n            var metadata = message.metadata || {};\n            var msg = {content, buffers, metadata}\n            msg_handler(msg);\n            return messages.next().then(processIteratorResult);\n          }\n          return messages.next().then(processIteratorResult);\n        })\n      }\n    }\n\n    JupyterCommManager.prototype.get_client_comm = function(plot_id, comm_id, msg_handler) {\n      if (comm_id in window.PyViz.comms) {\n        return window.PyViz.comms[comm_id];\n      } else if (window.comm_manager || ((window.Jupyter !== undefined) && (Jupyter.notebook.kernel != null))) {\n        var comm_manager = window.comm_manager || Jupyter.notebook.kernel.comm_manager;\n        var comm = comm_manager.new_comm(comm_id, {}, {}, {}, comm_id);\n        if (msg_handler) {\n          comm.on_msg(msg_handler);\n        }\n      } else if ((plot_id in window.PyViz.kernels) && (window.PyViz.kernels[plot_id])) {\n        var comm = window.PyViz.kernels[plot_id].connectToComm(comm_id);\n        comm.open();\n        if (msg_handler) {\n          comm.onMsg = msg_handler;\n        }\n      } else if (typeof google != 'undefined' && google.colab.kernel != null) {\n        var comm_promise = google.colab.kernel.comms.open(comm_id)\n        comm_promise.then((comm) => {\n          window.PyViz.comms[comm_id] = comm;\n          if (msg_handler) {\n            var messages = comm.messages[Symbol.asyncIterator]();\n            function processIteratorResult(result) {\n              var message = result.value;\n              var content = {data: message.data};\n              var metadata = message.metadata || {comm_id};\n              var msg = {content, metadata}\n              msg_handler(msg);\n              return messages.next().then(processIteratorResult);\n            }\n            return messages.next().then(processIteratorResult);\n          }\n        }) \n        var sendClosure = (data, metadata, buffers, disposeOnDone) => {\n          return comm_promise.then((comm) => {\n            comm.send(data, metadata, buffers, disposeOnDone);\n          });\n        };\n        var comm = {\n          send: sendClosure\n        };\n      }\n      window.PyViz.comms[comm_id] = comm;\n      return comm;\n    }\n    window.PyViz.comm_manager = new JupyterCommManager();\n    \n\n\nvar JS_MIME_TYPE = 'application/javascript';\nvar HTML_MIME_TYPE = 'text/html';\nvar EXEC_MIME_TYPE = 'application/vnd.holoviews_exec.v0+json';\nvar CLASS_NAME = 'output';\n\n/**\n * Render data to the DOM node\n */\nfunction render(props, node) {\n  var div = document.createElement(\"div\");\n  var script = document.createElement(\"script\");\n  node.appendChild(div);\n  node.appendChild(script);\n}\n\n/**\n * Handle when a new output is added\n */\nfunction handle_add_output(event, handle) {\n  var output_area = handle.output_area;\n  var output = handle.output;\n  if ((output.data == undefined) || (!output.data.hasOwnProperty(EXEC_MIME_TYPE))) {\n    return\n  }\n  var id = output.metadata[EXEC_MIME_TYPE][\"id\"];\n  var toinsert = output_area.element.find(\".\" + CLASS_NAME.split(' ')[0]);\n  if (id !== undefined) {\n    var nchildren = toinsert.length;\n    var html_node = toinsert[nchildren-1].children[0];\n    html_node.innerHTML = output.data[HTML_MIME_TYPE];\n    var scripts = [];\n    var nodelist = html_node.querySelectorAll(\"script\");\n    for (var i in nodelist) {\n      if (nodelist.hasOwnProperty(i)) {\n        scripts.push(nodelist[i])\n      }\n    }\n\n    scripts.forEach( function (oldScript) {\n      var newScript = document.createElement(\"script\");\n      var attrs = [];\n      var nodemap = oldScript.attributes;\n      for (var j in nodemap) {\n        if (nodemap.hasOwnProperty(j)) {\n          attrs.push(nodemap[j])\n        }\n      }\n      attrs.forEach(function(attr) { newScript.setAttribute(attr.name, attr.value) });\n      newScript.appendChild(document.createTextNode(oldScript.innerHTML));\n      oldScript.parentNode.replaceChild(newScript, oldScript);\n    });\n    if (JS_MIME_TYPE in output.data) {\n      toinsert[nchildren-1].children[1].textContent = output.data[JS_MIME_TYPE];\n    }\n    output_area._hv_plot_id = id;\n    if ((window.Bokeh !== undefined) && (id in Bokeh.index)) {\n      window.PyViz.plot_index[id] = Bokeh.index[id];\n    } else {\n      window.PyViz.plot_index[id] = null;\n    }\n  } else if (output.metadata[EXEC_MIME_TYPE][\"server_id\"] !== undefined) {\n    var bk_div = document.createElement(\"div\");\n    bk_div.innerHTML = output.data[HTML_MIME_TYPE];\n    var script_attrs = bk_div.children[0].attributes;\n    for (var i = 0; i < script_attrs.length; i++) {\n      toinsert[toinsert.length - 1].childNodes[1].setAttribute(script_attrs[i].name, script_attrs[i].value);\n    }\n    // store reference to server id on output_area\n    output_area._bokeh_server_id = output.metadata[EXEC_MIME_TYPE][\"server_id\"];\n  }\n}\n\n/**\n * Handle when an output is cleared or removed\n */\nfunction handle_clear_output(event, handle) {\n  var id = handle.cell.output_area._hv_plot_id;\n  var server_id = handle.cell.output_area._bokeh_server_id;\n  if (((id === undefined) || !(id in PyViz.plot_index)) && (server_id !== undefined)) { return; }\n  var comm = window.PyViz.comm_manager.get_client_comm(\"hv-extension-comm\", \"hv-extension-comm\", function () {});\n  if (server_id !== null) {\n    comm.send({event_type: 'server_delete', 'id': server_id});\n    return;\n  } else if (comm !== null) {\n    comm.send({event_type: 'delete', 'id': id});\n  }\n  delete PyViz.plot_index[id];\n  if ((window.Bokeh !== undefined) & (id in window.Bokeh.index)) {\n    var doc = window.Bokeh.index[id].model.document\n    doc.clear();\n    const i = window.Bokeh.documents.indexOf(doc);\n    if (i > -1) {\n      window.Bokeh.documents.splice(i, 1);\n    }\n  }\n}\n\n/**\n * Handle kernel restart event\n */\nfunction handle_kernel_cleanup(event, handle) {\n  delete PyViz.comms[\"hv-extension-comm\"];\n  window.PyViz.plot_index = {}\n}\n\n/**\n * Handle update_display_data messages\n */\nfunction handle_update_output(event, handle) {\n  handle_clear_output(event, {cell: {output_area: handle.output_area}})\n  handle_add_output(event, handle)\n}\n\nfunction register_renderer(events, OutputArea) {\n  function append_mime(data, metadata, element) {\n    // create a DOM node to render to\n    var toinsert = this.create_output_subarea(\n    metadata,\n    CLASS_NAME,\n    EXEC_MIME_TYPE\n    );\n    this.keyboard_manager.register_events(toinsert);\n    // Render to node\n    var props = {data: data, metadata: metadata[EXEC_MIME_TYPE]};\n    render(props, toinsert[0]);\n    element.append(toinsert);\n    return toinsert\n  }\n\n  events.on('output_added.OutputArea', handle_add_output);\n  events.on('output_updated.OutputArea', handle_update_output);\n  events.on('clear_output.CodeCell', handle_clear_output);\n  events.on('delete.Cell', handle_clear_output);\n  events.on('kernel_ready.Kernel', handle_kernel_cleanup);\n\n  OutputArea.prototype.register_mime_type(EXEC_MIME_TYPE, append_mime, {\n    safe: true,\n    index: 0\n  });\n}\n\nif (window.Jupyter !== undefined) {\n  try {\n    var events = require('base/js/events');\n    var OutputArea = require('notebook/js/outputarea').OutputArea;\n    if (OutputArea.prototype.mime_types().indexOf(EXEC_MIME_TYPE) == -1) {\n      register_renderer(events, OutputArea);\n    }\n  } catch(err) {\n  }\n}\n",
      "application/vnd.holoviews_load.v0+json": ""
     },
     "metadata": {},
     "output_type": "display_data"
    },
    {
     "data": {
      "text/html": [
       "<style>*[data-root-id],\n",
       "*[data-root-id] > * {\n",
       "  box-sizing: border-box;\n",
       "  font-family: var(--jp-ui-font-family);\n",
       "  font-size: var(--jp-ui-font-size1);\n",
       "  color: var(--vscode-editor-foreground, var(--jp-ui-font-color1));\n",
       "}\n",
       "\n",
       "/* Override VSCode background color */\n",
       ".cell-output-ipywidget-background:has(\n",
       "    > .cell-output-ipywidget-background > .lm-Widget > *[data-root-id]\n",
       "  ),\n",
       ".cell-output-ipywidget-background:has(> .lm-Widget > *[data-root-id]) {\n",
       "  background-color: transparent !important;\n",
       "}\n",
       "</style>"
      ]
     },
     "metadata": {},
     "output_type": "display_data"
    },
    {
     "data": {
      "application/vnd.holoviews_exec.v0+json": "",
      "text/html": [
       "<div id='e344625c-e9e1-45fa-846a-fa2d6e588612'>\n",
       "  <div id=\"d17f1ec4-8701-4290-a972-534d6c8d7254\" data-root-id=\"e344625c-e9e1-45fa-846a-fa2d6e588612\" style=\"display: contents;\"></div>\n",
       "</div>\n",
       "<script type=\"application/javascript\">(function(root) {\n",
       "  var docs_json = {\"316033ea-fa4f-4120-927e-764f4c48f372\":{\"version\":\"3.4.1\",\"title\":\"Bokeh Application\",\"roots\":[{\"type\":\"object\",\"name\":\"panel.models.browser.BrowserInfo\",\"id\":\"e344625c-e9e1-45fa-846a-fa2d6e588612\"},{\"type\":\"object\",\"name\":\"panel.models.comm_manager.CommManager\",\"id\":\"9ec0b248-bac0-4440-aa90-5bdf0bab4432\",\"attributes\":{\"plot_id\":\"e344625c-e9e1-45fa-846a-fa2d6e588612\",\"comm_id\":\"8c2abbd70dab46d3931e151c0dae8d02\",\"client_comm_id\":\"1f9c19228e144ce59b7f4414262dd4a2\"}}],\"defs\":[{\"type\":\"model\",\"name\":\"ReactiveHTML1\"},{\"type\":\"model\",\"name\":\"FlexBox1\",\"properties\":[{\"name\":\"align_content\",\"kind\":\"Any\",\"default\":\"flex-start\"},{\"name\":\"align_items\",\"kind\":\"Any\",\"default\":\"flex-start\"},{\"name\":\"flex_direction\",\"kind\":\"Any\",\"default\":\"row\"},{\"name\":\"flex_wrap\",\"kind\":\"Any\",\"default\":\"wrap\"},{\"name\":\"gap\",\"kind\":\"Any\",\"default\":\"\"},{\"name\":\"justify_content\",\"kind\":\"Any\",\"default\":\"flex-start\"}]},{\"type\":\"model\",\"name\":\"FloatPanel1\",\"properties\":[{\"name\":\"config\",\"kind\":\"Any\",\"default\":{\"type\":\"map\"}},{\"name\":\"contained\",\"kind\":\"Any\",\"default\":true},{\"name\":\"position\",\"kind\":\"Any\",\"default\":\"right-top\"},{\"name\":\"offsetx\",\"kind\":\"Any\",\"default\":null},{\"name\":\"offsety\",\"kind\":\"Any\",\"default\":null},{\"name\":\"theme\",\"kind\":\"Any\",\"default\":\"primary\"},{\"name\":\"status\",\"kind\":\"Any\",\"default\":\"normalized\"}]},{\"type\":\"model\",\"name\":\"GridStack1\",\"properties\":[{\"name\":\"mode\",\"kind\":\"Any\",\"default\":\"warn\"},{\"name\":\"ncols\",\"kind\":\"Any\",\"default\":null},{\"name\":\"nrows\",\"kind\":\"Any\",\"default\":null},{\"name\":\"allow_resize\",\"kind\":\"Any\",\"default\":true},{\"name\":\"allow_drag\",\"kind\":\"Any\",\"default\":true},{\"name\":\"state\",\"kind\":\"Any\",\"default\":[]}]},{\"type\":\"model\",\"name\":\"drag1\",\"properties\":[{\"name\":\"slider_width\",\"kind\":\"Any\",\"default\":5},{\"name\":\"slider_color\",\"kind\":\"Any\",\"default\":\"black\"},{\"name\":\"value\",\"kind\":\"Any\",\"default\":50}]},{\"type\":\"model\",\"name\":\"click1\",\"properties\":[{\"name\":\"terminal_output\",\"kind\":\"Any\",\"default\":\"\"},{\"name\":\"debug_name\",\"kind\":\"Any\",\"default\":\"\"},{\"name\":\"clears\",\"kind\":\"Any\",\"default\":0}]},{\"type\":\"model\",\"name\":\"FastWrapper1\",\"properties\":[{\"name\":\"object\",\"kind\":\"Any\",\"default\":null},{\"name\":\"style\",\"kind\":\"Any\",\"default\":null}]},{\"type\":\"model\",\"name\":\"NotificationAreaBase1\",\"properties\":[{\"name\":\"js_events\",\"kind\":\"Any\",\"default\":{\"type\":\"map\"}},{\"name\":\"position\",\"kind\":\"Any\",\"default\":\"bottom-right\"},{\"name\":\"_clear\",\"kind\":\"Any\",\"default\":0}]},{\"type\":\"model\",\"name\":\"NotificationArea1\",\"properties\":[{\"name\":\"js_events\",\"kind\":\"Any\",\"default\":{\"type\":\"map\"}},{\"name\":\"notifications\",\"kind\":\"Any\",\"default\":[]},{\"name\":\"position\",\"kind\":\"Any\",\"default\":\"bottom-right\"},{\"name\":\"_clear\",\"kind\":\"Any\",\"default\":0},{\"name\":\"types\",\"kind\":\"Any\",\"default\":[{\"type\":\"map\",\"entries\":[[\"type\",\"warning\"],[\"background\",\"#ffc107\"],[\"icon\",{\"type\":\"map\",\"entries\":[[\"className\",\"fas fa-exclamation-triangle\"],[\"tagName\",\"i\"],[\"color\",\"white\"]]}]]},{\"type\":\"map\",\"entries\":[[\"type\",\"info\"],[\"background\",\"#007bff\"],[\"icon\",{\"type\":\"map\",\"entries\":[[\"className\",\"fas fa-info-circle\"],[\"tagName\",\"i\"],[\"color\",\"white\"]]}]]}]}]},{\"type\":\"model\",\"name\":\"Notification\",\"properties\":[{\"name\":\"background\",\"kind\":\"Any\",\"default\":null},{\"name\":\"duration\",\"kind\":\"Any\",\"default\":3000},{\"name\":\"icon\",\"kind\":\"Any\",\"default\":null},{\"name\":\"message\",\"kind\":\"Any\",\"default\":\"\"},{\"name\":\"notification_type\",\"kind\":\"Any\",\"default\":null},{\"name\":\"_destroyed\",\"kind\":\"Any\",\"default\":false}]},{\"type\":\"model\",\"name\":\"TemplateActions1\",\"properties\":[{\"name\":\"open_modal\",\"kind\":\"Any\",\"default\":0},{\"name\":\"close_modal\",\"kind\":\"Any\",\"default\":0}]},{\"type\":\"model\",\"name\":\"BootstrapTemplateActions1\",\"properties\":[{\"name\":\"open_modal\",\"kind\":\"Any\",\"default\":0},{\"name\":\"close_modal\",\"kind\":\"Any\",\"default\":0}]},{\"type\":\"model\",\"name\":\"TemplateEditor1\",\"properties\":[{\"name\":\"layout\",\"kind\":\"Any\",\"default\":[]}]},{\"type\":\"model\",\"name\":\"MaterialTemplateActions1\",\"properties\":[{\"name\":\"open_modal\",\"kind\":\"Any\",\"default\":0},{\"name\":\"close_modal\",\"kind\":\"Any\",\"default\":0}]},{\"type\":\"model\",\"name\":\"copy_to_clipboard1\",\"properties\":[{\"name\":\"fill\",\"kind\":\"Any\",\"default\":\"none\"},{\"name\":\"value\",\"kind\":\"Any\",\"default\":null}]}]}};\n",
       "  var render_items = [{\"docid\":\"316033ea-fa4f-4120-927e-764f4c48f372\",\"roots\":{\"e344625c-e9e1-45fa-846a-fa2d6e588612\":\"d17f1ec4-8701-4290-a972-534d6c8d7254\"},\"root_ids\":[\"e344625c-e9e1-45fa-846a-fa2d6e588612\"]}];\n",
       "  var docs = Object.values(docs_json)\n",
       "  if (!docs) {\n",
       "    return\n",
       "  }\n",
       "  const py_version = docs[0].version.replace('rc', '-rc.').replace('.dev', '-dev.')\n",
       "  function embed_document(root) {\n",
       "    var Bokeh = get_bokeh(root)\n",
       "    Bokeh.embed.embed_items_notebook(docs_json, render_items);\n",
       "    for (const render_item of render_items) {\n",
       "      for (const root_id of render_item.root_ids) {\n",
       "\tconst id_el = document.getElementById(root_id)\n",
       "\tif (id_el.children.length && (id_el.children[0].className === 'bk-root')) {\n",
       "\t  const root_el = id_el.children[0]\n",
       "\t  root_el.id = root_el.id + '-rendered'\n",
       "\t}\n",
       "      }\n",
       "    }\n",
       "  }\n",
       "  function get_bokeh(root) {\n",
       "    if (root.Bokeh === undefined) {\n",
       "      return null\n",
       "    } else if (root.Bokeh.version !== py_version) {\n",
       "      if (root.Bokeh.versions === undefined || !root.Bokeh.versions.has(py_version)) {\n",
       "\treturn null\n",
       "      }\n",
       "      return root.Bokeh.versions.get(py_version);\n",
       "    } else if (root.Bokeh.version === py_version) {\n",
       "      return root.Bokeh\n",
       "    }\n",
       "    return null\n",
       "  }\n",
       "  function is_loaded(root) {\n",
       "    var Bokeh = get_bokeh(root)\n",
       "    return (Bokeh != null && Bokeh.Panel !== undefined && ( root.jsPanel !== undefined) && ( root.GridStack !== undefined))\n",
       "  }\n",
       "  if (is_loaded(root)) {\n",
       "    embed_document(root);\n",
       "  } else {\n",
       "    var attempts = 0;\n",
       "    var timer = setInterval(function(root) {\n",
       "      if (is_loaded(root)) {\n",
       "        clearInterval(timer);\n",
       "        embed_document(root);\n",
       "      } else if (document.readyState == \"complete\") {\n",
       "        attempts++;\n",
       "        if (attempts > 200) {\n",
       "          clearInterval(timer);\n",
       "\t  var Bokeh = get_bokeh(root)\n",
       "\t  if (Bokeh == null || Bokeh.Panel == null) {\n",
       "            console.warn(\"Panel: ERROR: Unable to run Panel code because Bokeh or Panel library is missing\");\n",
       "\t  } else {\n",
       "\t    console.warn(\"Panel: WARNING: Attempting to render but not all required libraries could be resolved.\")\n",
       "\t    embed_document(root)\n",
       "\t  }\n",
       "        }\n",
       "      }\n",
       "    }, 25, root)\n",
       "  }\n",
       "})(window);</script>"
      ]
     },
     "metadata": {
      "application/vnd.holoviews_exec.v0+json": {
       "id": "e344625c-e9e1-45fa-846a-fa2d6e588612"
      }
     },
     "output_type": "display_data"
    },
    {
     "name": "stdout",
     "output_type": "stream",
     "text": [
      "The autoreload extension is already loaded. To reload it, use:\n",
      "  %reload_ext autoreload\n"
     ]
    }
   ],
   "source": [
    "import json\n",
    "from collections import OrderedDict, defaultdict\n",
    "from pathlib import Path\n",
    "from typing import Union, Literal\n",
    "\n",
    "import panel as pn\n",
    "from pydantic import BaseModel, Field\n",
    "from vu_models import ATTEMPTS, MAX_TOKENS, MODEL, QUESTIONS_PER_FOLDER, create_topic\n",
    "from vu_models import Question as Question2\n",
    "from vu_models import Topic as Topic2\n",
    "from vu_models import Topics as Topics2\n",
    "\n",
    "from dreamai.ai import ModelName\n",
    "\n",
    "pn.extension(\"floatpanel\", \"gridstack\", sizing_mode=\"stretch_both\")  # type: ignore\n",
    "\n",
    "\n",
    "%load_ext autoreload\n",
    "%autoreload 2\n",
    "%reload_ext autoreload"
   ]
  },
  {
   "cell_type": "code",
   "execution_count": 2,
   "metadata": {},
   "outputs": [],
   "source": [
    "STR_ATTRS = [\"topic\", \"subtopic\", \"concept\", \"question_number\"]\n",
    "\n",
    "\n",
    "class Node(BaseModel):\n",
    "    topic: str\n",
    "    prerequisite_ids: list[str] = Field(default_factory=list)\n",
    "    postrequisite_ids: list[str] = Field(default_factory=list)\n",
    "\n",
    "    @property\n",
    "    def id(self) -> str:\n",
    "        id = \"\"\n",
    "        for i, attr in enumerate(STR_ATTRS):\n",
    "            if hasattr(self, attr):\n",
    "                if i == 0:\n",
    "                    id += getattr(self, attr)\n",
    "                else:\n",
    "                    id += f\"_{getattr(self, attr)}\"\n",
    "        return id\n",
    "\n",
    "    def __str__(self) -> str:\n",
    "        node_str = f\"<id>\\n{self.id}\\n</id>\"\n",
    "        for attr in STR_ATTRS:\n",
    "            if hasattr(self, attr):\n",
    "                node_str += f\"\\n\\n<{attr}>\\n{getattr(self, attr).title()}\\n</{attr}>\"\n",
    "        return node_str.strip()\n",
    "\n",
    "    def add_prerequisite_id(self, id: str):\n",
    "        if id == self.id:\n",
    "            return\n",
    "        prerequisite_ids = set(self.prerequisite_ids)\n",
    "        prerequisite_ids.add(id)\n",
    "        self.prerequisite_ids = list(prerequisite_ids)\n",
    "\n",
    "    def add_postrequisite_id(self, id: str):\n",
    "        if id == self.id:\n",
    "            return\n",
    "        postrequisite_ids = set(self.postrequisite_ids)\n",
    "        postrequisite_ids.add(id)\n",
    "        self.postrequisite_ids = list(postrequisite_ids)\n",
    "\n",
    "\n",
    "class Topic(Node):\n",
    "    subtopics: dict[str, \"Subtopic\"] = Field(default_factory=OrderedDict)\n",
    "\n",
    "    def get(self, id: str) -> Node | None:\n",
    "        split_id = id.split(\"_\")\n",
    "        if len(split_id) == 1:\n",
    "            return self\n",
    "        elif len(split_id) == 2:\n",
    "            return self.subtopics[id]\n",
    "        elif len(split_id) == 3:\n",
    "            return self.subtopics[\"_\".join(split_id[:2])].concepts[id]\n",
    "        elif len(split_id) == 4:\n",
    "            return (\n",
    "                self.subtopics[\"_\".join(split_id[:2])]\n",
    "                .concepts[\"_\".join(split_id[:3])]\n",
    "                .questions[id]\n",
    "            )\n",
    "        print(f\"ID {id} not found\")\n",
    "        return None\n",
    "\n",
    "    def add_subtopics(\n",
    "        self,\n",
    "        subtopics: Union[list[Union[\"Subtopic\", str]], \"Subtopic\", str] | None = None,\n",
    "    ):\n",
    "        if subtopics is None or subtopics == [] or subtopics == \"\":\n",
    "            return\n",
    "        if not isinstance(subtopics, list):\n",
    "            subtopics = [subtopics]\n",
    "        for subtopic in subtopics:\n",
    "            if isinstance(subtopic, str):\n",
    "                subtopic = Subtopic(topic=self.topic, subtopic=subtopic)\n",
    "            subtopic.topic = self.topic\n",
    "            self.subtopics[subtopic.id] = subtopic\n",
    "\n",
    "    def add_dependancies(\n",
    "        self,\n",
    "        id: str,\n",
    "        dependancies: list[Node | str] | Node | str,\n",
    "        mode: Literal[\"pre\", \"post\"] = \"pre\",\n",
    "    ):\n",
    "        if dependancies is None or dependancies == [] or dependancies == \"\":\n",
    "            return\n",
    "        split_id = id.split(\"_\")\n",
    "        if split_id[0] != self.id:\n",
    "            print(f\"ID {id} does not match topic {self.id}\")\n",
    "            return\n",
    "        if not isinstance(dependancies, list):\n",
    "            dependancies = [dependancies]\n",
    "        for dependancy in dependancies:\n",
    "            if isinstance(dependancy, str):\n",
    "                dependancy_id = dependancy\n",
    "            else:\n",
    "                dependancy_id = dependancy.id\n",
    "            if dependancy_id == id:\n",
    "                continue\n",
    "            split_dependancy_id = dependancy_id.split(\"_\")\n",
    "            for i, splits in enumerate(zip(split_id, split_dependancy_id)):\n",
    "                _, s2 = splits\n",
    "                if i == 0:\n",
    "                    if mode == \"pre\":\n",
    "                        self.add_prerequisite_id(s2)\n",
    "                    elif mode == \"post\":\n",
    "                        self.add_postrequisite_id(s2)\n",
    "                elif i == 1:\n",
    "                    subtopic_id = \"_\".join(split_id[:2])\n",
    "                    subtopic_dependancy_id = \"_\".join(split_dependancy_id[:2])\n",
    "                    if mode == \"pre\":\n",
    "                        self.subtopics[subtopic_id].add_prerequisite_id(\n",
    "                            subtopic_dependancy_id\n",
    "                        )\n",
    "                    elif mode == \"post\":\n",
    "                        self.subtopics[subtopic_id].add_postrequisite_id(\n",
    "                            subtopic_dependancy_id\n",
    "                        )\n",
    "                elif i == 2:\n",
    "                    subtopic_id = \"_\".join(split_id[:2])\n",
    "                    concept_id = \"_\".join(split_id[:3])\n",
    "                    concept_dependancy_id = \"_\".join(split_dependancy_id[:3])\n",
    "                    if mode == \"pre\":\n",
    "                        self.subtopics[subtopic_id].concepts[\n",
    "                            concept_id\n",
    "                        ].add_prerequisite_id(concept_dependancy_id)\n",
    "                    elif mode == \"post\":\n",
    "                        self.subtopics[subtopic_id].concepts[\n",
    "                            concept_id\n",
    "                        ].add_postrequisite_id(concept_dependancy_id)\n",
    "                elif i == 3:\n",
    "                    subtopic_id = \"_\".join(split_id[:2])\n",
    "                    concept_id = \"_\".join(split_id[:3])\n",
    "                    question_id = \"_\".join(split_id[:4])\n",
    "                    question_dependancy_id = \"_\".join(split_dependancy_id[:4])\n",
    "                    if mode == \"pre\":\n",
    "                        self.subtopics[subtopic_id].concepts[concept_id].questions[\n",
    "                            question_id\n",
    "                        ].add_prerequisite_id(question_dependancy_id)\n",
    "                    elif mode == \"post\":\n",
    "                        self.subtopics[subtopic_id].concepts[concept_id].questions[\n",
    "                            question_id\n",
    "                        ].add_postrequisite_id(question_dependancy_id)\n",
    "\n",
    "\n",
    "class Topics(BaseModel):\n",
    "    topics: dict[str, Topic] = Field(default_factory=OrderedDict)\n",
    "\n",
    "    def add_topics(\n",
    "        self,\n",
    "        topics: Union[list[Union[\"Topic\", str]], \"Topic\", str] | None = None,\n",
    "    ):\n",
    "        if topics is None or topics == [] or topics == \"\":\n",
    "            return\n",
    "        if not isinstance(topics, list):\n",
    "            topics = [topics]\n",
    "        for topic in topics:\n",
    "            if isinstance(topic, str):\n",
    "                topic = Topic(topic=topic)\n",
    "            self.topics[topic.id] = topic\n",
    "\n",
    "    def add_prerequisites(\n",
    "        self, id: str, prerequisites: list[Node | str] | Node | str | None = None\n",
    "    ):\n",
    "        if prerequisites is None or prerequisites == [] or prerequisites == \"\":\n",
    "            return\n",
    "        self.topics[id].add_dependancies(id=id, dependancies=prerequisites, mode=\"pre\")\n",
    "        if not isinstance(prerequisites, list):\n",
    "            prerequisites = [prerequisites]\n",
    "        for prereq in prerequisites:\n",
    "            if isinstance(prereq, str):\n",
    "                prereq_id = prereq\n",
    "            else:\n",
    "                prereq_id = prereq.id\n",
    "            if prereq_id == id:\n",
    "                continue\n",
    "            self.topics[prereq_id].add_dependancies(\n",
    "                id=prereq_id, dependancies=id, mode=\"post\"\n",
    "            )\n",
    "\n",
    "\n",
    "class Subtopic(Node):\n",
    "    subtopic: str\n",
    "    concepts: dict[str, \"Concept\"] = Field(default_factory=OrderedDict)\n",
    "\n",
    "    def add_concepts(\n",
    "        self,\n",
    "        concepts: Union[list[Union[\"Concept\", str]], \"Concept\", str] | None = None,\n",
    "    ):\n",
    "        if concepts is None or concepts == [] or concepts == \"\":\n",
    "            return\n",
    "        if not isinstance(concepts, list):\n",
    "            concepts = [concepts]\n",
    "        for concept in concepts:\n",
    "            if isinstance(concept, str):\n",
    "                concept = Concept(\n",
    "                    topic=self.topic, subtopic=self.subtopic, concept=concept\n",
    "                )\n",
    "            concept.topic = self.topic\n",
    "            concept.subtopic = self.subtopic\n",
    "            self.concepts[concept.id] = concept\n",
    "\n",
    "\n",
    "class Concept(Node):\n",
    "    subtopic: str\n",
    "    concept: str\n",
    "    questions: dict[str, \"Question\"] = Field(default_factory=OrderedDict)\n",
    "\n",
    "    def add_questions(\n",
    "        self,\n",
    "        questions: Union[list[\"Question\"], \"Question\"] | None = None,\n",
    "    ):\n",
    "        if questions is None or questions == []:\n",
    "            return\n",
    "        if not isinstance(questions, list):\n",
    "            questions = [questions]\n",
    "        for question in questions:\n",
    "            question.topic = self.topic\n",
    "            question.subtopic = self.subtopic\n",
    "            question.concept = self.concept\n",
    "            question.question_number = len(self.questions) + 1\n",
    "            self.questions[question.id] = question\n",
    "\n",
    "\n",
    "class BaseQuestion(BaseModel):\n",
    "    problem: str\n",
    "    solution: str\n",
    "\n",
    "    def problem_solution(self) -> str:\n",
    "        return f\"<problem>\\n{self.problem}\\n</problem>\\n\\n<solution>\\n{self.solution}\\n</solution>\"\n",
    "\n",
    "\n",
    "class Question(Node, BaseQuestion):\n",
    "    subtopic: str\n",
    "    concept: str\n",
    "    question_number: int = 1\n",
    "    subquestions: list[BaseQuestion] = Field(default_factory=list)\n",
    "\n",
    "    def __str__(self) -> str:\n",
    "        return f\"\"\"\n",
    "<id>\n",
    "{self.id}\n",
    "</id>\n",
    "\n",
    "{self.problem_solution()}\n",
    "\"\"\".strip()"
   ]
  },
  {
   "cell_type": "code",
   "execution_count": 3,
   "metadata": {},
   "outputs": [],
   "source": [
    "DAY = 16\n",
    "COURSE = \"math_102\"\n",
    "created_topics_file = Path(f\"{COURSE}_created_topics_may_{DAY}.json\")\n",
    "created_questions_file = Path(f\"{COURSE}_created_questions_may_{DAY}.json\")\n",
    "final_topics_file = Path(f\"{COURSE}_final_topics_may_{DAY}.json\")"
   ]
  },
  {
   "cell_type": "code",
   "execution_count": 4,
   "metadata": {},
   "outputs": [],
   "source": [
    "old_topics = Topics2(**json.load(open(final_topics_file, \"r\")))"
   ]
  },
  {
   "cell_type": "code",
   "execution_count": 5,
   "metadata": {},
   "outputs": [],
   "source": [
    "# 200 dummy questions. cycle through old_topics.groups for values. a group has topic, subtopic, concept\n",
    "questions = defaultdict(list)\n",
    "for i in range(600):\n",
    "    group = old_topics.groups[str(i % len(old_topics.groups))]\n",
    "    topic = group.topic\n",
    "    subtopic = group.subtopic\n",
    "    concept = group.concept\n",
    "    questions[f\"{topic}_{subtopic}_{concept}\"].append(\n",
    "        Question(\n",
    "            topic=topic,\n",
    "            subtopic=subtopic,\n",
    "            concept=concept,\n",
    "            problem=f\"Problem {i}\",\n",
    "            solution=f\"Solution {i}\",\n",
    "        )\n",
    "    )"
   ]
  },
  {
   "cell_type": "code",
   "execution_count": 6,
   "metadata": {},
   "outputs": [],
   "source": [
    "topics = []\n",
    "concepts = []\n",
    "for topic_name, topic in old_topics.topics.items():\n",
    "    t = Topic(topic=topic_name)\n",
    "    for subtopic_name, subtopic in topic.subtopics.items():\n",
    "        s = Subtopic(topic=topic_name, subtopic=subtopic_name)\n",
    "        for concept_name, concept in subtopic.concepts.items():\n",
    "            c = Concept(topic=topic_name, subtopic=subtopic_name, concept=concept_name)\n",
    "            c.add_questions(questions[f\"{topic_name}_{subtopic_name}_{concept_name}\"])\n",
    "            s.add_concepts(c)\n",
    "            concepts.append(c)\n",
    "        t.add_subtopics(s)\n",
    "    topics.append(t)"
   ]
  },
  {
   "cell_type": "code",
   "execution_count": null,
   "metadata": {},
   "outputs": [],
   "source": [
    "MIN_BUTTON_HEIGHT = 35\n",
    "\n",
    "\n",
    "def make_button(\n",
    "    button_id: str, button_name: str, button_args: dict\n",
    ") -> pn.widgets.Button:\n",
    "    button = pn.widgets.Button(\n",
    "        name=button_name,\n",
    "        button_style=button_args[\"button_style\"],\n",
    "        button_type=button_args[\"button_type\"],\n",
    "        sizing_mode=\"stretch_both\",\n",
    "        min_height=MIN_BUTTON_HEIGHT,\n",
    "    )\n",
    "    button.id = button_id  # type: ignore\n",
    "    return button"
   ]
  },
  {
   "cell_type": "code",
   "execution_count": null,
   "metadata": {},
   "outputs": [],
   "source": []
  },
  {
   "cell_type": "code",
   "execution_count": null,
   "metadata": {},
   "outputs": [],
   "source": []
  },
  {
   "cell_type": "code",
   "execution_count": null,
   "metadata": {},
   "outputs": [],
   "source": []
  },
  {
   "cell_type": "code",
   "execution_count": null,
   "metadata": {},
   "outputs": [],
   "source": [
    "# math_102_text = Path(f\"{COURSE}.txt\").read_text()"
   ]
  },
  {
   "cell_type": "code",
   "execution_count": null,
   "metadata": {
    "metadata": {}
   },
   "outputs": [],
   "source": [
    "# created_topics = [\n",
    "#     create_topic(topic, model=ModelName.GPT_4, attempts=2)\n",
    "#     for topic in math_102_text.splitlines()\n",
    "# ]"
   ]
  },
  {
   "cell_type": "code",
   "execution_count": null,
   "metadata": {
    "metadata": {}
   },
   "outputs": [],
   "source": [
    "# topics = Topics(topics={topic.name: topic for topic in created_topics if topic})"
   ]
  },
  {
   "cell_type": "code",
   "execution_count": null,
   "metadata": {},
   "outputs": [],
   "source": [
    "# topics.create_groups(model=ModelName.GPT_4, attempts=ATTEMPTS, max_tokens=MAX_TOKENS)"
   ]
  },
  {
   "cell_type": "code",
   "execution_count": null,
   "metadata": {},
   "outputs": [],
   "source": [
    "# with open(created_topics_file, \"w\") as f:\n",
    "#     json.dump(topics.model_dump(), f, indent=2)"
   ]
  },
  {
   "cell_type": "code",
   "execution_count": null,
   "metadata": {},
   "outputs": [],
   "source": [
    "topics = Topics(**json.load(open(created_topics_file)))"
   ]
  },
  {
   "cell_type": "code",
   "execution_count": null,
   "metadata": {},
   "outputs": [],
   "source": [
    "questions_dir = Path(f\"{COURSE}_questions\")\n",
    "questions = {\n",
    "    json.loads(question_file.read_text())[\"id\"]: Question(\n",
    "        **json.loads(question_file.read_text())\n",
    "    )\n",
    "    for folder in questions_dir.iterdir()\n",
    "    for question_file in list(folder.glob(\"*.json\"))[:QUESTIONS_PER_FOLDER]\n",
    "}"
   ]
  },
  {
   "cell_type": "code",
   "execution_count": null,
   "metadata": {},
   "outputs": [],
   "source": [
    "done_questions = {\n",
    "    question.id: question for question in questions.values() if question.group_id\n",
    "}\n",
    "len(done_questions)"
   ]
  },
  {
   "cell_type": "code",
   "execution_count": null,
   "metadata": {},
   "outputs": [],
   "source": [
    "len(questions)"
   ]
  },
  {
   "cell_type": "code",
   "execution_count": null,
   "metadata": {},
   "outputs": [],
   "source": [
    "counter = 0\n",
    "n_questions = len(questions)\n",
    "for id, question in questions.items():\n",
    "    print(f\"Question {counter + 1}/{n_questions}\")\n",
    "    if counter >= n_questions:\n",
    "        break\n",
    "    if question.group_id != \"\":\n",
    "        continue\n",
    "    question.assign_group(topics=topics, model=ModelName.GPT_4)\n",
    "    question.add_subquestions(model=ModelName.GPT_4)\n",
    "    questions[id] = question\n",
    "    counter += 1"
   ]
  },
  {
   "cell_type": "code",
   "execution_count": null,
   "metadata": {},
   "outputs": [],
   "source": [
    "with open(final_topics_file, \"w\") as f:\n",
    "    json.dump(topics.model_dump(), f, indent=2)"
   ]
  },
  {
   "cell_type": "code",
   "execution_count": null,
   "metadata": {},
   "outputs": [],
   "source": [
    "with open(created_questions_file, \"w\") as f:\n",
    "    json.dump(\n",
    "        {id: question.model_dump() for id, question in questions.items()}, f, indent=2\n",
    "    )"
   ]
  },
  {
   "cell_type": "code",
   "execution_count": null,
   "metadata": {
    "metadata": {}
   },
   "outputs": [],
   "source": [
    "# pdf_file = \"/media/hamza/data2/algebra.pdf\"\n",
    "# collection_name = \"algebra_collection\""
   ]
  },
  {
   "cell_type": "code",
   "execution_count": null,
   "metadata": {
    "metadata": {}
   },
   "outputs": [],
   "source": [
    "# pdf_collection = pdf_to_collection(\n",
    "#     pdf_file,\n",
    "#     collection_name=collection_name,\n",
    "#     chunk_size=4000,\n",
    "#     chunk_overlap=200,\n",
    "#     device=\"cuda\",\n",
    "#     delete_existing=True,\n",
    "# )"
   ]
  },
  {
   "cell_type": "code",
   "execution_count": null,
   "metadata": {
    "metadata": {}
   },
   "outputs": [],
   "source": [
    "# pdf_collection = chroma_collection(name=collection_name, delete_existing=False)\n",
    "# pdf_collection.count()"
   ]
  },
  {
   "cell_type": "code",
   "execution_count": null,
   "metadata": {},
   "outputs": [],
   "source": [
    "import pandas as pd"
   ]
  },
  {
   "cell_type": "code",
   "execution_count": null,
   "metadata": {},
   "outputs": [],
   "source": [
    "df = pd.DataFrame({\"a\": [1, 2, 3], \"b\": [\"a\", \"b\", \"c\"]})\n",
    "df"
   ]
  },
  {
   "cell_type": "code",
   "execution_count": null,
   "metadata": {},
   "outputs": [],
   "source": []
  }
 ],
 "metadata": {
  "kernelspec": {
   "display_name": ".venv",
   "language": "python",
   "name": "python3"
  },
  "language_info": {
   "codemirror_mode": {
    "name": "ipython",
    "version": 3
   },
   "file_extension": ".py",
   "mimetype": "text/x-python",
   "name": "python",
   "nbconvert_exporter": "python",
   "pygments_lexer": "ipython3",
   "version": "3.11.5"
  }
 },
 "nbformat": 4,
 "nbformat_minor": 2
}
