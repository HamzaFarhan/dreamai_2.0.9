{
 "cells": [
  {
   "cell_type": "code",
   "execution_count": 1,
   "metadata": {},
   "outputs": [
    {
     "name": "stdout",
     "output_type": "stream",
     "text": [
      "The autoreload extension is already loaded. To reload it, use:\n",
      "  %reload_ext autoreload\n"
     ]
    }
   ],
   "source": [
    "import json\n",
    "import os\n",
    "from pathlib import Path\n",
    "from uuid import uuid4\n",
    "from typing import Iterable\n",
    "\n",
    "from job_code import UserProfile, create_user_profile, extract_pdf_text, create_job_post\n",
    "\n",
    "from dreamai.chroma import chroma_collection\n",
    "\n",
    "%load_ext autoreload\n",
    "%autoreload 2\n",
    "%reload_ext autoreload"
   ]
  },
  {
   "cell_type": "code",
   "execution_count": 3,
   "metadata": {},
   "outputs": [],
   "source": [
    "resumes_dir = Path(\"/home/hamza/dev/HF/resume/resumes\")"
   ]
  },
  {
   "cell_type": "code",
   "execution_count": 5,
   "metadata": {},
   "outputs": [],
   "source": [
    "collection = chroma_collection(\"user_profiles\")"
   ]
  },
  {
   "cell_type": "code",
   "execution_count": 6,
   "metadata": {},
   "outputs": [],
   "source": [
    "# collection.add(**user_profile_docs)"
   ]
  },
  {
   "cell_type": "code",
   "execution_count": 7,
   "metadata": {},
   "outputs": [
    {
     "data": {
      "text/plain": [
       "3"
      ]
     },
     "execution_count": 7,
     "metadata": {},
     "output_type": "execute_result"
    }
   ],
   "source": [
    "collection.count()"
   ]
  },
  {
   "cell_type": "markdown",
   "metadata": {},
   "source": [
    "We at Creative Solutions Ltd are looking for a talented UX/UI Designer to join our design team. The ideal candidate will be responsible for creating intuitive and visually appealing user interfaces for web and mobile applications. The candidate should have proficiency in Adobe Creative Suite, Sketch, Figma, user research methodologies, wireframing, and prototyping. A Bachelor's degree in Design, HCI, or related field is required, along with a minimum of 2 years of experience in UX/UI design.\n",
    "\n",
    "DreamAI is looking for a data scientist to join our team. The ideal candidate will have a strong background in machine learning, statistics, and programming. The candidate should have experience working with large datasets, building predictive models, and deploying machine learning algorithms. A Master's degree in Computer Science, Statistics, or related field is required, along with a minimum of 3 years of experience in data science."
   ]
  },
  {
   "cell_type": "markdown",
   "metadata": {},
   "source": [
    "DEMO\n",
    "\n",
    "JOB: 1\n",
    "RESUME: 3"
   ]
  }
 ],
 "metadata": {
  "kernelspec": {
   "display_name": ".venv",
   "language": "python",
   "name": "python3"
  },
  "language_info": {
   "codemirror_mode": {
    "name": "ipython",
    "version": 3
   },
   "file_extension": ".py",
   "mimetype": "text/x-python",
   "name": "python",
   "nbconvert_exporter": "python",
   "pygments_lexer": "ipython3",
   "version": "3.11.5"
  }
 },
 "nbformat": 4,
 "nbformat_minor": 2
}
