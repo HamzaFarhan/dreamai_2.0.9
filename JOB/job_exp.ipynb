{
 "cells": [
  {
   "cell_type": "code",
   "execution_count": 1,
   "metadata": {},
   "outputs": [
    {
     "name": "stdout",
     "output_type": "stream",
     "text": [
      "The autoreload extension is already loaded. To reload it, use:\n",
      "  %reload_ext autoreload\n"
     ]
    }
   ],
   "source": [
    "import json\n",
    "import os\n",
    "from collections import defaultdict\n",
    "from datetime import datetime\n",
    "from enum import Enum\n",
    "from pathlib import Path\n",
    "from typing import Protocol, Sequence, Optional\n",
    "from uuid import uuid4\n",
    "\n",
    "import anthropic\n",
    "import instructor\n",
    "import openai\n",
    "import pandas as pd\n",
    "from chromadb import Collection as ChromaCollection\n",
    "from dotenv import load_dotenv\n",
    "from pydantic import BaseModel, Field\n",
    "from pypdf import PdfReader\n",
    "from streamlit.runtime.uploaded_file_manager import UploadedFile\n",
    "\n",
    "from dreamai.ai import (\n",
    "    ModelName,\n",
    "    user_message,\n",
    "    merge_same_role_messages,\n",
    "    system_message,\n",
    "    assistant_message,\n",
    "    oai_response,\n",
    ")\n",
    "from dreamai.chroma import chroma_collection\n",
    "\n",
    "load_dotenv()\n",
    "\n",
    "ask_oai = instructor.from_openai(openai.OpenAI())\n",
    "ask_cld = instructor.from_anthropic(anthropic.Anthropic())\n",
    "\n",
    "%load_ext autoreload\n",
    "%autoreload 2\n",
    "%reload_ext autoreload"
   ]
  },
  {
   "cell_type": "code",
   "execution_count": 3,
   "metadata": {},
   "outputs": [],
   "source": [
    "res = ask_cld.create(\n",
    "    response_model=None,\n",
    "    max_tokens=10,\n",
    "    messages=[user_message(\"What is the capital of France?\")],\n",
    ")"
   ]
  },
  {
   "cell_type": "code",
   "execution_count": 5,
   "metadata": {},
   "outputs": [],
   "source": [
    "collection = chroma_collection(\"user_profiles\")"
   ]
  },
  {
   "cell_type": "code",
   "execution_count": 6,
   "metadata": {},
   "outputs": [],
   "source": [
    "# collection.add(**user_profile_docs)"
   ]
  },
  {
   "cell_type": "markdown",
   "metadata": {},
   "source": [
    "We at Creative Solutions Ltd are looking for a talented UX/UI Designer to join our design team. The ideal candidate will be responsible for creating intuitive and visually appealing user interfaces for web and mobile applications. The candidate should have proficiency in Adobe Creative Suite, Sketch, Figma, user research methodologies, wireframing, and prototyping. A Bachelor's degree in Design, HCI, or related field is required, along with a minimum of 2 years of experience in UX/UI design.\n",
    "\n",
    "DreamAI is looking for a data scientist to join our team. The ideal candidate will have a strong background in machine learning, statistics, and programming. The candidate should have experience working with large datasets, building predictive models, and deploying machine learning algorithms. A Master's degree in Computer Science, Statistics, or related field is required, along with a minimum of 3 years of experience in data science."
   ]
  },
  {
   "cell_type": "markdown",
   "metadata": {},
   "source": [
    "DEMO\n",
    "\n",
    "JOB: 1\n",
    "RESUME: 3"
   ]
  }
 ],
 "metadata": {
  "kernelspec": {
   "display_name": ".venv",
   "language": "python",
   "name": "python3"
  },
  "language_info": {
   "codemirror_mode": {
    "name": "ipython",
    "version": 3
   },
   "file_extension": ".py",
   "mimetype": "text/x-python",
   "name": "python",
   "nbconvert_exporter": "python",
   "pygments_lexer": "ipython3",
   "version": "3.11.5"
  }
 },
 "nbformat": 4,
 "nbformat_minor": 2
}
